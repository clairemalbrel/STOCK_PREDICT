{
 "cells": [
  {
   "cell_type": "markdown",
   "metadata": {},
   "source": [
    "<div class=\"span5 alert alert-info\">\n",
    "<h1>Stock Market Price Prediction with New Data</h1>\n",
    "\n",
    "<p><b>Breif Overview:</b> \n",
    "    <br/><br/>\n",
    "The model created below is for prediction the stock prices of a Company.\n",
    "<br/>\n",
    "There are two datasets\n",
    "<br/><br/>\n",
    "1. Stock Prices Dataset for Dow Jones Inc\n",
    "<br/><br/>\n",
    "2. Top 25 headlines for everyday for the past 8 years\n",
    "<br/><br/>\n",
    "The notebook is briefly summarized as follows:\n",
    "<br/><br/>\n",
    "1. Data Preparation - Preparing data for evaluation.\n",
    "<br/><br/>\n",
    "2. Data Quality Checks - Performing basic checks on data for better understanding of data.\n",
    "<br/><br/>\n",
    "3. Feature inspection and filtering - Correlation and feature Mutual information plots against the target variable. Inspection of the Binary, categorical and other variables.\n",
    "<br/><br/>\n",
    "4. Feature importance ranking via learning models\n",
    "<br/><br/>\n",
    "5. Training - training data against multiple machine learning algorthms and fine tuning a couple of algorithms for accuracy\n",
    "    <br/>\n",
    "</p> </div>"
   ]
  },
  {
   "cell_type": "code",
   "execution_count": 1,
   "metadata": {},
   "outputs": [
    {
     "name": "stderr",
     "output_type": "stream",
     "text": [
      "/Library/Frameworks/Python.framework/Versions/2.7/lib/python2.7/site-packages/sklearn/cross_validation.py:44: DeprecationWarning: This module was deprecated in version 0.18 in favor of the model_selection module into which all the refactored classes and functions are moved. Also note that the interface of the new CV iterators are different from that of this module. This module will be removed in 0.20.\n",
      "  \"This module will be removed in 0.20.\", DeprecationWarning)\n"
     ]
    }
   ],
   "source": [
    "import pandas as pd\n",
    "import numpy as np\n",
    "import warnings\n",
    "from matplotlib import pyplot\n",
    "#from pandas import read_csv, set_option\n",
    "from pandas import Series, datetime\n",
    "from pandas.tools.plotting import scatter_matrix, autocorrelation_plot\n",
    "from sklearn.preprocessing import StandardScaler\n",
    "from sklearn.model_selection import train_test_split, KFold, cross_val_score, GridSearchCV, TimeSeriesSplit\n",
    "from sklearn.metrics import classification_report, confusion_matrix, accuracy_score, mean_squared_error\n",
    "from sklearn.pipeline import Pipeline\n",
    "from sklearn.linear_model import LogisticRegression\n",
    "from sklearn.tree import DecisionTreeClassifier\n",
    "from sklearn.neighbors import KNeighborsClassifier\n",
    "from sklearn.discriminant_analysis import LinearDiscriminantAnalysis\n",
    "from sklearn.naive_bayes import GaussianNB\n",
    "from sklearn.svm import SVC\n",
    "from sklearn.ensemble import AdaBoostClassifier, GradientBoostingClassifier, RandomForestClassifier, ExtraTreesClassifier\n",
    "from sklearn.metrics import roc_curve, auc\n",
    "import matplotlib.pyplot as plt\n",
    "import random\n",
    "from statsmodels.graphics.tsaplots import plot_acf, plot_pacf\n",
    "from statsmodels.tsa.arima_model import ARIMA\n",
    "from xgboost import XGBClassifier\n",
    "import seaborn as sns"
   ]
  },
  {
   "cell_type": "markdown",
   "metadata": {},
   "source": [
    "<div class=\"span5 alert alert-info\">\n",
    "<h3>1. Data Preparation:</h3>\n",
    "<br/>\n",
    "Imported all the necessary modules for the project\n",
    "<br/><br/>\n",
    "Loaded the dataset as a dataframe and parsed the date column to be read by the dataframe as dates type\n",
    "Checked the top 5 rows of the dataframe to see how the columns are aligned.\n",
    "<br/><br/>\n",
    "The 'combined_stock_data.csv' initially only had the headlines(Top1 through Top25). Each row was iterated over an algorithm which generated the Subjectivity, Objectivity, Positive, Negative, Neutral sentiments of the respective headlines of each row.\n",
    "<br/><br/>\n",
    "The algorithm was accepting only a single sentence and was providing the respective sentiments in percentage. I modified the algorithm iterate over all of the individuals rows and simultaneously create the Subjectivity, Objectivity, Negative, Positive, Neutral values and assign itself to the columns in the dataframe.\n",
    "<br/><br/>\n",
    "The headlines Top1 through Top25 were concatenated and then passed on to the algorithm\n",
    "<br/><br/>\n",
    "The original algorithm : https://github.com/nik0spapp/usent\n",
    "<br/><br/>\n",
    "Modified algorithm : https://github.com/ShreyamsJain/Stock-Price-Prediction-Model/blob/master/Sentence_Polarity/sentiment.py\n",
    "<br/>\n",
    "</p>\n",
    "</div>"
   ]
  },
  {
   "cell_type": "code",
   "execution_count": 2,
   "metadata": {},
   "outputs": [],
   "source": [
    "# Loading the dataset to a dataframe\n",
    "sentence_file = \"Sentence_Polarity/combined_stock_data.csv\"\n",
    "sentence_df = pd.read_csv(sentence_file, parse_dates=[1])"
   ]
  },
  {
   "cell_type": "code",
   "execution_count": 3,
   "metadata": {},
   "outputs": [
    {
     "data": {
      "text/html": [
       "<div>\n",
       "<table border=\"1\" class=\"dataframe\">\n",
       "  <thead>\n",
       "    <tr style=\"text-align: right;\">\n",
       "      <th></th>\n",
       "      <th>Unnamed: 0</th>\n",
       "      <th>Date</th>\n",
       "      <th>Label</th>\n",
       "      <th>Top1</th>\n",
       "      <th>Top2</th>\n",
       "      <th>Top3</th>\n",
       "      <th>Top4</th>\n",
       "      <th>Top5</th>\n",
       "      <th>Top6</th>\n",
       "      <th>Top7</th>\n",
       "      <th>...</th>\n",
       "      <th>Top22</th>\n",
       "      <th>Top23</th>\n",
       "      <th>Top24</th>\n",
       "      <th>Top25</th>\n",
       "      <th>Para</th>\n",
       "      <th>Subjectivity</th>\n",
       "      <th>Objectivity</th>\n",
       "      <th>Positive</th>\n",
       "      <th>Neutral</th>\n",
       "      <th>Negative</th>\n",
       "    </tr>\n",
       "  </thead>\n",
       "  <tbody>\n",
       "    <tr>\n",
       "      <th>0</th>\n",
       "      <td>0</td>\n",
       "      <td>2008-08-08</td>\n",
       "      <td>0</td>\n",
       "      <td>b\"Georgia 'downs two Russian warplanes' as cou...</td>\n",
       "      <td>b'BREAKING: Musharraf to be impeached.'</td>\n",
       "      <td>b'Russia Today: Columns of troops roll into So...</td>\n",
       "      <td>b'Russian tanks are moving towards the capital...</td>\n",
       "      <td>b\"Afghan children raped with 'impunity,' U.N. ...</td>\n",
       "      <td>b'150 Russian tanks have entered South Ossetia...</td>\n",
       "      <td>b\"Breaking: Georgia invades South Ossetia, Rus...</td>\n",
       "      <td>...</td>\n",
       "      <td>b'Caucasus in crisis: Georgia invades South Os...</td>\n",
       "      <td>b'Indian shoe manufactory  - And again in a se...</td>\n",
       "      <td>b'Visitors Suffering from Mental Illnesses Ban...</td>\n",
       "      <td>b\"No Help for Mexico's Kidnapping Surge\"</td>\n",
       "      <td>b\"Georgia 'downs two Russian warplanes' as cou...</td>\n",
       "      <td>75.000000</td>\n",
       "      <td>25.000000</td>\n",
       "      <td>18.750000</td>\n",
       "      <td>25.000000</td>\n",
       "      <td>56.250000</td>\n",
       "    </tr>\n",
       "    <tr>\n",
       "      <th>1</th>\n",
       "      <td>1</td>\n",
       "      <td>2008-08-11</td>\n",
       "      <td>1</td>\n",
       "      <td>b'Why wont America and Nato help us? If they w...</td>\n",
       "      <td>b'Bush puts foot down on Georgian conflict'</td>\n",
       "      <td>b\"Jewish Georgian minister: Thanks to Israeli ...</td>\n",
       "      <td>b'Georgian army flees in disarray as Russians ...</td>\n",
       "      <td>b\"Olympic opening ceremony fireworks 'faked'\"</td>\n",
       "      <td>b'What were the Mossad with fraudulent New Zea...</td>\n",
       "      <td>b'Russia angered by Israeli military sale to G...</td>\n",
       "      <td>...</td>\n",
       "      <td>b' Russia has just beaten the United States ov...</td>\n",
       "      <td>b'Perhaps *the* question about the Georgia - R...</td>\n",
       "      <td>b'Russia is so much better at war'</td>\n",
       "      <td>b\"So this is what it's come to: trading sex fo...</td>\n",
       "      <td>b'Why wont America and Nato help us? If they w...</td>\n",
       "      <td>83.333333</td>\n",
       "      <td>16.666667</td>\n",
       "      <td>41.666667</td>\n",
       "      <td>16.666667</td>\n",
       "      <td>41.666667</td>\n",
       "    </tr>\n",
       "    <tr>\n",
       "      <th>2</th>\n",
       "      <td>2</td>\n",
       "      <td>2008-08-12</td>\n",
       "      <td>0</td>\n",
       "      <td>b'Remember that adorable 9-year-old who sang a...</td>\n",
       "      <td>b\"Russia 'ends Georgia operation'\"</td>\n",
       "      <td>b'\"If we had no sexual harassment we would hav...</td>\n",
       "      <td>b\"Al-Qa'eda is losing support in Iraq because ...</td>\n",
       "      <td>b'Ceasefire in Georgia: Putin Outmaneuvers the...</td>\n",
       "      <td>b'Why Microsoft and Intel tried to kill the XO...</td>\n",
       "      <td>b'Stratfor: The Russo-Georgian War and the Bal...</td>\n",
       "      <td>...</td>\n",
       "      <td>b'All signs point to the US encouraging Georgi...</td>\n",
       "      <td>b'Christopher King argues that the US and NATO...</td>\n",
       "      <td>b'America: The New Mexico?'</td>\n",
       "      <td>b\"BBC NEWS | Asia-Pacific | Extinction 'by man...</td>\n",
       "      <td>b'Remember that adorable 9-year-old who sang a...</td>\n",
       "      <td>56.250000</td>\n",
       "      <td>43.750000</td>\n",
       "      <td>18.750000</td>\n",
       "      <td>43.750000</td>\n",
       "      <td>37.500000</td>\n",
       "    </tr>\n",
       "    <tr>\n",
       "      <th>3</th>\n",
       "      <td>3</td>\n",
       "      <td>2008-08-13</td>\n",
       "      <td>0</td>\n",
       "      <td>b' U.S. refuses Israel weapons to attack Iran:...</td>\n",
       "      <td>b\"When the president ordered to attack Tskhinv...</td>\n",
       "      <td>b' Israel clears troops who killed Reuters cam...</td>\n",
       "      <td>b'Britain\\'s policy of being tough on drugs is...</td>\n",
       "      <td>b'Body of 14 year old found in trunk; Latest (...</td>\n",
       "      <td>b'China has moved 10 *million* quake survivors...</td>\n",
       "      <td>b\"Bush announces Operation Get All Up In Russi...</td>\n",
       "      <td>...</td>\n",
       "      <td>b'Witness: Russian forces head towards Tbilisi...</td>\n",
       "      <td>b' Quarter of Russians blame U.S. for conflict...</td>\n",
       "      <td>b'Georgian president  says US military will ta...</td>\n",
       "      <td>b'2006: Nobel laureate Aleksander Solzhenitsyn...</td>\n",
       "      <td>b' U.S. refuses Israel weapons to attack Iran:...</td>\n",
       "      <td>38.461538</td>\n",
       "      <td>61.538462</td>\n",
       "      <td>15.384615</td>\n",
       "      <td>61.538462</td>\n",
       "      <td>23.076923</td>\n",
       "    </tr>\n",
       "    <tr>\n",
       "      <th>4</th>\n",
       "      <td>4</td>\n",
       "      <td>2008-08-14</td>\n",
       "      <td>1</td>\n",
       "      <td>b'All the experts admit that we should legalis...</td>\n",
       "      <td>b'War in South Osetia - 89 pictures made by a ...</td>\n",
       "      <td>b'Swedish wrestler Ara Abrahamian throws away ...</td>\n",
       "      <td>b'Russia exaggerated the death toll in South O...</td>\n",
       "      <td>b'Missile That Killed 9 Inside Pakistan May Ha...</td>\n",
       "      <td>b\"Rushdie Condemns Random House's Refusal to P...</td>\n",
       "      <td>b'Poland and US agree to missle defense deal. ...</td>\n",
       "      <td>...</td>\n",
       "      <td>b'Taliban wages war on humanitarian aid workers'</td>\n",
       "      <td>b'Russia: World  \"can forget about\" Georgia\\'s...</td>\n",
       "      <td>b'Darfur rebels accuse Sudan of mounting major...</td>\n",
       "      <td>b'Philippines : Peace Advocate say Muslims nee...</td>\n",
       "      <td>b'All the experts admit that we should legalis...</td>\n",
       "      <td>45.454545</td>\n",
       "      <td>54.545455</td>\n",
       "      <td>36.363636</td>\n",
       "      <td>54.545455</td>\n",
       "      <td>9.090909</td>\n",
       "    </tr>\n",
       "  </tbody>\n",
       "</table>\n",
       "<p>5 rows × 34 columns</p>\n",
       "</div>"
      ],
      "text/plain": [
       "   Unnamed: 0       Date  Label  \\\n",
       "0           0 2008-08-08      0   \n",
       "1           1 2008-08-11      1   \n",
       "2           2 2008-08-12      0   \n",
       "3           3 2008-08-13      0   \n",
       "4           4 2008-08-14      1   \n",
       "\n",
       "                                                Top1  \\\n",
       "0  b\"Georgia 'downs two Russian warplanes' as cou...   \n",
       "1  b'Why wont America and Nato help us? If they w...   \n",
       "2  b'Remember that adorable 9-year-old who sang a...   \n",
       "3  b' U.S. refuses Israel weapons to attack Iran:...   \n",
       "4  b'All the experts admit that we should legalis...   \n",
       "\n",
       "                                                Top2  \\\n",
       "0            b'BREAKING: Musharraf to be impeached.'   \n",
       "1        b'Bush puts foot down on Georgian conflict'   \n",
       "2                 b\"Russia 'ends Georgia operation'\"   \n",
       "3  b\"When the president ordered to attack Tskhinv...   \n",
       "4  b'War in South Osetia - 89 pictures made by a ...   \n",
       "\n",
       "                                                Top3  \\\n",
       "0  b'Russia Today: Columns of troops roll into So...   \n",
       "1  b\"Jewish Georgian minister: Thanks to Israeli ...   \n",
       "2  b'\"If we had no sexual harassment we would hav...   \n",
       "3  b' Israel clears troops who killed Reuters cam...   \n",
       "4  b'Swedish wrestler Ara Abrahamian throws away ...   \n",
       "\n",
       "                                                Top4  \\\n",
       "0  b'Russian tanks are moving towards the capital...   \n",
       "1  b'Georgian army flees in disarray as Russians ...   \n",
       "2  b\"Al-Qa'eda is losing support in Iraq because ...   \n",
       "3  b'Britain\\'s policy of being tough on drugs is...   \n",
       "4  b'Russia exaggerated the death toll in South O...   \n",
       "\n",
       "                                                Top5  \\\n",
       "0  b\"Afghan children raped with 'impunity,' U.N. ...   \n",
       "1      b\"Olympic opening ceremony fireworks 'faked'\"   \n",
       "2  b'Ceasefire in Georgia: Putin Outmaneuvers the...   \n",
       "3  b'Body of 14 year old found in trunk; Latest (...   \n",
       "4  b'Missile That Killed 9 Inside Pakistan May Ha...   \n",
       "\n",
       "                                                Top6  \\\n",
       "0  b'150 Russian tanks have entered South Ossetia...   \n",
       "1  b'What were the Mossad with fraudulent New Zea...   \n",
       "2  b'Why Microsoft and Intel tried to kill the XO...   \n",
       "3  b'China has moved 10 *million* quake survivors...   \n",
       "4  b\"Rushdie Condemns Random House's Refusal to P...   \n",
       "\n",
       "                                                Top7    ...      \\\n",
       "0  b\"Breaking: Georgia invades South Ossetia, Rus...    ...       \n",
       "1  b'Russia angered by Israeli military sale to G...    ...       \n",
       "2  b'Stratfor: The Russo-Georgian War and the Bal...    ...       \n",
       "3  b\"Bush announces Operation Get All Up In Russi...    ...       \n",
       "4  b'Poland and US agree to missle defense deal. ...    ...       \n",
       "\n",
       "                                               Top22  \\\n",
       "0  b'Caucasus in crisis: Georgia invades South Os...   \n",
       "1  b' Russia has just beaten the United States ov...   \n",
       "2  b'All signs point to the US encouraging Georgi...   \n",
       "3  b'Witness: Russian forces head towards Tbilisi...   \n",
       "4   b'Taliban wages war on humanitarian aid workers'   \n",
       "\n",
       "                                               Top23  \\\n",
       "0  b'Indian shoe manufactory  - And again in a se...   \n",
       "1  b'Perhaps *the* question about the Georgia - R...   \n",
       "2  b'Christopher King argues that the US and NATO...   \n",
       "3  b' Quarter of Russians blame U.S. for conflict...   \n",
       "4  b'Russia: World  \"can forget about\" Georgia\\'s...   \n",
       "\n",
       "                                               Top24  \\\n",
       "0  b'Visitors Suffering from Mental Illnesses Ban...   \n",
       "1                 b'Russia is so much better at war'   \n",
       "2                        b'America: The New Mexico?'   \n",
       "3  b'Georgian president  says US military will ta...   \n",
       "4  b'Darfur rebels accuse Sudan of mounting major...   \n",
       "\n",
       "                                               Top25  \\\n",
       "0           b\"No Help for Mexico's Kidnapping Surge\"   \n",
       "1  b\"So this is what it's come to: trading sex fo...   \n",
       "2  b\"BBC NEWS | Asia-Pacific | Extinction 'by man...   \n",
       "3  b'2006: Nobel laureate Aleksander Solzhenitsyn...   \n",
       "4  b'Philippines : Peace Advocate say Muslims nee...   \n",
       "\n",
       "                                                Para Subjectivity Objectivity  \\\n",
       "0  b\"Georgia 'downs two Russian warplanes' as cou...    75.000000   25.000000   \n",
       "1  b'Why wont America and Nato help us? If they w...    83.333333   16.666667   \n",
       "2  b'Remember that adorable 9-year-old who sang a...    56.250000   43.750000   \n",
       "3  b' U.S. refuses Israel weapons to attack Iran:...    38.461538   61.538462   \n",
       "4  b'All the experts admit that we should legalis...    45.454545   54.545455   \n",
       "\n",
       "    Positive    Neutral   Negative  \n",
       "0  18.750000  25.000000  56.250000  \n",
       "1  41.666667  16.666667  41.666667  \n",
       "2  18.750000  43.750000  37.500000  \n",
       "3  15.384615  61.538462  23.076923  \n",
       "4  36.363636  54.545455   9.090909  \n",
       "\n",
       "[5 rows x 34 columns]"
      ]
     },
     "execution_count": 3,
     "metadata": {},
     "output_type": "execute_result"
    }
   ],
   "source": [
    "sentence_df.head()"
   ]
  },
  {
   "cell_type": "markdown",
   "metadata": {},
   "source": [
    "<div class=\"span5 alert alert-info\">\n",
    "<p>\n",
    "Checked the datatypes of all of the columns. Below is the list of data types\n",
    "<p>\n",
    "</div>"
   ]
  },
  {
   "cell_type": "code",
   "execution_count": 4,
   "metadata": {},
   "outputs": [
    {
     "name": "stdout",
     "output_type": "stream",
     "text": [
      "(1989, 34)\n",
      "Unnamed: 0               int64\n",
      "Date            datetime64[ns]\n",
      "Label                    int64\n",
      "Top1                    object\n",
      "Top2                    object\n",
      "Top3                    object\n",
      "Top4                    object\n",
      "Top5                    object\n",
      "Top6                    object\n",
      "Top7                    object\n",
      "Top8                    object\n",
      "Top9                    object\n",
      "Top10                   object\n",
      "Top11                   object\n",
      "Top12                   object\n",
      "Top13                   object\n",
      "Top14                   object\n",
      "Top15                   object\n",
      "Top16                   object\n",
      "Top17                   object\n",
      "Top18                   object\n",
      "Top19                   object\n",
      "Top20                   object\n",
      "Top21                   object\n",
      "Top22                   object\n",
      "Top23                   object\n",
      "Top24                   object\n",
      "Top25                   object\n",
      "Para                    object\n",
      "Subjectivity           float64\n",
      "Objectivity            float64\n",
      "Positive               float64\n",
      "Neutral                float64\n",
      "Negative               float64\n",
      "dtype: object\n"
     ]
    }
   ],
   "source": [
    "# Check the shape and data types of the dataframe\n",
    "print(sentence_df.shape)\n",
    "print(sentence_df.dtypes)"
   ]
  },
  {
   "cell_type": "markdown",
   "metadata": {},
   "source": [
    "<div class=\"span5 alert alert-info\">\n",
    "<p>\n",
    "Load the Dow Jones dataset to a dataframe stock_data which contains 8 years of Stock Price data.\n",
    "<br/><br/>\n",
    "Parse the date as a date type and check the top 5 rows of the dataframe.\n",
    "<br/><br/>\n",
    "Checked the top 5 rows of the dataframe\n",
    "</p>\n",
    "</div>"
   ]
  },
  {
   "cell_type": "code",
   "execution_count": 5,
   "metadata": {},
   "outputs": [
    {
     "data": {
      "text/html": [
       "<div>\n",
       "<table border=\"1\" class=\"dataframe\">\n",
       "  <thead>\n",
       "    <tr style=\"text-align: right;\">\n",
       "      <th></th>\n",
       "      <th>Date</th>\n",
       "      <th>Open</th>\n",
       "      <th>High</th>\n",
       "      <th>Low</th>\n",
       "      <th>Close</th>\n",
       "      <th>Volume</th>\n",
       "      <th>Adj Close</th>\n",
       "    </tr>\n",
       "  </thead>\n",
       "  <tbody>\n",
       "    <tr>\n",
       "      <th>0</th>\n",
       "      <td>2016-07-01</td>\n",
       "      <td>17924.240234</td>\n",
       "      <td>18002.380859</td>\n",
       "      <td>17916.910156</td>\n",
       "      <td>17949.369141</td>\n",
       "      <td>82160000</td>\n",
       "      <td>17949.369141</td>\n",
       "    </tr>\n",
       "    <tr>\n",
       "      <th>1</th>\n",
       "      <td>2016-06-30</td>\n",
       "      <td>17712.759766</td>\n",
       "      <td>17930.609375</td>\n",
       "      <td>17711.800781</td>\n",
       "      <td>17929.990234</td>\n",
       "      <td>133030000</td>\n",
       "      <td>17929.990234</td>\n",
       "    </tr>\n",
       "    <tr>\n",
       "      <th>2</th>\n",
       "      <td>2016-06-29</td>\n",
       "      <td>17456.019531</td>\n",
       "      <td>17704.509766</td>\n",
       "      <td>17456.019531</td>\n",
       "      <td>17694.679688</td>\n",
       "      <td>106380000</td>\n",
       "      <td>17694.679688</td>\n",
       "    </tr>\n",
       "    <tr>\n",
       "      <th>3</th>\n",
       "      <td>2016-06-28</td>\n",
       "      <td>17190.509766</td>\n",
       "      <td>17409.720703</td>\n",
       "      <td>17190.509766</td>\n",
       "      <td>17409.720703</td>\n",
       "      <td>112190000</td>\n",
       "      <td>17409.720703</td>\n",
       "    </tr>\n",
       "    <tr>\n",
       "      <th>4</th>\n",
       "      <td>2016-06-27</td>\n",
       "      <td>17355.210938</td>\n",
       "      <td>17355.210938</td>\n",
       "      <td>17063.080078</td>\n",
       "      <td>17140.240234</td>\n",
       "      <td>138740000</td>\n",
       "      <td>17140.240234</td>\n",
       "    </tr>\n",
       "  </tbody>\n",
       "</table>\n",
       "</div>"
      ],
      "text/plain": [
       "        Date          Open          High           Low         Close  \\\n",
       "0 2016-07-01  17924.240234  18002.380859  17916.910156  17949.369141   \n",
       "1 2016-06-30  17712.759766  17930.609375  17711.800781  17929.990234   \n",
       "2 2016-06-29  17456.019531  17704.509766  17456.019531  17694.679688   \n",
       "3 2016-06-28  17190.509766  17409.720703  17190.509766  17409.720703   \n",
       "4 2016-06-27  17355.210938  17355.210938  17063.080078  17140.240234   \n",
       "\n",
       "      Volume     Adj Close  \n",
       "0   82160000  17949.369141  \n",
       "1  133030000  17929.990234  \n",
       "2  106380000  17694.679688  \n",
       "3  112190000  17409.720703  \n",
       "4  138740000  17140.240234  "
      ]
     },
     "execution_count": 5,
     "metadata": {},
     "output_type": "execute_result"
    }
   ],
   "source": [
    "# Load the stock prices dataset into a dataframe and check the top 5 rows\n",
    "stock_prices = \"Sentence_Polarity/stocknews/DJIA_table.csv\"\n",
    "stock_data = pd.read_csv(stock_prices, parse_dates=[0])\n",
    "stock_data.head()"
   ]
  },
  {
   "cell_type": "markdown",
   "metadata": {},
   "source": [
    "<div class=\"span5 alert alert-info\">\n",
    "<p>\n",
    "Checked the shape and datatypes of the loaded dataset\n",
    "</p>\n",
    "</div>"
   ]
  },
  {
   "cell_type": "code",
   "execution_count": 6,
   "metadata": {},
   "outputs": [
    {
     "name": "stdout",
     "output_type": "stream",
     "text": [
      "(1989, 7)\n",
      "Date         datetime64[ns]\n",
      "Open                float64\n",
      "High                float64\n",
      "Low                 float64\n",
      "Close               float64\n",
      "Volume                int64\n",
      "Adj Close           float64\n",
      "dtype: object\n"
     ]
    }
   ],
   "source": [
    "# Check the shape and datatypes of the stock prices dataframe\n",
    "print(stock_data.shape)\n",
    "print(stock_data.dtypes)"
   ]
  },
  {
   "cell_type": "markdown",
   "metadata": {},
   "source": [
    "<div class=\"span5 alert alert-info\">\n",
    "<p>\n",
    "Merged the 5 columns(Subjectivity, Objectivity, Positive, Negative, Neutral) with the stock_data dataframe.\n",
    "<br/><br/>\n",
    "Validated the merged dataframe to see the 2 dataframes are concatenated by checking the top 5 rows of the merged_dataframe.\n",
    "</p>\n",
    "</div> "
   ]
  },
  {
   "cell_type": "code",
   "execution_count": 7,
   "metadata": {},
   "outputs": [
    {
     "name": "stdout",
     "output_type": "stream",
     "text": [
      "(1989, 13)\n"
     ]
    },
    {
     "data": {
      "text/html": [
       "<div>\n",
       "<table border=\"1\" class=\"dataframe\">\n",
       "  <thead>\n",
       "    <tr style=\"text-align: right;\">\n",
       "      <th></th>\n",
       "      <th>Date</th>\n",
       "      <th>Label</th>\n",
       "      <th>Subjectivity</th>\n",
       "      <th>Objectivity</th>\n",
       "      <th>Positive</th>\n",
       "      <th>Negative</th>\n",
       "      <th>Neutral</th>\n",
       "      <th>Open</th>\n",
       "      <th>High</th>\n",
       "      <th>Low</th>\n",
       "      <th>Close</th>\n",
       "      <th>Volume</th>\n",
       "      <th>Adj Close</th>\n",
       "    </tr>\n",
       "  </thead>\n",
       "  <tbody>\n",
       "    <tr>\n",
       "      <th>1988</th>\n",
       "      <td>2008-08-08</td>\n",
       "      <td>0</td>\n",
       "      <td>75.000000</td>\n",
       "      <td>25.000000</td>\n",
       "      <td>18.750000</td>\n",
       "      <td>56.250000</td>\n",
       "      <td>25.000000</td>\n",
       "      <td>11432.089844</td>\n",
       "      <td>11759.959961</td>\n",
       "      <td>11388.040039</td>\n",
       "      <td>11734.320312</td>\n",
       "      <td>212830000</td>\n",
       "      <td>11734.320312</td>\n",
       "    </tr>\n",
       "    <tr>\n",
       "      <th>1987</th>\n",
       "      <td>2008-08-11</td>\n",
       "      <td>1</td>\n",
       "      <td>83.333333</td>\n",
       "      <td>16.666667</td>\n",
       "      <td>41.666667</td>\n",
       "      <td>41.666667</td>\n",
       "      <td>16.666667</td>\n",
       "      <td>11729.669922</td>\n",
       "      <td>11867.110352</td>\n",
       "      <td>11675.530273</td>\n",
       "      <td>11782.349609</td>\n",
       "      <td>183190000</td>\n",
       "      <td>11782.349609</td>\n",
       "    </tr>\n",
       "    <tr>\n",
       "      <th>1986</th>\n",
       "      <td>2008-08-12</td>\n",
       "      <td>0</td>\n",
       "      <td>56.250000</td>\n",
       "      <td>43.750000</td>\n",
       "      <td>18.750000</td>\n",
       "      <td>37.500000</td>\n",
       "      <td>43.750000</td>\n",
       "      <td>11781.700195</td>\n",
       "      <td>11782.349609</td>\n",
       "      <td>11601.519531</td>\n",
       "      <td>11642.469727</td>\n",
       "      <td>173590000</td>\n",
       "      <td>11642.469727</td>\n",
       "    </tr>\n",
       "    <tr>\n",
       "      <th>1985</th>\n",
       "      <td>2008-08-13</td>\n",
       "      <td>0</td>\n",
       "      <td>38.461538</td>\n",
       "      <td>61.538462</td>\n",
       "      <td>15.384615</td>\n",
       "      <td>23.076923</td>\n",
       "      <td>61.538462</td>\n",
       "      <td>11632.809570</td>\n",
       "      <td>11633.780273</td>\n",
       "      <td>11453.339844</td>\n",
       "      <td>11532.959961</td>\n",
       "      <td>182550000</td>\n",
       "      <td>11532.959961</td>\n",
       "    </tr>\n",
       "    <tr>\n",
       "      <th>1984</th>\n",
       "      <td>2008-08-14</td>\n",
       "      <td>1</td>\n",
       "      <td>45.454545</td>\n",
       "      <td>54.545455</td>\n",
       "      <td>36.363636</td>\n",
       "      <td>9.090909</td>\n",
       "      <td>54.545455</td>\n",
       "      <td>11532.070312</td>\n",
       "      <td>11718.280273</td>\n",
       "      <td>11450.889648</td>\n",
       "      <td>11615.929688</td>\n",
       "      <td>159790000</td>\n",
       "      <td>11615.929688</td>\n",
       "    </tr>\n",
       "  </tbody>\n",
       "</table>\n",
       "</div>"
      ],
      "text/plain": [
       "           Date  Label  Subjectivity  Objectivity   Positive   Negative  \\\n",
       "1988 2008-08-08      0     75.000000    25.000000  18.750000  56.250000   \n",
       "1987 2008-08-11      1     83.333333    16.666667  41.666667  41.666667   \n",
       "1986 2008-08-12      0     56.250000    43.750000  18.750000  37.500000   \n",
       "1985 2008-08-13      0     38.461538    61.538462  15.384615  23.076923   \n",
       "1984 2008-08-14      1     45.454545    54.545455  36.363636   9.090909   \n",
       "\n",
       "        Neutral          Open          High           Low         Close  \\\n",
       "1988  25.000000  11432.089844  11759.959961  11388.040039  11734.320312   \n",
       "1987  16.666667  11729.669922  11867.110352  11675.530273  11782.349609   \n",
       "1986  43.750000  11781.700195  11782.349609  11601.519531  11642.469727   \n",
       "1985  61.538462  11632.809570  11633.780273  11453.339844  11532.959961   \n",
       "1984  54.545455  11532.070312  11718.280273  11450.889648  11615.929688   \n",
       "\n",
       "         Volume     Adj Close  \n",
       "1988  212830000  11734.320312  \n",
       "1987  183190000  11782.349609  \n",
       "1986  173590000  11642.469727  \n",
       "1985  182550000  11532.959961  \n",
       "1984  159790000  11615.929688  "
      ]
     },
     "execution_count": 7,
     "metadata": {},
     "output_type": "execute_result"
    }
   ],
   "source": [
    "# Create a dataframe by merging the headlines and the stock prices dataframe\n",
    "merged_dataframe = sentence_df[['Date', 'Label', 'Subjectivity', 'Objectivity', 'Positive', 'Negative', 'Neutral']].merge(stock_data, how='inner', on='Date', left_index=True)\n",
    "# Check the shape and top 5 rows of the merged dataframe\n",
    "print(merged_dataframe.shape)\n",
    "merged_dataframe.head()"
   ]
  },
  {
   "cell_type": "markdown",
   "metadata": {},
   "source": [
    "<div class=\"span5 alert alert-info\">\n",
    "<p>\n",
    "We have the Label(i.e the output column) column in the 2nd position.\n",
    "<br/><br/>\n",
    "Lets move it to the end of the dataframe to have a clear view of inputs and outputs\n",
    "</p>\n",
    "</div>"
   ]
  },
  {
   "cell_type": "code",
   "execution_count": 8,
   "metadata": {},
   "outputs": [
    {
     "name": "stdout",
     "output_type": "stream",
     "text": [
      "['Date', 'Label', 'Subjectivity', 'Objectivity', 'Positive', 'Negative', 'Neutral', 'Open', 'High', 'Low', 'Close', 'Volume', 'Adj Close']\n"
     ]
    },
    {
     "data": {
      "text/html": [
       "<div>\n",
       "<table border=\"1\" class=\"dataframe\">\n",
       "  <thead>\n",
       "    <tr style=\"text-align: right;\">\n",
       "      <th></th>\n",
       "      <th>Date</th>\n",
       "      <th>Subjectivity</th>\n",
       "      <th>Objectivity</th>\n",
       "      <th>Positive</th>\n",
       "      <th>Negative</th>\n",
       "      <th>Neutral</th>\n",
       "      <th>Open</th>\n",
       "      <th>High</th>\n",
       "      <th>Low</th>\n",
       "      <th>Close</th>\n",
       "      <th>Volume</th>\n",
       "      <th>Adj Close</th>\n",
       "      <th>Label</th>\n",
       "    </tr>\n",
       "  </thead>\n",
       "  <tbody>\n",
       "    <tr>\n",
       "      <th>1988</th>\n",
       "      <td>2008-08-08</td>\n",
       "      <td>75.000000</td>\n",
       "      <td>25.000000</td>\n",
       "      <td>18.750000</td>\n",
       "      <td>56.250000</td>\n",
       "      <td>25.000000</td>\n",
       "      <td>11432.089844</td>\n",
       "      <td>11759.959961</td>\n",
       "      <td>11388.040039</td>\n",
       "      <td>11734.320312</td>\n",
       "      <td>212830000</td>\n",
       "      <td>11734.320312</td>\n",
       "      <td>0</td>\n",
       "    </tr>\n",
       "    <tr>\n",
       "      <th>1987</th>\n",
       "      <td>2008-08-11</td>\n",
       "      <td>83.333333</td>\n",
       "      <td>16.666667</td>\n",
       "      <td>41.666667</td>\n",
       "      <td>41.666667</td>\n",
       "      <td>16.666667</td>\n",
       "      <td>11729.669922</td>\n",
       "      <td>11867.110352</td>\n",
       "      <td>11675.530273</td>\n",
       "      <td>11782.349609</td>\n",
       "      <td>183190000</td>\n",
       "      <td>11782.349609</td>\n",
       "      <td>1</td>\n",
       "    </tr>\n",
       "    <tr>\n",
       "      <th>1986</th>\n",
       "      <td>2008-08-12</td>\n",
       "      <td>56.250000</td>\n",
       "      <td>43.750000</td>\n",
       "      <td>18.750000</td>\n",
       "      <td>37.500000</td>\n",
       "      <td>43.750000</td>\n",
       "      <td>11781.700195</td>\n",
       "      <td>11782.349609</td>\n",
       "      <td>11601.519531</td>\n",
       "      <td>11642.469727</td>\n",
       "      <td>173590000</td>\n",
       "      <td>11642.469727</td>\n",
       "      <td>0</td>\n",
       "    </tr>\n",
       "    <tr>\n",
       "      <th>1985</th>\n",
       "      <td>2008-08-13</td>\n",
       "      <td>38.461538</td>\n",
       "      <td>61.538462</td>\n",
       "      <td>15.384615</td>\n",
       "      <td>23.076923</td>\n",
       "      <td>61.538462</td>\n",
       "      <td>11632.809570</td>\n",
       "      <td>11633.780273</td>\n",
       "      <td>11453.339844</td>\n",
       "      <td>11532.959961</td>\n",
       "      <td>182550000</td>\n",
       "      <td>11532.959961</td>\n",
       "      <td>0</td>\n",
       "    </tr>\n",
       "    <tr>\n",
       "      <th>1984</th>\n",
       "      <td>2008-08-14</td>\n",
       "      <td>45.454545</td>\n",
       "      <td>54.545455</td>\n",
       "      <td>36.363636</td>\n",
       "      <td>9.090909</td>\n",
       "      <td>54.545455</td>\n",
       "      <td>11532.070312</td>\n",
       "      <td>11718.280273</td>\n",
       "      <td>11450.889648</td>\n",
       "      <td>11615.929688</td>\n",
       "      <td>159790000</td>\n",
       "      <td>11615.929688</td>\n",
       "      <td>1</td>\n",
       "    </tr>\n",
       "  </tbody>\n",
       "</table>\n",
       "</div>"
      ],
      "text/plain": [
       "           Date  Subjectivity  Objectivity   Positive   Negative    Neutral  \\\n",
       "1988 2008-08-08     75.000000    25.000000  18.750000  56.250000  25.000000   \n",
       "1987 2008-08-11     83.333333    16.666667  41.666667  41.666667  16.666667   \n",
       "1986 2008-08-12     56.250000    43.750000  18.750000  37.500000  43.750000   \n",
       "1985 2008-08-13     38.461538    61.538462  15.384615  23.076923  61.538462   \n",
       "1984 2008-08-14     45.454545    54.545455  36.363636   9.090909  54.545455   \n",
       "\n",
       "              Open          High           Low         Close     Volume  \\\n",
       "1988  11432.089844  11759.959961  11388.040039  11734.320312  212830000   \n",
       "1987  11729.669922  11867.110352  11675.530273  11782.349609  183190000   \n",
       "1986  11781.700195  11782.349609  11601.519531  11642.469727  173590000   \n",
       "1985  11632.809570  11633.780273  11453.339844  11532.959961  182550000   \n",
       "1984  11532.070312  11718.280273  11450.889648  11615.929688  159790000   \n",
       "\n",
       "         Adj Close  Label  \n",
       "1988  11734.320312      0  \n",
       "1987  11782.349609      1  \n",
       "1986  11642.469727      0  \n",
       "1985  11532.959961      0  \n",
       "1984  11615.929688      1  "
      ]
     },
     "execution_count": 8,
     "metadata": {},
     "output_type": "execute_result"
    }
   ],
   "source": [
    "# Push the Label column to the end of the dataframe\n",
    "cols = list(merged_dataframe)\n",
    "print(cols)\n",
    "cols.append(cols.pop(cols.index('Label')))\n",
    "merged_dataframe = merged_dataframe.ix[:, cols]\n",
    "merged_dataframe.head()"
   ]
  },
  {
   "cell_type": "markdown",
   "metadata": {},
   "source": [
    "<div class=\"span5 alert alert-info\">\n",
    "<p>\n",
    "We have the volumn column in Integer format. Lets change it to float, same as the rest of the columns so we do not have any difficulties in making calculations at a later point.\n",
    "</p>\n",
    "</div>"
   ]
  },
  {
   "cell_type": "code",
   "execution_count": 9,
   "metadata": {},
   "outputs": [
    {
     "name": "stdout",
     "output_type": "stream",
     "text": [
      "['Date', 'Subjectivity', 'Objectivity', 'Positive', 'Negative', 'Neutral', 'Open', 'High', 'Low', 'Close', 'Volume', 'Adj Close', 'Label']\n"
     ]
    },
    {
     "data": {
      "text/html": [
       "<div>\n",
       "<table border=\"1\" class=\"dataframe\">\n",
       "  <thead>\n",
       "    <tr style=\"text-align: right;\">\n",
       "      <th></th>\n",
       "      <th>Date</th>\n",
       "      <th>Subjectivity</th>\n",
       "      <th>Objectivity</th>\n",
       "      <th>Positive</th>\n",
       "      <th>Negative</th>\n",
       "      <th>Neutral</th>\n",
       "      <th>Open</th>\n",
       "      <th>High</th>\n",
       "      <th>Low</th>\n",
       "      <th>Close</th>\n",
       "      <th>Volume</th>\n",
       "      <th>Adj Close</th>\n",
       "      <th>Label</th>\n",
       "    </tr>\n",
       "  </thead>\n",
       "  <tbody>\n",
       "    <tr>\n",
       "      <th>0</th>\n",
       "      <td>2008-08-08</td>\n",
       "      <td>75.000000</td>\n",
       "      <td>25.000000</td>\n",
       "      <td>18.750000</td>\n",
       "      <td>56.250000</td>\n",
       "      <td>25.000000</td>\n",
       "      <td>11432.089844</td>\n",
       "      <td>11759.959961</td>\n",
       "      <td>11388.040039</td>\n",
       "      <td>11734.320312</td>\n",
       "      <td>212830000.0</td>\n",
       "      <td>11734.320312</td>\n",
       "      <td>0</td>\n",
       "    </tr>\n",
       "    <tr>\n",
       "      <th>1</th>\n",
       "      <td>2008-08-11</td>\n",
       "      <td>83.333333</td>\n",
       "      <td>16.666667</td>\n",
       "      <td>41.666667</td>\n",
       "      <td>41.666667</td>\n",
       "      <td>16.666667</td>\n",
       "      <td>11729.669922</td>\n",
       "      <td>11867.110352</td>\n",
       "      <td>11675.530273</td>\n",
       "      <td>11782.349609</td>\n",
       "      <td>183190000.0</td>\n",
       "      <td>11782.349609</td>\n",
       "      <td>1</td>\n",
       "    </tr>\n",
       "    <tr>\n",
       "      <th>2</th>\n",
       "      <td>2008-08-12</td>\n",
       "      <td>56.250000</td>\n",
       "      <td>43.750000</td>\n",
       "      <td>18.750000</td>\n",
       "      <td>37.500000</td>\n",
       "      <td>43.750000</td>\n",
       "      <td>11781.700195</td>\n",
       "      <td>11782.349609</td>\n",
       "      <td>11601.519531</td>\n",
       "      <td>11642.469727</td>\n",
       "      <td>173590000.0</td>\n",
       "      <td>11642.469727</td>\n",
       "      <td>0</td>\n",
       "    </tr>\n",
       "    <tr>\n",
       "      <th>3</th>\n",
       "      <td>2008-08-13</td>\n",
       "      <td>38.461538</td>\n",
       "      <td>61.538462</td>\n",
       "      <td>15.384615</td>\n",
       "      <td>23.076923</td>\n",
       "      <td>61.538462</td>\n",
       "      <td>11632.809570</td>\n",
       "      <td>11633.780273</td>\n",
       "      <td>11453.339844</td>\n",
       "      <td>11532.959961</td>\n",
       "      <td>182550000.0</td>\n",
       "      <td>11532.959961</td>\n",
       "      <td>0</td>\n",
       "    </tr>\n",
       "    <tr>\n",
       "      <th>4</th>\n",
       "      <td>2008-08-14</td>\n",
       "      <td>45.454545</td>\n",
       "      <td>54.545455</td>\n",
       "      <td>36.363636</td>\n",
       "      <td>9.090909</td>\n",
       "      <td>54.545455</td>\n",
       "      <td>11532.070312</td>\n",
       "      <td>11718.280273</td>\n",
       "      <td>11450.889648</td>\n",
       "      <td>11615.929688</td>\n",
       "      <td>159790000.0</td>\n",
       "      <td>11615.929688</td>\n",
       "      <td>1</td>\n",
       "    </tr>\n",
       "  </tbody>\n",
       "</table>\n",
       "</div>"
      ],
      "text/plain": [
       "        Date  Subjectivity  Objectivity   Positive   Negative    Neutral  \\\n",
       "0 2008-08-08     75.000000    25.000000  18.750000  56.250000  25.000000   \n",
       "1 2008-08-11     83.333333    16.666667  41.666667  41.666667  16.666667   \n",
       "2 2008-08-12     56.250000    43.750000  18.750000  37.500000  43.750000   \n",
       "3 2008-08-13     38.461538    61.538462  15.384615  23.076923  61.538462   \n",
       "4 2008-08-14     45.454545    54.545455  36.363636   9.090909  54.545455   \n",
       "\n",
       "           Open          High           Low         Close       Volume  \\\n",
       "0  11432.089844  11759.959961  11388.040039  11734.320312  212830000.0   \n",
       "1  11729.669922  11867.110352  11675.530273  11782.349609  183190000.0   \n",
       "2  11781.700195  11782.349609  11601.519531  11642.469727  173590000.0   \n",
       "3  11632.809570  11633.780273  11453.339844  11532.959961  182550000.0   \n",
       "4  11532.070312  11718.280273  11450.889648  11615.929688  159790000.0   \n",
       "\n",
       "      Adj Close  Label  \n",
       "0  11734.320312      0  \n",
       "1  11782.349609      1  \n",
       "2  11642.469727      0  \n",
       "3  11532.959961      0  \n",
       "4  11615.929688      1  "
      ]
     },
     "execution_count": 9,
     "metadata": {},
     "output_type": "execute_result"
    }
   ],
   "source": [
    "# Change the datatype of the volume column to float\n",
    "#merged_dataframe['Date'] = pd.to_datetime(merged_dataframe['Date'])\n",
    "merged_dataframe['Volume'] = merged_dataframe['Volume'].astype(float)\n",
    "print(cols)\n",
    "#merged_dataframe = merged_dataframe.set_index(['Date'])\n",
    "merged_dataframe.index = merged_dataframe.index.sort_values()\n",
    "merged_dataframe.head()"
   ]
  },
  {
   "cell_type": "markdown",
   "metadata": {},
   "source": [
    "<div class=\"span5 alert alert-info\">\n",
    "<p>\n",
    "<h3>2. Data Quality Checks:</h3>\n",
    "<br/>\n",
    "Checked the statistics of individual columns in the dataframe.\n",
    "<br/><br/>\n",
    "As you can see below there are no outliers in any of the columns, however, some of the columns have NaN values\n",
    "</p>\n",
    "</div>"
   ]
  },
  {
   "cell_type": "code",
   "execution_count": 10,
   "metadata": {},
   "outputs": [
    {
     "name": "stdout",
     "output_type": "stream",
     "text": [
      "       Subjectivity  Objectivity     Positive     Negative      Neutral  \\\n",
      "count   1986.000000  1986.000000  1986.000000  1986.000000  1986.000000   \n",
      "mean      56.712522    43.287478    19.966718    36.745804    43.287478   \n",
      "std       21.557927    21.557927    16.373424    21.109970    21.557927   \n",
      "min        0.000000     0.000000     0.000000     0.000000     0.000000   \n",
      "25%             NaN          NaN          NaN          NaN          NaN   \n",
      "50%             NaN          NaN          NaN          NaN          NaN   \n",
      "75%             NaN          NaN          NaN          NaN          NaN   \n",
      "max      100.000000   100.000000   100.000000   100.000000   100.000000   \n",
      "\n",
      "               Open          High           Low         Close        Volume  \\\n",
      "count   1989.000000   1989.000000   1989.000000   1989.000000  1.989000e+03   \n",
      "mean   13459.116048  13541.303173  13372.931728  13463.032255  1.628110e+08   \n",
      "std     3143.281634   3136.271725   3150.420934   3144.006996  9.392343e+07   \n",
      "min     6547.009766   6709.609863   6469.950195   6547.049805  8.410000e+06   \n",
      "25%    10907.339844  11000.980469  10824.759766  10913.379883  1.000000e+08   \n",
      "50%    13022.049805  13088.110352  12953.129883  13025.580078  1.351700e+08   \n",
      "75%    16477.699219  16550.070312  16392.769531  16478.410156  1.926000e+08   \n",
      "max    18315.060547  18351.359375  18272.560547  18312.390625  6.749200e+08   \n",
      "\n",
      "          Adj Close        Label  \n",
      "count   1989.000000  1989.000000  \n",
      "mean   13463.032255     0.535445  \n",
      "std     3144.006996     0.498867  \n",
      "min     6547.049805     0.000000  \n",
      "25%    10913.379883     0.000000  \n",
      "50%    13025.580078     1.000000  \n",
      "75%    16478.410156     1.000000  \n",
      "max    18312.390625     1.000000  \n"
     ]
    },
    {
     "name": "stderr",
     "output_type": "stream",
     "text": [
      "/Library/Frameworks/Python.framework/Versions/2.7/lib/python2.7/site-packages/numpy/lib/function_base.py:4116: RuntimeWarning: Invalid value encountered in percentile\n",
      "  interpolation=interpolation)\n"
     ]
    }
   ],
   "source": [
    "# Check the statistics of the columns of the merged dataframe and check for outliers\n",
    "print(merged_dataframe.describe())"
   ]
  },
  {
   "cell_type": "markdown",
   "metadata": {},
   "source": [
    "<div class=\"span5 alert alert-info\">\n",
    "<p>\n",
    "Plotted histograms for individual columns to see the distribution of values.\n",
    "<br/><br/>\n",
    "The x axis is the column values and the y axis is the frequency of those values.\n",
    "</p>\n",
    "</div>"
   ]
  },
  {
   "cell_type": "code",
   "execution_count": 11,
   "metadata": {},
   "outputs": [
    {
     "data": {
      "image/png": "[encoded data removed]",
      "text/plain": [
       "<matplotlib.figure.Figure at 0x10440e9d0>"
      ]
     },
     "metadata": {},
     "output_type": "display_data"
    }
   ],
   "source": [
    "# Plot a histogram for all the columns of the dataframe. This shows the frequency of values in all the columns\n",
    "sns.set()\n",
    "merged_dataframe.hist(sharex = False, sharey = False, xlabelsize = 4, ylabelsize = 4, figsize=(10, 10))\n",
    "pyplot.show()"
   ]
  },
  {
   "cell_type": "markdown",
   "metadata": {},
   "source": [
    "<div class=\"span5 alert alert-info\">\n",
    "<p>\n",
    "Plot 1: Scatter plot of Stock Prices vs the Subjectivity.<br/>\n",
    "        Stock Value of 0 means the Stock Value reduced since the previous day.<br/>\n",
    "        Stock Value of 1 means the Stock Value increased or remained the same since the previous day.\n",
    "<br/>        \n",
    "Plot 2: Scatter plot of Stock Prices vs the Objectivity.<br/>\n",
    "        Stock Value of 0 means the Stock Value reduced since the previous day.<br/>\n",
    "        Stock Value of 1 means the Stock Value increased or remained the same since the previous day.\n",
    "<br/>                \n",
    "Plot 3: Histogram of Subjectivity column.<br/>\n",
    "        The x axis are the values of Subjectivity and y axis is its respective frequency.<br/>\n",
    "        The plot seems to be normally distributed.\n",
    "<br/>       \n",
    "Plot 4: Histogram of Objectivity column.<br/>\n",
    "        The x axis are the values of Objectivity and y axis is its respective frequency.<br/>\n",
    "        The plot seems to be normally distributed.<br/>\n",
    "    </p></div>"
   ]
  },
  {
   "cell_type": "code",
   "execution_count": 12,
   "metadata": {},
   "outputs": [
    {
     "data": {
      "image/png": "[encoded data removed]",
      "text/plain": [
       "<matplotlib.figure.Figure at 0x10d0dbe90>"
      ]
     },
     "metadata": {},
     "output_type": "display_data"
    },
    {
     "data": {
      "image/png": "[encoded data removed]",
      "text/plain": [
       "<matplotlib.figure.Figure at 0x10d185b50>"
      ]
     },
     "metadata": {},
     "output_type": "display_data"
    },
    {
     "data": {
      "image/png": "[encoded data removed]",
      "text/plain": [
       "<matplotlib.figure.Figure at 0x10d22fd10>"
      ]
     },
     "metadata": {},
     "output_type": "display_data"
    },
    {
     "data": {
      "image/png": "[encoded data removed]",
      "text/plain": [
       "<matplotlib.figure.Figure at 0x10d4c69d0>"
      ]
     },
     "metadata": {},
     "output_type": "display_data"
    },
    {
     "name": "stdout",
     "output_type": "stream",
     "text": [
      "Size of the Labels column\n",
      "Label\n",
      "0     924\n",
      "1    1065\n",
      "dtype: int64\n"
     ]
    }
   ],
   "source": [
    "pyplot.scatter(merged_dataframe['Subjectivity'], merged_dataframe['Label'])\n",
    "pyplot.xlabel('Subjectivity')\n",
    "pyplot.ylabel('Stock Price Up or Down 0: Down, 1: Up')\n",
    "pyplot.show()\n",
    "pyplot.scatter(merged_dataframe['Objectivity'], merged_dataframe['Label'])\n",
    "pyplot.xlabel('Objectivity')\n",
    "pyplot.ylabel('Stock Price Up or Down 0: Down, 1: Up')\n",
    "pyplot.show()\n",
    "merged_dataframe['Subjectivity'].plot('hist')\n",
    "pyplot.xlabel('Subjectivity')\n",
    "pyplot.ylabel('Frequency')\n",
    "pyplot.show()\n",
    "merged_dataframe['Objectivity'].plot('hist')\n",
    "pyplot.xlabel('Subjectivity')\n",
    "pyplot.ylabel('Frequency')\n",
    "pyplot.show()\n",
    "print(\"Size of the Labels column\")\n",
    "print(merged_dataframe.groupby('Label').size())"
   ]
  },
  {
   "cell_type": "markdown",
   "metadata": {},
   "source": [
    "<div class=\"span5 alert alert-info\"><p>\n",
    "<h3>3.Feature inspection and filtering</h3>\n",
    "<br/>\n",
    "Lets check for NaN values in individual columns of the dataframe.\n",
    "</p>\n",
    "</div>"
   ]
  },
  {
   "cell_type": "code",
   "execution_count": 13,
   "metadata": {},
   "outputs": [
    {
     "data": {
      "image/png": "[encoded data removed]",
      "text/plain": [
       "<matplotlib.figure.Figure at 0x10b93ad90>"
      ]
     },
     "metadata": {},
     "output_type": "display_data"
    }
   ],
   "source": [
    "md_copy = merged_dataframe\n",
    "md_copy = md_copy.replace(-1, np.NaN)\n",
    "import missingno as msno\n",
    "# Nullity or missing values by columns\n",
    "msno.matrix(df=md_copy.iloc[:,2:39], figsize=(20, 14), color=(0.42, 0.1, 0.05))"
   ]
  },
  {
   "cell_type": "markdown",
   "metadata": {},
   "source": [
    "<div class=\"span5 alert alert-info\">\n",
    "<p>\n",
    "<h4>Correlation Map for features:</h4>\n",
    "<br/>\n",
    "Now, we will plot a heat map and a scatter matrix to see the correlation of the columns with each other.\n",
    "<br/><br/>\n",
    "You can see the heat map with pearson correlation values in the plot below.\n",
    "<br/><br/>\n",
    "This gave me a better understanding to see if there are any dependant variables or if any of the variables are highly correlated.\n",
    "<br/><br/>\n",
    "Some variables Subjectivity, Objectivity are negatively correlated. There are very few variables which seem to have a very high correlation. Thus, at this point we can conclude that we do not need any sort of dimensionality reduction technique to be applied.\n",
    "</p>\n",
    "</div>"
   ]
  },
  {
   "cell_type": "code",
   "execution_count": 14,
   "metadata": {
    "scrolled": false
   },
   "outputs": [
    {
     "data": {
      "image/png": "[encoded data removed]",
      "text/plain": [
       "<matplotlib.figure.Figure at 0x10d5d9150>"
      ]
     },
     "metadata": {},
     "output_type": "display_data"
    }
   ],
   "source": [
    "colormap = pyplot.cm.afmhot\n",
    "pyplot.figure(figsize=(16,12))\n",
    "pyplot.title('Pearson correlation of continuous features', y=1.05, size=15)\n",
    "sns.heatmap(merged_dataframe.corr(),linewidths=0.1,vmax=1.0, square=True, \n",
    "            cmap=colormap, linecolor='white', annot=True)\n",
    "pyplot.show()"
   ]
  },
  {
   "cell_type": "code",
   "execution_count": 15,
   "metadata": {},
   "outputs": [
    {
     "data": {
      "text/html": [
       "<script>requirejs.config({paths: { 'plotly': ['https://cdn.plot.ly/plotly-latest.min']},});if(!window.Plotly) {{require(['plotly'],function(plotly) {window.Plotly=plotly;});}}</script>"
      ],
      "text/vnd.plotly.v1+html": [
       "<script>requirejs.config({paths: { 'plotly': ['https://cdn.plot.ly/plotly-latest.min']},});if(!window.Plotly) {{require(['plotly'],function(plotly) {window.Plotly=plotly;});}}</script>"
      ]
     },
     "metadata": {},
     "output_type": "display_data"
    },
    {
     "data": {
      "application/vnd.plotly.v1+json": {
       "data": [
        {
         "name": "Zero count",
         "type": "bar",
         "x": [
          "Date",
          "Subjectivity",
          "Objectivity",
          "Positive",
          "Negative",
          "Neutral",
          "Open",
          "High",
          "Low",
          "Close",
          "Volume",
          "Adj Close",
          "Label"
         ],
         "y": [
          924,
          924,
          924,
          924,
          924,
          924,
          924,
          924,
          924,
          924,
          924,
          924,
          924
         ]
        },
        {
         "name": "One count",
         "type": "bar",
         "x": [
          "Date",
          "Subjectivity",
          "Objectivity",
          "Positive",
          "Negative",
          "Neutral",
          "Open",
          "High",
          "Low",
          "Close",
          "Volume",
          "Adj Close",
          "Label"
         ],
         "y": [
          1065,
          1065,
          1065,
          1065,
          1065,
          1065,
          1065,
          1065,
          1065,
          1065,
          1065,
          1065,
          1065
         ]
        }
       ],
       "layout": {
        "barmode": "stack",
        "title": "Count of 1 and 0 in binary variables"
       }
      },
      "text/html": [
       "<div id=\"ed7c8912-5951-4382-a688-8c5d3ec8f5ff\" style=\"height: 525px; width: 100%;\" class=\"plotly-graph-div\"></div><script type=\"text/javascript\">require([\"plotly\"], function(Plotly) { window.PLOTLYENV=window.PLOTLYENV || {};window.PLOTLYENV.BASE_URL=\"https://plot.ly\";Plotly.newPlot(\"ed7c8912-5951-4382-a688-8c5d3ec8f5ff\", [{\"y\": [924, 924, 924, 924, 924, 924, 924, 924, 924, 924, 924, 924, 924], \"x\": [\"Date\", \"Subjectivity\", \"Objectivity\", \"Positive\", \"Negative\", \"Neutral\", \"Open\", \"High\", \"Low\", \"Close\", \"Volume\", \"Adj Close\", \"Label\"], \"type\": \"bar\", \"name\": \"Zero count\"}, {\"y\": [1065, 1065, 1065, 1065, 1065, 1065, 1065, 1065, 1065, 1065, 1065, 1065, 1065], \"x\": [\"Date\", \"Subjectivity\", \"Objectivity\", \"Positive\", \"Negative\", \"Neutral\", \"Open\", \"High\", \"Low\", \"Close\", \"Volume\", \"Adj Close\", \"Label\"], \"type\": \"bar\", \"name\": \"One count\"}], {\"barmode\": \"stack\", \"title\": \"Count of 1 and 0 in binary variables\"}, {\"linkText\": \"Export to plot.ly\", \"showLink\": true})});</script>"
      ],
      "text/vnd.plotly.v1+html": [
       "<div id=\"ed7c8912-5951-4382-a688-8c5d3ec8f5ff\" style=\"height: 525px; width: 100%;\" class=\"plotly-graph-div\"></div><script type=\"text/javascript\">require([\"plotly\"], function(Plotly) { window.PLOTLYENV=window.PLOTLYENV || {};window.PLOTLYENV.BASE_URL=\"https://plot.ly\";Plotly.newPlot(\"ed7c8912-5951-4382-a688-8c5d3ec8f5ff\", [{\"y\": [924, 924, 924, 924, 924, 924, 924, 924, 924, 924, 924, 924, 924], \"x\": [\"Date\", \"Subjectivity\", \"Objectivity\", \"Positive\", \"Negative\", \"Neutral\", \"Open\", \"High\", \"Low\", \"Close\", \"Volume\", \"Adj Close\", \"Label\"], \"type\": \"bar\", \"name\": \"Zero count\"}, {\"y\": [1065, 1065, 1065, 1065, 1065, 1065, 1065, 1065, 1065, 1065, 1065, 1065, 1065], \"x\": [\"Date\", \"Subjectivity\", \"Objectivity\", \"Positive\", \"Negative\", \"Neutral\", \"Open\", \"High\", \"Low\", \"Close\", \"Volume\", \"Adj Close\", \"Label\"], \"type\": \"bar\", \"name\": \"One count\"}], {\"barmode\": \"stack\", \"title\": \"Count of 1 and 0 in binary variables\"}, {\"linkText\": \"Export to plot.ly\", \"showLink\": true})});</script>"
      ]
     },
     "metadata": {},
     "output_type": "display_data"
    }
   ],
   "source": [
    "%matplotlib inline\n",
    "import plotly.offline as py\n",
    "py.init_notebook_mode(connected=True)\n",
    "import plotly.graph_objs as go\n",
    "import plotly.tools as tls\n",
    "import warnings\n",
    "\n",
    "bin_col = merged_dataframe.columns\n",
    "zero_list = []\n",
    "one_list = []\n",
    "for col in bin_col:\n",
    "    zero_count = 0\n",
    "    one_count = 0\n",
    "    for ix, val in merged_dataframe[col].iteritems():\n",
    "        if merged_dataframe.loc[ix, 'Label'] == 0:\n",
    "            zero_count += 1\n",
    "        else:\n",
    "            one_count += 1\n",
    "    zero_list.append(zero_count)\n",
    "    one_list.append(one_count)\n",
    "    \n",
    "trace1 = go.Bar(\n",
    "    x=bin_col,\n",
    "    y=zero_list ,\n",
    "    name='Zero count'\n",
    ")\n",
    "trace2 = go.Bar(\n",
    "    x=bin_col,\n",
    "    y=one_list,\n",
    "    name='One count'\n",
    ")\n",
    "\n",
    "data = [trace1, trace2]\n",
    "layout = go.Layout(\n",
    "    barmode='stack',\n",
    "    title='Count of 1 and 0 in binary variables'\n",
    ")\n",
    "\n",
    "fig = go.Figure(data=data, layout=layout)\n",
    "py.iplot(fig, filename='stacked-bar')"
   ]
  },
  {
   "cell_type": "markdown",
   "metadata": {},
   "source": [
    "<div class=\"span5 alert alert-info\">\n",
    "<p>\n",
    "<h3>4. Training</h3>\n",
    "<br/>\n",
    "Recheck the dataframe to see if the dataset is ready for train.\n",
    "<br/><br/>\n",
    "There are certain NaN values in many columns of the dataframe.\n",
    "<br/><br/>\n",
    "Replace the NaN values with the mean values of the respective column.\n",
    "<br/><br/>\n",
    "Split the merged dataframe to inputs(X) and outputs(y)\n",
    "<br/><br/>\n",
    "In our dataset, we have columns Subjectivity through Adj Close as inputs and the Label column output.\n",
    "<br/><br/>\n",
    "Now, we will split our dataset to training and test samples. Lets train out model on first 80% of the data \n",
    "and test our prediction model on remaining 20% of the data.\n",
    "<br/><br/>\n",
    "As this is a time series, it is important we do not randomly pick training and testing samples.\n",
    "<br/><br/>\n",
    "Lets consider a few machine learning algorithms to perform our training on.\n",
    "Logistic Regression\n",
    "Linear Discriminant Analysis\n",
    "K Nearest Neighbors\n",
    "Decision trees\n",
    "Naive Bayes\n",
    "Support Vector Classifier\n",
    "Random Forest Classifier\n",
    "<br/><br/>\n",
    "Lets add all of these classifiers to a list 'models'\n",
    "<br/><br/>\n",
    "After splitting the dataset, we can see that there are 1393 samples for training and 597 samples for testing\n",
    "</p>\n",
    "</div>"
   ]
  },
  {
   "cell_type": "code",
   "execution_count": 16,
   "metadata": {},
   "outputs": [
    {
     "name": "stdout",
     "output_type": "stream",
     "text": [
      "Date            datetime64[ns]\n",
      "Subjectivity           float64\n",
      "Objectivity            float64\n",
      "Positive               float64\n",
      "Negative               float64\n",
      "Neutral                float64\n",
      "Open                   float64\n",
      "High                   float64\n",
      "Low                    float64\n",
      "Close                  float64\n",
      "Volume                 float64\n",
      "Adj Close              float64\n",
      "Label                    int64\n",
      "dtype: object\n",
      "Date            1989\n",
      "Subjectivity    1986\n",
      "Objectivity     1986\n",
      "Positive        1986\n",
      "Negative        1986\n",
      "Neutral         1986\n",
      "Open            1989\n",
      "High            1989\n",
      "Low             1989\n",
      "Close           1989\n",
      "Volume          1989\n",
      "Adj Close       1989\n",
      "Label           1989\n",
      "dtype: int64\n",
      "Date            1989\n",
      "Subjectivity    1989\n",
      "Objectivity     1989\n",
      "Positive        1989\n",
      "Negative        1989\n",
      "Neutral         1989\n",
      "Open            1989\n",
      "High            1989\n",
      "Low             1989\n",
      "Close           1989\n",
      "Volume          1989\n",
      "Adj Close       1989\n",
      "Label           1989\n",
      "dtype: int64\n",
      "1989\n",
      "1392\n",
      "Observations: 1989\n",
      "X Training Observations: 1393\n",
      "X Testing Observations: 597\n",
      "y Training Observations: 1393\n",
      "y Testing Observations: 597\n"
     ]
    },
    {
     "data": {
      "image/png": "[encoded data removed]",
      "text/plain": [
       "<matplotlib.figure.Figure at 0x10d22fc10>"
      ]
     },
     "metadata": {},
     "output_type": "display_data"
    }
   ],
   "source": [
    "# Print the datatypes and count of the dataframe\n",
    "print(merged_dataframe.dtypes)\n",
    "print(merged_dataframe.count())\n",
    "# Change the NaN values to the mean value of that column\n",
    "nan_list = ['Subjectivity', 'Objectivity', 'Positive', 'Negative', 'Neutral']\n",
    "for col in nan_list:\n",
    "    merged_dataframe[col] = merged_dataframe[col].fillna(merged_dataframe[col].mean())\n",
    "\n",
    "# Recheck the count\n",
    "print(merged_dataframe.count())\n",
    "# Separate the dataframe for input(X) and output variables(y)\n",
    "X = merged_dataframe.loc[:,'Subjectivity':'Adj Close']\n",
    "y = merged_dataframe.loc[:,'Label']\n",
    "# Set the validation size, i.e the test set to 20%\n",
    "validation_size = 0.20\n",
    "# Split the dataset to test and train sets\n",
    "# Split the initial 70% of the data as training set and the remaining 30% data as the testing set\n",
    "train_size = int(len(X.index) * 0.7)\n",
    "print(len(y))\n",
    "print(train_size)\n",
    "X_train, X_test = X.loc[0:train_size, :], X.loc[train_size: len(X.index), :]\n",
    "y_train, y_test = y[0:train_size+1], y.loc[train_size: len(X.index)]\n",
    "print('Observations: %d' % (len(X.index)))\n",
    "print('X Training Observations: %d' % (len(X_train.index)))\n",
    "print('X Testing Observations: %d' % (len(X_test.index)))\n",
    "print('y Training Observations: %d' % (len(y_train)))\n",
    "print('y Testing Observations: %d' % (len(y_test)))\n",
    "pyplot.plot(X_train['Objectivity'])\n",
    "pyplot.plot([None for i in X_train['Objectivity']] + [x for x in X_test['Objectivity']])\n",
    "pyplot.show()\n",
    "num_folds = 10\n",
    "scoring = 'accuracy'\n",
    "# Append the models to the models list\n",
    "models = []\n",
    "models.append(('LR' , LogisticRegression()))\n",
    "models.append(('LDA' , LinearDiscriminantAnalysis()))\n",
    "models.append(('KNN' , KNeighborsClassifier()))\n",
    "models.append(('CART' , DecisionTreeClassifier()))\n",
    "models.append(('NB' , GaussianNB()))\n",
    "models.append(('SVM' , SVC()))\n",
    "models.append(('RF' , RandomForestClassifier(n_estimators=50)))\n",
    "models.append(('XGBoost', XGBClassifier()))"
   ]
  },
  {
   "cell_type": "markdown",
   "metadata": {},
   "source": [
    "<div class=\"span5 alert alert-info\">\n",
    "<p>\n",
    "Now, we will iterate over all of the machine learning classifiers and in each loop , we will train against the\n",
    "algorithm, predict the outputs with inputs from the testing split.\n",
    "<br/><br/>\n",
    "The actual and the predicted outputs are compared to calculate the accuracy.\n",
    "<br/><br/>\n",
    "We see that LDA seems to be giving a high accuracy score, but accuracy is still not the most trustworthy measure.\n",
    "</p></div>"
   ]
  },
  {
   "cell_type": "code",
   "execution_count": 17,
   "metadata": {},
   "outputs": [
    {
     "name": "stdout",
     "output_type": "stream",
     "text": [
      "LR: 0.530988274707\n",
      "LDA: 0.943048576214\n"
     ]
    },
    {
     "name": "stderr",
     "output_type": "stream",
     "text": [
      "/Library/Frameworks/Python.framework/Versions/2.7/lib/python2.7/site-packages/sklearn/discriminant_analysis.py:387: UserWarning:\n",
      "\n",
      "Variables are collinear.\n",
      "\n"
     ]
    },
    {
     "name": "stdout",
     "output_type": "stream",
     "text": [
      "KNN: 0.458961474037\n",
      "CART: 0.579564489112\n",
      "NB: 0.532663316583\n",
      "SVM: 0.530988274707\n",
      "RF: 0.546063651591\n",
      "XGBoost: 0.586264656616\n"
     ]
    }
   ],
   "source": [
    "# Evaluate each algorithm for accuracy\n",
    "results = []\n",
    "names = []\n",
    "'''\n",
    "for name, model in models:\n",
    "    kfold = KFold(n_splits=num_folds, random_state=42)\n",
    "    cv_results = cross_val_score(model, X_train, y_train, cv=kfold, scoring=scoring)\n",
    "    results.append(cv_results)\n",
    "    names.append(name)\n",
    "    msg = \"%s: %f (%f)\" % (name, cv_results.mean(), cv_results.std())\n",
    "    print(msg) '''\n",
    "\n",
    "for name, model in models:\n",
    "    clf = model\n",
    "    clf.fit(X_train, y_train)\n",
    "    y_pred = clf.predict(X_test)\n",
    "    accu_score = accuracy_score(y_test, y_pred)\n",
    "    print(name + \": \" + str(accu_score))"
   ]
  },
  {
   "cell_type": "markdown",
   "metadata": {},
   "source": [
    "<div class=\"span5 alert alert-info\">\n",
    "<p>\n",
    "As data distributions are in varying ranges, it would be good to scale all of our data and then use it to train our \n",
    "algorithm.\n",
    "<br/><br/>\n",
    "Lets print out the accuracy score, confusion matrix.\n",
    "    </p></div>"
   ]
  },
  {
   "cell_type": "code",
   "execution_count": 18,
   "metadata": {},
   "outputs": [
    {
     "name": "stdout",
     "output_type": "stream",
     "text": [
      "accuracy score:\n",
      "0.943048576214\n",
      "confusion matrix: \n",
      "[[254  26]\n",
      " [  8 309]]\n",
      "classification report: \n",
      "             precision    recall  f1-score   support\n",
      "\n",
      "          0       0.97      0.91      0.94       280\n",
      "          1       0.92      0.97      0.95       317\n",
      "\n",
      "avg / total       0.94      0.94      0.94       597\n",
      "\n",
      "accuracy score:\n",
      "0.586264656616\n",
      "confusion matrix: \n",
      "[[ 36 244]\n",
      " [  3 314]]\n",
      "classification report: \n",
      "             precision    recall  f1-score   support\n",
      "\n",
      "          0       0.92      0.13      0.23       280\n",
      "          1       0.56      0.99      0.72       317\n",
      "\n",
      "avg / total       0.73      0.59      0.49       597\n",
      "\n"
     ]
    }
   ],
   "source": [
    "# prepare the model LDA\n",
    "scaler = StandardScaler().fit(X_train)\n",
    "rescaledX = scaler.transform(X_train)\n",
    "model_lda = LinearDiscriminantAnalysis()\n",
    "model_lda.fit(rescaledX, y_train)\n",
    "# estimate accuracy on validation dataset\n",
    "rescaledValidationX = scaler.transform(X_test)\n",
    "predictions = model_lda.predict(rescaledValidationX)\n",
    "print(\"accuracy score:\")\n",
    "print(accuracy_score(y_test, predictions))\n",
    "print(\"confusion matrix: \")\n",
    "print(confusion_matrix(y_test, predictions))\n",
    "print(\"classification report: \")\n",
    "print(classification_report(y_test, predictions))\n",
    "\n",
    "model_xgb = XGBClassifier()\n",
    "model_xgb.fit(rescaledX, y_train)\n",
    "# estimate accuracy on validation dataset\n",
    "rescaledValidationX = scaler.transform(X_test)\n",
    "predictions = model_xgb.predict(rescaledValidationX)\n",
    "print(\"accuracy score:\")\n",
    "print(accuracy_score(y_test, predictions))\n",
    "print(\"confusion matrix: \")\n",
    "print(confusion_matrix(y_test, predictions))\n",
    "print(\"classification report: \")\n",
    "print(classification_report(y_test, predictions))\n"
   ]
  },
  {
   "cell_type": "code",
   "execution_count": 19,
   "metadata": {},
   "outputs": [
    {
     "name": "stdout",
     "output_type": "stream",
     "text": [
      "roc auc is :0.5\n"
     ]
    },
    {
     "data": {
      "image/png": "[encoded data removed]",
      "text/plain": [
       "<matplotlib.figure.Figure at 0x10d48ce50>"
      ]
     },
     "metadata": {},
     "output_type": "display_data"
    },
    {
     "name": "stdout",
     "output_type": "stream",
     "text": [
      "AUC using cross val: [ 0.99553571  0.99412456  0.96205357  0.97058824  1.          0.99221357\n",
      "  0.99777531  0.995338    0.99642857  0.97685185]\n",
      "Mean AUC score is: 0.98809093755\n"
     ]
    }
   ],
   "source": [
    "# Generating the ROC curve\n",
    "y_pred_proba = model_lda.predict_proba(X_test)[:,1]\n",
    "fpr, tpr, thresholds = roc_curve(y_test, y_pred_proba)\n",
    "roc_auc = auc(fpr, tpr)\n",
    "\n",
    "# Plot ROC curve\n",
    "print(\"roc auc is :\" + str(roc_auc))\n",
    "pyplot.plot([0, 1], [0, 1], 'k--')\n",
    "pyplot.plot(fpr, tpr)\n",
    "pyplot.xlabel('False Positive Rate')\n",
    "pyplot.ylabel('True Positive Rate')\n",
    "pyplot.title('ROC Curve')\n",
    "pyplot.show()\n",
    "\n",
    "# AUC score using cross validation\n",
    "kfold_val = KFold(n_splits=num_folds, random_state=42)\n",
    "auc_score = cross_val_score(model_lda, X_test, y_test, cv=kfold_val, scoring='roc_auc')\n",
    "print(\"AUC using cross val: \" + str(auc_score))\n",
    "mean_auc = np.mean(auc_score)\n",
    "print(\"Mean AUC score is: \" + str(mean_auc))"
   ]
  },
  {
   "cell_type": "code",
   "execution_count": 20,
   "metadata": {},
   "outputs": [
    {
     "name": "stdout",
     "output_type": "stream",
     "text": [
      "accuracy score:\n",
      "0.556113902848\n",
      "confusion matrix: \n",
      "[[124 156]\n",
      " [109 208]]\n",
      "classification report: \n",
      "             precision    recall  f1-score   support\n",
      "\n",
      "          0       0.53      0.44      0.48       280\n",
      "          1       0.57      0.66      0.61       317\n",
      "\n",
      "avg / total       0.55      0.56      0.55       597\n",
      "\n"
     ]
    }
   ],
   "source": [
    "# Scaling Random Forests\n",
    "\n",
    "model_rf = RandomForestClassifier(n_estimators=1000)\n",
    "model_rf.fit(rescaledX, y_train)\n",
    "# estimate accuracy on validation dataset\n",
    "rescaledValidationX = scaler.transform(X_test)\n",
    "predictions = model_rf.predict(rescaledValidationX)\n",
    "print(\"accuracy score:\")\n",
    "print(accuracy_score(y_test, predictions))\n",
    "print(\"confusion matrix: \")\n",
    "print(confusion_matrix(y_test, predictions))\n",
    "print(\"classification report: \")\n",
    "print(classification_report(y_test, predictions))\n"
   ]
  },
  {
   "cell_type": "markdown",
   "metadata": {},
   "source": [
    "<div class=\"span5 alert alert-info\">\n",
    "<p>\n",
    "<h3>5. Feature Importances:</h3>\n",
    "<br/>    \n",
    "Below you can find the feature with highest to least important features plotted in the graph.\n",
    "<br/><br/>\n",
    "This is for XGBoost.\n",
    "</p></div>"
   ]
  },
  {
   "cell_type": "code",
   "execution_count": 21,
   "metadata": {},
   "outputs": [
    {
     "data": {
      "application/vnd.plotly.v1+json": {
       "data": [
        {
         "marker": {
          "color": [
           0,
           0,
           0,
           0.005328597035259008,
           0.023090586066246033,
           0.05150976777076721,
           0.0657193586230278,
           0.07460035383701324,
           0.09413854032754898,
           0.3214920163154602,
           0.3641207814216614
          ],
          "colorscale": "Viridis",
          "reversescale": true
         },
         "name": "Feature importance for XGBoost",
         "orientation": "h",
         "type": "bar",
         "x": [
          0,
          0,
          0,
          0.005328597035259008,
          0.023090586066246033,
          0.05150976777076721,
          0.0657193586230278,
          0.07460035383701324,
          0.09413854032754898,
          0.3214920163154602,
          0.3641207814216614
         ],
         "y": [
          "Negative",
          "Subjectivity",
          "Volume",
          "High",
          "Open",
          "Positive",
          "Date",
          "Objectivity",
          "Close",
          "Neutral",
          "Low"
         ]
        }
       ],
       "layout": {
        "height": 1000,
        "title": "Barplot of Feature importances for XGBoost",
        "width": 1000,
        "yaxis": {
         "showgrid": false,
         "showline": false,
         "showticklabels": true
        }
       }
      },
      "text/html": [
       "<div id=\"20f8b432-0495-4cd3-9742-a6fca3250888\" style=\"height: 1000px; width: 1000px;\" class=\"plotly-graph-div\"></div><script type=\"text/javascript\">require([\"plotly\"], function(Plotly) { window.PLOTLYENV=window.PLOTLYENV || {};window.PLOTLYENV.BASE_URL=\"https://plot.ly\";Plotly.newPlot(\"20f8b432-0495-4cd3-9742-a6fca3250888\", [{\"orientation\": \"h\", \"marker\": {\"reversescale\": true, \"color\": [0.0, 0.0, 0.0, 0.005328597035259008, 0.023090586066246033, 0.05150976777076721, 0.0657193586230278, 0.07460035383701324, 0.09413854032754898, 0.3214920163154602, 0.3641207814216614], \"colorscale\": \"Viridis\"}, \"y\": [\"Negative\", \"Subjectivity\", \"Volume\", \"High\", \"Open\", \"Positive\", \"Date\", \"Objectivity\", \"Close\", \"Neutral\", \"Low\"], \"x\": [0.0, 0.0, 0.0, 0.005328597035259008, 0.023090586066246033, 0.05150976777076721, 0.0657193586230278, 0.07460035383701324, 0.09413854032754898, 0.3214920163154602, 0.3641207814216614], \"type\": \"bar\", \"name\": \"Feature importance for XGBoost\"}], {\"width\": 1000, \"yaxis\": {\"showline\": false, \"showticklabels\": true, \"showgrid\": false}, \"title\": \"Barplot of Feature importances for XGBoost\", \"height\": 1000}, {\"linkText\": \"Export to plot.ly\", \"showLink\": true})});</script>"
      ],
      "text/vnd.plotly.v1+html": [
       "<div id=\"20f8b432-0495-4cd3-9742-a6fca3250888\" style=\"height: 1000px; width: 1000px;\" class=\"plotly-graph-div\"></div><script type=\"text/javascript\">require([\"plotly\"], function(Plotly) { window.PLOTLYENV=window.PLOTLYENV || {};window.PLOTLYENV.BASE_URL=\"https://plot.ly\";Plotly.newPlot(\"20f8b432-0495-4cd3-9742-a6fca3250888\", [{\"orientation\": \"h\", \"marker\": {\"reversescale\": true, \"color\": [0.0, 0.0, 0.0, 0.005328597035259008, 0.023090586066246033, 0.05150976777076721, 0.0657193586230278, 0.07460035383701324, 0.09413854032754898, 0.3214920163154602, 0.3641207814216614], \"colorscale\": \"Viridis\"}, \"y\": [\"Negative\", \"Subjectivity\", \"Volume\", \"High\", \"Open\", \"Positive\", \"Date\", \"Objectivity\", \"Close\", \"Neutral\", \"Low\"], \"x\": [0.0, 0.0, 0.0, 0.005328597035259008, 0.023090586066246033, 0.05150976777076721, 0.0657193586230278, 0.07460035383701324, 0.09413854032754898, 0.3214920163154602, 0.3641207814216614], \"type\": \"bar\", \"name\": \"Feature importance for XGBoost\"}], {\"width\": 1000, \"yaxis\": {\"showline\": false, \"showticklabels\": true, \"showgrid\": false}, \"title\": \"Barplot of Feature importances for XGBoost\", \"height\": 1000}, {\"linkText\": \"Export to plot.ly\", \"showLink\": true})});</script>"
      ]
     },
     "metadata": {},
     "output_type": "display_data"
    }
   ],
   "source": [
    "features = merged_dataframe.drop(['Label'],axis=1).columns.values\n",
    "\n",
    "x, y = (list(x) for x in zip(*sorted(zip(model_xgb.feature_importances_, features), \n",
    "                                                            reverse = False)))\n",
    "trace2 = go.Bar(\n",
    "    x=x ,\n",
    "    y=y,\n",
    "    marker=dict(\n",
    "        color=x,\n",
    "        colorscale = 'Viridis',\n",
    "        reversescale = True\n",
    "    ),\n",
    "    name='Feature importance for XGBoost',\n",
    "    orientation='h',\n",
    ")\n",
    "\n",
    "layout = dict(\n",
    "    title='Barplot of Feature importances for XGBoost',\n",
    "     width = 1000, height = 1000,\n",
    "    yaxis=dict(\n",
    "        showgrid=False,\n",
    "        showline=False,\n",
    "        showticklabels=True,\n",
    "#         domain=[0, 0.85],\n",
    "    ))\n",
    "\n",
    "fig1 = go.Figure(data=[trace2])\n",
    "fig1['layout'].update(layout)\n",
    "py.iplot(fig1, filename='plots')\n"
   ]
  },
  {
   "cell_type": "markdown",
   "metadata": {},
   "source": [
    "<div class=\"span5 alert alert-info\">\n",
    "<p>\n",
    "Below is the feature importance graph for Random Forests.\n",
    "</p>\n",
    "</div>"
   ]
  },
  {
   "cell_type": "code",
   "execution_count": 22,
   "metadata": {
    "scrolled": false
   },
   "outputs": [
    {
     "data": {
      "application/vnd.plotly.v1+json": {
       "data": [
        {
         "marker": {
          "color": [
           0.05233973811383351,
           0.052981479839818976,
           0.053624188480495875,
           0.06972074380480797,
           0.07179592296424862,
           0.09649111007110696,
           0.09688864522691132,
           0.11470141751210573,
           0.11632133665849576,
           0.11966729440825719,
           0.1554681229199185
          ],
          "colorscale": "Viridis",
          "reversescale": true
         },
         "name": "Feature importance for Random Forests",
         "orientation": "h",
         "type": "bar",
         "x": [
          0.05233973811383351,
          0.052981479839818976,
          0.053624188480495875,
          0.06972074380480797,
          0.07179592296424862,
          0.09649111007110696,
          0.09688864522691132,
          0.11470141751210573,
          0.11632133665849576,
          0.11966729440825719,
          0.1554681229199185
         ],
         "y": [
          "Date",
          "Subjectivity",
          "Negative",
          "Objectivity",
          "Positive",
          "High",
          "Open",
          "Low",
          "Volume",
          "Close",
          "Neutral"
         ]
        }
       ],
       "layout": {
        "height": 1000,
        "title": "Barplot of Feature importances for Random Forests",
        "width": 1000,
        "yaxis": {
         "showgrid": false,
         "showline": false,
         "showticklabels": true
        }
       }
      },
      "text/html": [
       "<div id=\"c0fd26f9-03f6-4135-9ebd-6e82e67cc740\" style=\"height: 1000px; width: 1000px;\" class=\"plotly-graph-div\"></div><script type=\"text/javascript\">require([\"plotly\"], function(Plotly) { window.PLOTLYENV=window.PLOTLYENV || {};window.PLOTLYENV.BASE_URL=\"https://plot.ly\";Plotly.newPlot(\"c0fd26f9-03f6-4135-9ebd-6e82e67cc740\", [{\"orientation\": \"h\", \"marker\": {\"reversescale\": true, \"color\": [0.05233973811383351, 0.052981479839818976, 0.053624188480495875, 0.06972074380480797, 0.07179592296424862, 0.09649111007110696, 0.09688864522691132, 0.11470141751210573, 0.11632133665849576, 0.11966729440825719, 0.1554681229199185], \"colorscale\": \"Viridis\"}, \"y\": [\"Date\", \"Subjectivity\", \"Negative\", \"Objectivity\", \"Positive\", \"High\", \"Open\", \"Low\", \"Volume\", \"Close\", \"Neutral\"], \"x\": [0.05233973811383351, 0.052981479839818976, 0.053624188480495875, 0.06972074380480797, 0.07179592296424862, 0.09649111007110696, 0.09688864522691132, 0.11470141751210573, 0.11632133665849576, 0.11966729440825719, 0.1554681229199185], \"type\": \"bar\", \"name\": \"Feature importance for Random Forests\"}], {\"width\": 1000, \"yaxis\": {\"showline\": false, \"showticklabels\": true, \"showgrid\": false}, \"title\": \"Barplot of Feature importances for Random Forests\", \"height\": 1000}, {\"linkText\": \"Export to plot.ly\", \"showLink\": true})});</script>"
      ],
      "text/vnd.plotly.v1+html": [
       "<div id=\"c0fd26f9-03f6-4135-9ebd-6e82e67cc740\" style=\"height: 1000px; width: 1000px;\" class=\"plotly-graph-div\"></div><script type=\"text/javascript\">require([\"plotly\"], function(Plotly) { window.PLOTLYENV=window.PLOTLYENV || {};window.PLOTLYENV.BASE_URL=\"https://plot.ly\";Plotly.newPlot(\"c0fd26f9-03f6-4135-9ebd-6e82e67cc740\", [{\"orientation\": \"h\", \"marker\": {\"reversescale\": true, \"color\": [0.05233973811383351, 0.052981479839818976, 0.053624188480495875, 0.06972074380480797, 0.07179592296424862, 0.09649111007110696, 0.09688864522691132, 0.11470141751210573, 0.11632133665849576, 0.11966729440825719, 0.1554681229199185], \"colorscale\": \"Viridis\"}, \"y\": [\"Date\", \"Subjectivity\", \"Negative\", \"Objectivity\", \"Positive\", \"High\", \"Open\", \"Low\", \"Volume\", \"Close\", \"Neutral\"], \"x\": [0.05233973811383351, 0.052981479839818976, 0.053624188480495875, 0.06972074380480797, 0.07179592296424862, 0.09649111007110696, 0.09688864522691132, 0.11470141751210573, 0.11632133665849576, 0.11966729440825719, 0.1554681229199185], \"type\": \"bar\", \"name\": \"Feature importance for Random Forests\"}], {\"width\": 1000, \"yaxis\": {\"showline\": false, \"showticklabels\": true, \"showgrid\": false}, \"title\": \"Barplot of Feature importances for Random Forests\", \"height\": 1000}, {\"linkText\": \"Export to plot.ly\", \"showLink\": true})});</script>"
      ]
     },
     "metadata": {},
     "output_type": "display_data"
    }
   ],
   "source": [
    "x, y = (list(x) for x in zip(*sorted(zip(model_rf.feature_importances_, features), \n",
    "                                                            reverse = False)))\n",
    "trace2 = go.Bar(\n",
    "    x=x ,\n",
    "    y=y,\n",
    "    marker=dict(\n",
    "        color=x,\n",
    "        colorscale = 'Viridis',\n",
    "        reversescale = True\n",
    "    ),\n",
    "    name='Feature importance for Random Forests',\n",
    "    orientation='h',\n",
    ")\n",
    "\n",
    "layout = dict(\n",
    "    title='Barplot of Feature importances for Random Forests',\n",
    "     width = 1000, height = 1000,\n",
    "    yaxis=dict(\n",
    "        showgrid=False,\n",
    "        showline=False,\n",
    "        showticklabels=True,\n",
    "#         domain=[0, 0.85],\n",
    "    ))\n",
    "\n",
    "fig1 = go.Figure(data=[trace2])\n",
    "fig1['layout'].update(layout)\n",
    "py.iplot(fig1, filename='plots')\n"
   ]
  },
  {
   "cell_type": "markdown",
   "metadata": {},
   "source": [
    "<div class=\"span5 alert alert-info\">\n",
    "<p>\n",
    "<h3>Fine Tuning XGBoost</h3>\n",
    "<br>\n",
    "As of now the model that seems to be performing the best is the XGBoost model.\n",
    "<br/><br/>\n",
    "Lets see if we can fine tune it further to increase the accuracy of the model.\n",
    "</p></div>"
   ]
  },
  {
   "cell_type": "code",
   "execution_count": 39,
   "metadata": {
    "scrolled": false
   },
   "outputs": [
    {
     "name": "stderr",
     "output_type": "stream",
     "text": [
      "/Library/Frameworks/Python.framework/Versions/2.7/lib/python2.7/site-packages/matplotlib/__init__.py:1357: UserWarning:\n",
      "\n",
      " This call to matplotlib.use() has no effect\n",
      "because the backend has already been chosen;\n",
      "matplotlib.use() must be called *before* pylab, matplotlib.pyplot,\n",
      "or matplotlib.backends is imported for the first time.\n",
      "\n",
      "\n"
     ]
    },
    {
     "name": "stdout",
     "output_type": "stream",
     "text": [
      "[1, 2, 3, 4, 5, 6, 7, 8, 9, 10, 11, 12]\n",
      "Score is 0.571189279732 at depth of 1 and estimator 150\n",
      "Score is 0.587939698492 at depth of 2 and estimator 150\n",
      "Score is 0.587939698492 at depth of 3 and estimator 150\n",
      "Score is 0.587939698492 at depth of 4 and estimator 150\n",
      "Score is 0.582914572864 at depth of 5 and estimator 150\n",
      "Score is 0.587939698492 at depth of 6 and estimator 150\n",
      "Score is 0.592964824121 at depth of 7 and estimator 150\n",
      "Score is 0.582914572864 at depth of 8 and estimator 150\n",
      "Score is 0.579564489112 at depth of 9 and estimator 150\n",
      "Score is 0.596314907873 at depth of 10 and estimator 150\n",
      "Score is 0.592964824121 at depth of 11 and estimator 150\n",
      "Score is 0.591289782245 at depth of 12 and estimator 150\n",
      "Score is 0.577889447236 at depth of 1 and estimator 200\n",
      "Score is 0.589614740369 at depth of 2 and estimator 200\n",
      "Score is 0.591289782245 at depth of 3 and estimator 200\n",
      "Score is 0.592964824121 at depth of 4 and estimator 200\n",
      "Score is 0.579564489112 at depth of 5 and estimator 200\n",
      "Score is 0.589614740369 at depth of 6 and estimator 200\n",
      "Score is 0.594639865997 at depth of 7 and estimator 200\n",
      "Score is 0.587939698492 at depth of 8 and estimator 200\n",
      "Score is 0.569514237856 at depth of 9 and estimator 200\n",
      "Score is 0.592964824121 at depth of 10 and estimator 200\n",
      "Score is 0.589614740369 at depth of 11 and estimator 200\n",
      "Score is 0.592964824121 at depth of 12 and estimator 200\n",
      "Score is 0.57621440536 at depth of 1 and estimator 250\n",
      "Score is 0.591289782245 at depth of 2 and estimator 250\n",
      "Score is 0.596314907873 at depth of 3 and estimator 250\n",
      "Score is 0.591289782245 at depth of 4 and estimator 250\n",
      "Score is 0.582914572864 at depth of 5 and estimator 250\n",
      "Score is 0.586264656616 at depth of 6 and estimator 250\n",
      "Score is 0.587939698492 at depth of 7 and estimator 250\n",
      "Score is 0.581239530988 at depth of 8 and estimator 250\n",
      "Score is 0.556113902848 at depth of 9 and estimator 250\n",
      "Score is 0.591289782245 at depth of 10 and estimator 250\n",
      "Score is 0.581239530988 at depth of 11 and estimator 250\n",
      "Score is 0.589614740369 at depth of 12 and estimator 250\n",
      "Score is 0.57621440536 at depth of 1 and estimator 450\n",
      "Score is 0.589614740369 at depth of 2 and estimator 450\n",
      "Score is 0.603015075377 at depth of 3 and estimator 450\n",
      "Score is 0.589614740369 at depth of 4 and estimator 450\n",
      "Score is 0.592964824121 at depth of 5 and estimator 450\n",
      "Score is 0.589614740369 at depth of 6 and estimator 450\n",
      "Score is 0.581239530988 at depth of 7 and estimator 450\n",
      "Score is 0.582914572864 at depth of 8 and estimator 450\n",
      "Score is 0.561139028476 at depth of 9 and estimator 450\n",
      "Score is 0.577889447236 at depth of 10 and estimator 450\n",
      "Score is 0.58458961474 at depth of 11 and estimator 450\n",
      "Score is 0.581239530988 at depth of 12 and estimator 450\n",
      "Score is 0.579564489112 at depth of 1 and estimator 500\n",
      "Score is 0.594639865997 at depth of 2 and estimator 500\n",
      "Score is 0.616415410385 at depth of 3 and estimator 500\n",
      "Score is 0.592964824121 at depth of 4 and estimator 500\n",
      "Score is 0.591289782245 at depth of 5 and estimator 500\n",
      "Score is 0.594639865997 at depth of 6 and estimator 500\n",
      "Score is 0.58458961474 at depth of 7 and estimator 500\n",
      "Score is 0.581239530988 at depth of 8 and estimator 500\n",
      "Score is 0.564489112228 at depth of 9 and estimator 500\n",
      "Score is 0.581239530988 at depth of 10 and estimator 500\n",
      "Score is 0.581239530988 at depth of 11 and estimator 500\n",
      "Score is 0.57621440536 at depth of 12 and estimator 500\n",
      "Score is 0.579564489112 at depth of 1 and estimator 550\n",
      "Score is 0.591289782245 at depth of 2 and estimator 550\n",
      "Score is 0.616415410385 at depth of 3 and estimator 550\n",
      "Score is 0.597989949749 at depth of 4 and estimator 550\n",
      "Score is 0.591289782245 at depth of 5 and estimator 550\n",
      "Score is 0.58458961474 at depth of 6 and estimator 550\n",
      "Score is 0.58458961474 at depth of 7 and estimator 550\n",
      "Score is 0.577889447236 at depth of 8 and estimator 550\n",
      "Score is 0.569514237856 at depth of 9 and estimator 550\n",
      "Score is 0.577889447236 at depth of 10 and estimator 550\n",
      "Score is 0.581239530988 at depth of 11 and estimator 550\n",
      "Score is 0.57621440536 at depth of 12 and estimator 550\n",
      "Score is 0.582914572864 at depth of 1 and estimator 1000\n",
      "Score is 0.579564489112 at depth of 2 and estimator 1000\n",
      "Score is 0.599664991625 at depth of 3 and estimator 1000\n",
      "Score is 0.596314907873 at depth of 4 and estimator 1000\n",
      "Score is 0.577889447236 at depth of 5 and estimator 1000\n",
      "Score is 0.587939698492 at depth of 6 and estimator 1000\n",
      "Score is 0.572864321608 at depth of 7 and estimator 1000\n",
      "Score is 0.569514237856 at depth of 8 and estimator 1000\n",
      "Score is 0.571189279732 at depth of 9 and estimator 1000\n",
      "Score is 0.577889447236 at depth of 10 and estimator 1000\n",
      "Score is 0.569514237856 at depth of 11 and estimator 1000\n",
      "Score is 0.574539363484 at depth of 12 and estimator 1000\n",
      "Best score is 0.616415410385 at depth of 3 and estimator of 500\n"
     ]
    },
    {
     "data": {
      "text/plain": [
       "\"\\nfor i, value in enumerate(max_depth):\\n    pyplot.plot(n_estimators, scores[i], label='depth: ' + str(value))\\npyplot.legend()\\npyplot.xlabel('n_estimators')\\npyplot.ylabel('Log Loss')\\npyplot.show()\\n#pyplot.savefig('n_estimators_vs_max_depth.png')\\n\""
      ]
     },
     "execution_count": 39,
     "metadata": {},
     "output_type": "execute_result"
    }
   ],
   "source": [
    "# XGBoost on Stock Price dataset, Tune n_estimators and max_depth\n",
    "from sklearn.model_selection import GridSearchCV\n",
    "from sklearn.model_selection import StratifiedKFold\n",
    "from sklearn.preprocessing import LabelEncoder\n",
    "import matplotlib\n",
    "\n",
    "matplotlib.use('Agg')\n",
    "model = XGBClassifier()\n",
    "n_estimators = [150, 200, 250, 450, 500, 550, 1000]\n",
    "max_depth = [1, 2, 3, 4, 5, 6, 7, 8, 9, 10, 11, 12]\n",
    "print(max_depth)\n",
    "best_depth = 0\n",
    "best_estimator = 0\n",
    "max_score = 0\n",
    "for n in n_estimators:\n",
    "    for md in max_depth:\n",
    "        model = XGBClassifier(n_estimators=n, max_depth=md)\n",
    "        model.fit(X_train, y_train)\n",
    "        y_pred = model.predict(X_test)\n",
    "        score = accuracy_score(y_test, y_pred)\n",
    "        if score > max_score:\n",
    "            max_score = score\n",
    "            best_depth = md\n",
    "            best_estimator = n\n",
    "        print(\"Score is \" + str(score) + \" at depth of \" + str(md) + \" and estimator \" + str(n))\n",
    "print(\"Best score is \" + str(max_score) + \" at depth of \" + str(best_depth) + \" and estimator of \" + str(best_estimator))\n"
   ]
  },
  {
   "cell_type": "markdown",
   "metadata": {},
   "source": [
    "<div class=\"span5 alert alert-info\">\n",
    "<h3> Fine tuning with important features:</h3>"
   ]
  },
  {
   "cell_type": "code",
   "execution_count": 43,
   "metadata": {},
   "outputs": [
    {
     "name": "stdout",
     "output_type": "stream",
     "text": [
      "Score is 0.616415410385\n"
     ]
    }
   ],
   "source": [
    "imp_features_df = merged_dataframe[['Low', \"Neutral\", 'Close', 'Objectivity', 'Date']]\n",
    "Xi_train, Xi_test = X.loc[0:train_size, :], X.loc[train_size: len(X.index), :]\n",
    "clf = XGBClassifier(n_estimators=500, max_depth=3)\n",
    "clf.fit(Xi_train, y_train)\n",
    "yi_pred = clf.predict(Xi_test)\n",
    "score = accuracy_score(y_test, yi_pred)\n",
    "print(\"Score is \"+ str(score))\n"
   ]
  },
  {
   "cell_type": "markdown",
   "metadata": {},
   "source": [
    "<div class=\"span5 alert alert-info\">\n",
    "<h3>PCA transformation:</h3>\n",
    "    </div>"
   ]
  },
  {
   "cell_type": "code",
   "execution_count": 46,
   "metadata": {},
   "outputs": [
    {
     "name": "stdout",
     "output_type": "stream",
     "text": [
      "<type 'numpy.ndarray'>\n"
     ]
    }
   ],
   "source": [
    "from sklearn.decomposition import PCA\n",
    "\n",
    "pca = PCA(n_components=3)\n",
    "pca.fit(X)\n",
    "transformed = pca.transform(X)\n",
    "\n",
    "transformed.shape\n",
    "print(type(transformed))"
   ]
  },
  {
   "cell_type": "code",
   "execution_count": 47,
   "metadata": {},
   "outputs": [
    {
     "name": "stdout",
     "output_type": "stream",
     "text": [
      "Score is 0.941373534338\n"
     ]
    }
   ],
   "source": [
    "pca_df = pd.DataFrame(transformed)\n",
    "\n",
    "X_train_pca, X_test_pca = pca_df.loc[0:train_size, :], pca_df.loc[train_size: len(X.index), :]\n",
    "\n",
    "clf = XGBClassifier(n_estimators=500, max_depth=3)\n",
    "clf.fit(X_train_pca, y_train)\n",
    "y_pred_pca = clf.predict(X_test_pca)\n",
    "score = accuracy_score(y_test, y_pred_pca)\n",
    "print(\"Score is \"+ str(score))\n"
   ]
  },
  {
   "cell_type": "code",
   "execution_count": 48,
   "metadata": {},
   "outputs": [
    {
     "name": "stdout",
     "output_type": "stream",
     "text": [
      "Confusion Matrix: \n",
      "[[258  22]\n",
      " [ 13 304]]\n",
      "Classification report: \n",
      "             precision    recall  f1-score   support\n",
      "\n",
      "          0       0.95      0.92      0.94       280\n",
      "          1       0.93      0.96      0.95       317\n",
      "\n",
      "avg / total       0.94      0.94      0.94       597\n",
      "\n"
     ]
    }
   ],
   "source": [
    "pca_matrix = confusion_matrix(y_test, y_pred_pca)\n",
    "pca_report = classification_report(y_test, y_pred_pca)\n",
    "print(\"Confusion Matrix: \\n\" + str(pca_matrix))\n",
    "print(\"Classification report: \\n\" + str(pca_report))"
   ]
  },
  {
   "cell_type": "code",
   "execution_count": 50,
   "metadata": {},
   "outputs": [
    {
     "name": "stdout",
     "output_type": "stream",
     "text": [
      "AUC score is 0.987730959892\n",
      "roc auc is :0.987730959892\n"
     ]
    },
    {
     "data": {
      "image/png": "[encoded data removed]",
      "text/plain": [
       "<matplotlib.figure.Figure at 0x10ac41b50>"
      ]
     },
     "metadata": {},
     "output_type": "display_data"
    }
   ],
   "source": [
    "# Generating the ROC curve\n",
    "y_pred_proba_pca = clf.predict_proba(X_test_pca)[:,1]\n",
    "fpr, tpr, thresholds = roc_curve(y_test, y_pred_proba_pca)\n",
    "roc_auc = auc(fpr, tpr)\n",
    "print(\"AUC score is \" + str(roc_auc))\n",
    "\n",
    "# Plot ROC curve\n",
    "print(\"roc auc is :\" + str(roc_auc))\n",
    "pyplot.plot([0, 1], [0, 1], 'k--')\n",
    "pyplot.plot(fpr, tpr)\n",
    "pyplot.xlabel('False Positive Rate')\n",
    "pyplot.ylabel('True Positive Rate')\n",
    "pyplot.title('ROC Curve')\n",
    "pyplot.show()\n"
   ]
  },
  {
   "cell_type": "markdown",
   "metadata": {},
   "source": [
    "<div class=\"alert alert-info\">\n",
    "<p>\n",
    "    <br/>\n",
    "Now lets try and train our data using a TimeSeriesSplit which is specifically used for splitting the dataset to \n",
    "training and testing datasets.\n",
    "<br/><br/>\n",
    "By specifying the number of splits, we can split the data on a sample of 40%, 70% and 100% of the dataset.\n",
    "<br/><br/>\n",
    "The plots below shows the splits of the datasets and the respective number of samples in each split.\n",
    "</p>\n",
    "</div>"
   ]
  },
  {
   "cell_type": "code",
   "execution_count": 23,
   "metadata": {},
   "outputs": [
    {
     "name": "stdout",
     "output_type": "stream",
     "text": [
      "<generator object split at 0x10c8df8c0>\n",
      "Observations: 995\n",
      "Training Observations: 498\n",
      "Testing Observations: 497\n",
      "Observations: 1492\n",
      "Training Observations: 995\n",
      "Testing Observations: 497\n",
      "Observations: 1989\n",
      "Training Observations: 1492\n",
      "Testing Observations: 497\n"
     ]
    },
    {
     "data": {
      "image/png": "[encoded data removed]",
      "text/plain": [
       "<matplotlib.figure.Figure at 0x109fc5150>"
      ]
     },
     "metadata": {},
     "output_type": "display_data"
    },
    {
     "name": "stdout",
     "output_type": "stream",
     "text": [
      "Observations: 995\n",
      "Training Observations: 498\n",
      "Testing Observations: 497\n",
      "Observations: 1492\n",
      "Training Observations: 995\n",
      "Testing Observations: 497\n",
      "Observations: 1989\n",
      "Training Observations: 1492\n",
      "Testing Observations: 497\n"
     ]
    },
    {
     "data": {
      "image/png": "[encoded data removed]",
      "text/plain": [
       "<matplotlib.figure.Figure at 0x116ab4050>"
      ]
     },
     "metadata": {},
     "output_type": "display_data"
    }
   ],
   "source": [
    "splits = TimeSeriesSplit(n_splits=3)\n",
    "pyplot.figure(1)\n",
    "index = 1\n",
    "print(splits.split(X))\n",
    "for X_train_index, X_test_index in splits.split(X):\n",
    "    X1_train = X.loc[X_train_index, :]\n",
    "    X1_test = X.loc[X_test_index, :]\n",
    "    print('Observations: %d' % (len(X1_train) + len(X1_test)))\n",
    "    print('Training Observations: %d' % (len(X1_train)))\n",
    "    print('Testing Observations: %d' % (len(X1_test)))\n",
    "    pyplot.subplot(310 + index)\n",
    "    pyplot.plot(X1_train['Objectivity'])\n",
    "    pyplot.plot([None for i in X1_train['Objectivity']] + [x for x in X1_test['Objectivity']])\n",
    "    index += 1\n",
    "pyplot.show()\n",
    "\n",
    "index = 1\n",
    "for y_train_index, y_test_index in splits.split(y):\n",
    "    y1_train = y[y_train_index]\n",
    "    y1_test = y[y_test_index]\n",
    "    print('Observations: %d' % (len(y1_train) + len(y1_test)))\n",
    "    print('Training Observations: %d' % (len(y1_train)))\n",
    "    print('Testing Observations: %d' % (len(y1_test)))\n",
    "    pyplot.subplot(310 + index)\n",
    "    pyplot.plot(y1_train)\n",
    "    pyplot.plot([None for i in y1_train] + [x for x in y1_test])\n",
    "    index += 1\n",
    "pyplot.show()\n"
   ]
  },
  {
   "cell_type": "markdown",
   "metadata": {},
   "source": [
    "<div class=\"span5 alert alert-info\">\n",
    "<p>\n",
    "Now, we will train our data on the new splits against all algorithms and check for accuracy.\n",
    "<br/><br/>\n",
    "We observe that all the algorithms are giving about 53% accuracy.\n",
    "    </p></div>"
   ]
  },
  {
   "cell_type": "code",
   "execution_count": 24,
   "metadata": {},
   "outputs": [
    {
     "name": "stdout",
     "output_type": "stream",
     "text": [
      "LR: 0.537688442211\n",
      "LDA: 0.537688442211\n",
      "KNN: 0.537688442211\n",
      "CART: 0.537688442211\n",
      "NB: 0.537688442211\n",
      "SVM: 0.537688442211\n",
      "RF: 0.537688442211\n"
     ]
    }
   ],
   "source": [
    "# Evaluate each algorithm for accuracy\n",
    "results = []\n",
    "names = []\n",
    "\n",
    "for name, model in models:\n",
    "    clf1 = model\n",
    "    clf1.fit(X1_train, y1_train)\n",
    "    y1_pred = clf.predict(X1_test)\n",
    "    accu_score1 = accuracy_score(y1_test, y1_pred)\n",
    "    print(name + \": \" + str(accu_score))"
   ]
  },
  {
   "cell_type": "code",
   "execution_count": 25,
   "metadata": {},
   "outputs": [
    {
     "name": "stdout",
     "output_type": "stream",
     "text": [
      "accuracy score:\n",
      "0.935613682093\n",
      "confusion matrix: \n",
      "[[210  30]\n",
      " [  2 255]]\n",
      "classification report: \n",
      "             precision    recall  f1-score   support\n",
      "\n",
      "          0       0.99      0.88      0.93       240\n",
      "          1       0.89      0.99      0.94       257\n",
      "\n",
      "avg / total       0.94      0.94      0.94       497\n",
      "\n"
     ]
    }
   ],
   "source": [
    "# prepare the model LDA\n",
    "scaler1 = StandardScaler().fit(X1_train)\n",
    "rescaledX1 = scaler1.transform(X1_train)\n",
    "model_lda1 = LinearDiscriminantAnalysis()\n",
    "model_lda1.fit(rescaledX1, y1_train)\n",
    "# estimate accuracy on validation dataset\n",
    "rescaledValidationX1 = scaler1.transform(X1_test)\n",
    "predictions1 = model_lda1.predict(rescaledValidationX1)\n",
    "print(\"accuracy score:\")\n",
    "print(accuracy_score(y1_test, predictions1))\n",
    "print(\"confusion matrix: \")\n",
    "print(confusion_matrix(y1_test, predictions1))\n",
    "print(\"classification report: \")\n",
    "print(classification_report(y1_test, predictions1))"
   ]
  },
  {
   "cell_type": "markdown",
   "metadata": {},
   "source": [
    "<div class=\"span5 alert alert-info\">\n",
    "<p>\n",
    "Lets scale our data using StandardScalar and see how the algorithm performs.\n",
    "<br/><br/>\n",
    "Scaling the data makes the accuracy increase to 57%. We can see the respective confusion matrix and accuracy scores below.\n",
    "    </p></div>"
   ]
  },
  {
   "cell_type": "code",
   "execution_count": 26,
   "metadata": {},
   "outputs": [
    {
     "name": "stdout",
     "output_type": "stream",
     "text": [
      "accuracy score:\n",
      "0.575452716298\n",
      "confusion matrix: \n",
      "[[ 62 178]\n",
      " [ 33 224]]\n",
      "classification report: \n",
      "             precision    recall  f1-score   support\n",
      "\n",
      "          0       0.65      0.26      0.37       240\n",
      "          1       0.56      0.87      0.68       257\n",
      "\n",
      "avg / total       0.60      0.58      0.53       497\n",
      "\n"
     ]
    }
   ],
   "source": [
    "# prepare the model Random Forest\n",
    "scaler_rf = StandardScaler().fit(X1_train)\n",
    "rescaledX_rf = scaler_rf.transform(X1_train)\n",
    "model_rf = RandomForestClassifier(n_estimators=500)\n",
    "model_rf.fit(rescaledX_rf, y1_train)\n",
    "# estimate accuracy on validation dataset\n",
    "rescaledValidationX_rf = scaler_rf.transform(X1_test)\n",
    "predictions_rf = model_rf.predict(rescaledValidationX_rf)\n",
    "print(\"accuracy score:\")\n",
    "print(accuracy_score(y1_test, predictions_rf))\n",
    "print(\"confusion matrix: \")\n",
    "print(confusion_matrix(y1_test, predictions_rf))\n",
    "print(\"classification report: \")\n",
    "print(classification_report(y1_test, predictions_rf))"
   ]
  },
  {
   "cell_type": "markdown",
   "metadata": {},
   "source": [
    "<div class=\"span5 alert alert-info\">\n",
    "<p>\n",
    "Plotting the roc auc curve and calculating the score shows a score of 0.5\n",
    "    </p></div>"
   ]
  },
  {
   "cell_type": "code",
   "execution_count": 27,
   "metadata": {},
   "outputs": [
    {
     "name": "stdout",
     "output_type": "stream",
     "text": [
      "roc auc is :0.5\n"
     ]
    },
    {
     "data": {
      "image/png": "[encoded data removed]",
      "text/plain": [
       "<matplotlib.figure.Figure at 0x117229710>"
      ]
     },
     "metadata": {},
     "output_type": "display_data"
    }
   ],
   "source": [
    "# Generating the ROC curve\n",
    "y1_pred_proba = model_lda1.predict_proba(X1_test)[:,1]\n",
    "fpr1, tpr1, thresholds1 = roc_curve(y1_test, y1_pred_proba)\n",
    "roc_auc1 = auc(fpr1, tpr1)\n",
    "\n",
    "# Plot ROC curve\n",
    "print(\"roc auc is :\" + str(roc_auc1))\n",
    "pyplot.plot([0, 1], [0, 1], 'k--')\n",
    "pyplot.plot(fpr1, tpr1)\n",
    "pyplot.xlabel('False Positive Rate')\n",
    "pyplot.ylabel('True Positive Rate')\n",
    "pyplot.title('ROC Curve')\n",
    "pyplot.show()"
   ]
  },
  {
   "cell_type": "markdown",
   "metadata": {},
   "source": [
    "<div class=\"span5 alert alert-info\">\n",
    "<p>\n",
    "<h2>ARIMA model:</h2>\n",
    "<br/><br/>\n",
    "Lets create an ARIMA model for our time series.\n",
    "<br/><br/>\n",
    "There are a certain checks that needs to be done before applying an ARIMA model on the dataset.\n",
    "<br/><br/>\n",
    "We need to check if there is a trend in our dataset. If there a trend, then we need to apply something called as differenciation to make our data stationary.\n",
    "<br/><br/>\n",
    "By plotting the outputs of the dataset, we see that there is a clear increasing trend.\n",
    "<br/><br/>\n",
    "This means we need to make our data stationary.\n",
    "</p></div>"
   ]
  },
  {
   "cell_type": "code",
   "execution_count": 23,
   "metadata": {},
   "outputs": [
    {
     "data": {
      "image/png": "[encoded data removed]",
      "text/plain": [
       "<matplotlib.figure.Figure at 0x10d653390>"
      ]
     },
     "metadata": {},
     "output_type": "display_data"
    },
    {
     "data": {
      "text/plain": [
       "\"\\npyplot.plot(merged_dataframe['Date'].loc['2009-08-10':'2010-08-10'], merged_dataframe['Close'].loc['2009-08-10':'2010-08-10'])\\npyplot.xlabel('Years')\\npyplot.ylabel('Stock Closing Prices')\\npyplot.show()\\n\""
      ]
     },
     "execution_count": 23,
     "metadata": {},
     "output_type": "execute_result"
    }
   ],
   "source": [
    "pyplot.plot(merged_dataframe['Date'], merged_dataframe['Close'])\n",
    "pyplot.xlabel('Years')\n",
    "pyplot.ylabel('Stock Closing Prices')\n",
    "pyplot.show()\n"
   ]
  },
  {
   "cell_type": "code",
   "execution_count": 30,
   "metadata": {},
   "outputs": [
    {
     "name": "stdout",
     "output_type": "stream",
     "text": [
      "<class 'pandas.core.frame.DataFrame'>\n",
      "Int64Index: 1989 entries, 0 to 1988\n",
      "Data columns (total 13 columns):\n",
      "Date            1989 non-null datetime64[ns]\n",
      "Subjectivity    1989 non-null float64\n",
      "Objectivity     1989 non-null float64\n",
      "Positive        1989 non-null float64\n",
      "Negative        1989 non-null float64\n",
      "Neutral         1989 non-null float64\n",
      "Open            1989 non-null float64\n",
      "High            1989 non-null float64\n",
      "Low             1989 non-null float64\n",
      "Close           1989 non-null float64\n",
      "Volume          1989 non-null float64\n",
      "Adj Close       1989 non-null float64\n",
      "Label           1989 non-null int64\n",
      "dtypes: datetime64[ns](1), float64(11), int64(1)\n",
      "memory usage: 217.5 KB\n"
     ]
    }
   ],
   "source": [
    "merged_dataframe.info()"
   ]
  },
  {
   "cell_type": "markdown",
   "metadata": {},
   "source": [
    "<div class=\"span5 alert alert-info\">\n",
    "Lets make the 'Date' column as index.\n",
    "<br/><br/>\n",
    "Now, we will plot the Autocorrelation plot to see estimate lag in our data.\n",
    "</div>"
   ]
  },
  {
   "cell_type": "code",
   "execution_count": 31,
   "metadata": {},
   "outputs": [],
   "source": [
    "merged_dataframe['Date'] = merged_dataframe['Date'].dt.strftime('%Y-%m')"
   ]
  },
  {
   "cell_type": "code",
   "execution_count": 32,
   "metadata": {},
   "outputs": [
    {
     "name": "stdout",
     "output_type": "stream",
     "text": [
      "Index([u'2008-08', u'2008-08', u'2008-08', u'2008-08', u'2008-08', u'2008-08',\n",
      "       u'2008-08', u'2008-08', u'2008-08', u'2008-08',\n",
      "       ...\n",
      "       u'2016-06', u'2016-06', u'2016-06', u'2016-06', u'2016-06', u'2016-06',\n",
      "       u'2016-06', u'2016-06', u'2016-06', u'2016-07'],\n",
      "      dtype='object', name=u'Date', length=1989)\n",
      "Date\n",
      "2008-08    11734.320312\n",
      "2008-08    11782.349609\n",
      "2008-08    11642.469727\n",
      "2008-08    11532.959961\n",
      "2008-08    11615.929688\n",
      "dtype: float64\n"
     ]
    },
    {
     "data": {
      "image/png": "[encoded data removed]",
      "text/plain": [
       "<matplotlib.figure.Figure at 0x109fc4c50>"
      ]
     },
     "metadata": {},
     "output_type": "display_data"
    }
   ],
   "source": [
    "df_dateclose = pd.Series(merged_dataframe['Close'].values, index = merged_dataframe['Date'])\n",
    "print(df_dateclose.index)\n",
    "print(df_dateclose.head())\n",
    "autocorrelation_plot(df_dateclose)\n",
    "pyplot.show()"
   ]
  },
  {
   "cell_type": "code",
   "execution_count": 43,
   "metadata": {},
   "outputs": [
    {
     "data": {
      "text/plain": [
       "0    11734.320312\n",
       "1    11782.349609\n",
       "2    11642.469727\n",
       "3    11532.959961\n",
       "4    11615.929688\n",
       "Name: Close, dtype: float64"
      ]
     },
     "execution_count": 43,
     "metadata": {},
     "output_type": "execute_result"
    }
   ],
   "source": [
    "merged_dataframe['Close'].head()"
   ]
  },
  {
   "cell_type": "code",
   "execution_count": 34,
   "metadata": {},
   "outputs": [
    {
     "data": {
      "image/png": "[encoded data removed]",
      "text/plain": [
       "<matplotlib.figure.Figure at 0x10a008e10>"
      ]
     },
     "execution_count": 34,
     "metadata": {},
     "output_type": "execute_result"
    }
   ],
   "source": [
    "plot_acf(df_dateclose)\n",
    "plot_pacf(df_dateclose)"
   ]
  },
  {
   "cell_type": "code",
   "execution_count": 35,
   "metadata": {},
   "outputs": [
    {
     "data": {
      "image/png": "[encoded data removed]",
      "text/plain": [
       "<matplotlib.figure.Figure at 0x11580fcd0>"
      ]
     },
     "execution_count": 35,
     "metadata": {},
     "output_type": "execute_result"
    }
   ],
   "source": [
    "plot_pacf(df_dateclose, lags=50)"
   ]
  },
  {
   "cell_type": "code",
   "execution_count": 36,
   "metadata": {},
   "outputs": [
    {
     "data": {
      "image/png": "[encoded data removed]",
      "text/plain": [
       "<matplotlib.figure.Figure at 0x1178e9e10>"
      ]
     },
     "execution_count": 36,
     "metadata": {},
     "output_type": "execute_result"
    }
   ],
   "source": [
    "plot_acf(df_dateclose)"
   ]
  },
  {
   "cell_type": "code",
   "execution_count": 37,
   "metadata": {},
   "outputs": [
    {
     "data": {
      "image/png": "[encoded data removed]",
      "text/plain": [
       "<matplotlib.figure.Figure at 0x115f1ab10>"
      ]
     },
     "execution_count": 37,
     "metadata": {},
     "output_type": "execute_result"
    }
   ],
   "source": [
    "plot_acf(df_dateclose, lags=50)"
   ]
  },
  {
   "cell_type": "code",
   "execution_count": 38,
   "metadata": {},
   "outputs": [],
   "source": [
    "arima_df = pd.DataFrame(merged_dataframe, index=merged_dataframe['Date'])"
   ]
  },
  {
   "cell_type": "code",
   "execution_count": 39,
   "metadata": {},
   "outputs": [
    {
     "data": {
      "text/plain": [
       "Index([u'2008-08', u'2008-08', u'2008-08', u'2008-08', u'2008-08', u'2008-08',\n",
       "       u'2008-08', u'2008-08', u'2008-08', u'2008-08',\n",
       "       ...\n",
       "       u'2016-06', u'2016-06', u'2016-06', u'2016-06', u'2016-06', u'2016-06',\n",
       "       u'2016-06', u'2016-06', u'2016-06', u'2016-07'],\n",
       "      dtype='object', name=u'Date', length=1989)"
      ]
     },
     "execution_count": 39,
     "metadata": {},
     "output_type": "execute_result"
    }
   ],
   "source": [
    "arima_df.index"
   ]
  },
  {
   "cell_type": "markdown",
   "metadata": {},
   "source": [
    "<div class=\"span5 alert alert-info\">\n",
    "<p>\n",
    "Lets look at how our ARIMA model performs with different values of p,d,q\n",
    "<br/><br/>\n",
    "We will do this by looping over the combination of a different range of parameters and check which of the parameter have the least mean squared error.\n",
    "    </p></div>"
   ]
  },
  {
   "cell_type": "code",
   "execution_count": 40,
   "metadata": {},
   "outputs": [
    {
     "name": "stdout",
     "output_type": "stream",
     "text": [
      "ARIMA(0, 0, 0) MSE=20668304.955\n",
      "ARIMA(0, 0, 1) MSE=5461790.075\n",
      "ARIMA(0, 0, 2) MSE=1772079.150\n",
      "ARIMA(0, 1, 0) MSE=20795.457\n",
      "ARIMA(0, 1, 1) MSE=20924.395\n",
      "ARIMA(0, 1, 2) MSE=20943.655\n",
      "ARIMA(0, 2, 0) MSE=42509.418\n",
      "ARIMA(0, 2, 1) MSE=20868.506\n",
      "ARIMA(1, 0, 0) MSE=20855.468\n",
      "ARIMA(1, 1, 0) MSE=20900.617\n",
      "ARIMA(1, 1, 1) MSE=20954.341\n",
      "ARIMA(1, 2, 0) MSE=31795.461\n",
      "ARIMA(2, 1, 0) MSE=20958.802\n",
      "ARIMA(2, 2, 0) MSE=28045.841\n",
      "ARIMA(2, 2, 1) MSE=21049.420\n",
      "ARIMA(4, 1, 0) MSE=20970.865\n",
      "ARIMA(4, 2, 0) MSE=25930.053\n",
      "ARIMA(4, 2, 1) MSE=21060.106\n",
      "ARIMA(6, 1, 0) MSE=21007.929\n",
      "ARIMA(6, 2, 0) MSE=24556.223\n",
      "ARIMA(6, 2, 2) MSE=21140.191\n",
      "ARIMA(8, 1, 0) MSE=21071.021\n",
      "ARIMA(8, 2, 0) MSE=23686.402\n",
      "ARIMA(8, 2, 1) MSE=21165.232\n",
      "ARIMA(10, 1, 0) MSE=21141.683\n",
      "ARIMA(10, 2, 0) MSE=23367.557\n",
      "ARIMA(10, 2, 1) MSE=21234.113\n",
      "Best ARIMA(0, 1, 0) MSE=20795.457\n"
     ]
    }
   ],
   "source": [
    "\n",
    "# evaluate an ARIMA model for a given order (p,d,q)\n",
    "def evaluate_arima_model(X, arima_order):\n",
    "    # prepare training dataset\n",
    "    train_size = int(len(X) * 0.66)\n",
    "    train, test = X[0:train_size], X[train_size:]\n",
    "    history = [x for x in train]\n",
    "    # make predictions\n",
    "    predictions = list()\n",
    "    for t in range(len(test)):\n",
    "        model = ARIMA(history, order=arima_order)\n",
    "        model_fit = model.fit(disp=0)\n",
    "        yhat = model_fit.forecast()[0]\n",
    "        predictions.append(yhat)\n",
    "        history.append(test[t])\n",
    "    # calculate out of sample error\n",
    "    error = mean_squared_error(test, predictions)\n",
    "    return error\n",
    "\n",
    "# evaluate combinations of p, d and q values for an ARIMA model\n",
    "def evaluate_models(dataset, p_values, d_values, q_values):\n",
    "    dataset = dataset.astype('float32')\n",
    "    best_score, best_cfg = float(\"inf\"), None\n",
    "    for p in p_values:\n",
    "        for d in d_values:\n",
    "            for q in q_values:\n",
    "                order = (p,d,q)\n",
    "                try:\n",
    "                    mse = evaluate_arima_model(dataset, order)\n",
    "                    if mse < best_score:\n",
    "                        best_score, best_cfg = mse, order\n",
    "                    print('ARIMA%s MSE=%.3f' % (order,mse))\n",
    "                except:\n",
    "                    continue\n",
    "    print('Best ARIMA%s MSE=%.3f' % (best_cfg, best_score))\n",
    "\n",
    "# evaluate parameters\n",
    "p_values = [0, 1, 2, 4, 6, 8, 10]\n",
    "d_values = range(0, 3)\n",
    "q_values = range(0, 3)\n",
    "warnings.filterwarnings(\"ignore\")\n",
    "evaluate_models(df_dateclose.values, p_values, d_values, q_values)"
   ]
  },
  {
   "cell_type": "markdown",
   "metadata": {},
   "source": [
    "<div class=\"span5 alert alert-info\">\n",
    "<p>\n",
    "Based on our code, we have found out that the ARIMA model is best when the parameters are 0,1,0 for p,d,q respectively.\n",
    "<br/><br/>\n",
    "The mean squared error of the model training is about 20000 which is considerably ok as we are dealing with a huge set of numbers.\n",
    "</p></div>\n"
   ]
  },
  {
   "cell_type": "code",
   "execution_count": 41,
   "metadata": {},
   "outputs": [
    {
     "data": {
      "text/plain": [
       "array([ 11734.320312,  11782.349609,  11642.469727, ...,  17694.679688,\n",
       "        17929.990234,  17949.369141])"
      ]
     },
     "execution_count": 41,
     "metadata": {},
     "output_type": "execute_result"
    }
   ],
   "source": [
    "df_dateclose.values"
   ]
  },
  {
   "cell_type": "markdown",
   "metadata": {},
   "source": [
    "<div class=\"span5 alert alert-info\">\n",
    "<p>\n",
    "Now ,lets predict the values based on our the model we fit in the previous cell on the test set and plot a graph of the predicted and actual values.\n",
    "<br/><br/>\n",
    "We can observe below that the expected and predicted value are very close and it looks like for each of the samples, the previous expected value is much closer to the current predicted.\n",
    "   <br/><br/>\n",
    " \n",
    "The plot below shows the predicted and actual values in red and blue respectively.\n",
    "<br/><br/>\n",
    "Its very smooth and seems like the model is doing a good job, but it can definitely do better with a little bit of tweaking.\n",
    "</p></div>"
   ]
  },
  {
   "cell_type": "code",
   "execution_count": 47,
   "metadata": {
    "scrolled": false
   },
   "outputs": [
    {
     "name": "stdout",
     "output_type": "stream",
     "text": [
      "predicted=15416.136340, expected=15509.209961\n",
      "predicted=15512.087163, expected=15570.280273\n",
      "predicted=15573.201796, expected=15568.929688\n",
      "predicted=15571.847960, expected=15680.349609\n",
      "predicted=15683.350392, expected=15618.759766\n",
      "predicted=15621.711468, expected=15545.750000\n",
      "predicted=15548.644024, expected=15615.549805\n",
      "predicted=15618.494592, expected=15639.120117\n",
      "predicted=15642.080541, expected=15618.219727\n",
      "predicted=15621.162075, expected=15746.879883\n",
      "predicted=15749.917400, expected=15593.980469\n",
      "predicted=15596.900030, expected=15761.780273\n",
      "predicted=15764.824460, expected=15783.099609\n",
      "predicted=15786.157599, expected=15750.669922\n",
      "predicted=15753.701129, expected=15821.629883\n",
      "predicted=15824.712319, expected=15876.219727\n",
      "predicted=15879.340978, expected=15961.700195\n",
      "predicted=15964.883463, expected=15976.019531\n",
      "predicted=15979.211178, expected=15967.030273\n",
      "predicted=15970.212762, expected=15900.820312\n",
      "predicted=15903.950665, expected=16009.990234\n",
      "predicted=16013.200196, expected=16064.769531\n",
      "predicted=16068.018180, expected=16072.540039\n",
      "predicted=16075.792078, expected=16072.799805\n",
      "predicted=16076.049602, expected=16097.330078\n",
      "predicted=16100.595804, expected=16086.410156\n",
      "predicted=16089.665272, expected=16008.769531\n",
      "predicted=16011.964187, expected=15914.620117\n",
      "predicted=15917.742074, expected=15889.769531\n",
      "predicted=15892.870613, expected=15821.509766\n",
      "predicted=15824.557633, expected=16020.200195\n",
      "predicted=16023.393846, expected=16025.530273\n",
      "predicted=16028.725515, expected=15973.129883\n",
      "predicted=15976.283759, expected=15843.530273\n",
      "predicted=15846.585448, expected=15739.429688\n",
      "predicted=15742.405252, expected=15755.360352\n",
      "predicted=15758.345537, expected=15884.570312\n",
      "predicted=15887.649132, expected=15875.259766\n",
      "predicted=15878.329402, expected=16167.969727\n",
      "predicted=16171.253912, expected=16179.080078\n",
      "predicted=16182.370056, expected=16221.139648\n",
      "predicted=16224.458301, expected=16294.610352\n",
      "predicted=16297.980855, expected=16357.549805\n",
      "predicted=16360.964302, expected=16479.880859\n",
      "predicted=16483.383118, expected=16478.410156\n",
      "predicted=16481.908747, expected=16504.289062\n",
      "predicted=16507.804146, expected=16576.660156\n",
      "predicted=16580.225944, expected=16441.349609\n",
      "predicted=16444.813207, expected=16469.990234\n",
      "predicted=16473.472344, expected=16425.099609\n",
      "predicted=16428.546177, expected=16530.939453\n",
      "predicted=16534.461200, expected=16462.740234\n",
      "predicted=16466.209361, expected=16444.759766\n",
      "predicted=16448.213167, expected=16437.050781\n",
      "predicted=16440.496005, expected=16257.940430\n",
      "predicted=16261.252009, expected=16373.860352\n",
      "predicted=16377.254310, expected=16481.939453\n",
      "predicted=16485.409935, expected=16417.009766\n",
      "predicted=16420.430284, expected=16458.560547\n",
      "predicted=16462.008898, expected=16414.439453\n",
      "predicted=16417.853107, expected=16373.339844\n",
      "predicted=16376.721054, expected=16197.349609\n",
      "predicted=16200.600177, expected=15879.110352\n",
      "predicted=15882.126939, expected=15837.879883\n",
      "predicted=15840.864290, expected=15928.559570\n",
      "predicted=15931.607709, expected=15738.790039\n",
      "predicted=15741.698151, expected=15848.610352\n",
      "predicted=15851.596049, expected=15698.849609\n",
      "predicted=15701.724540, expected=15372.799805\n",
      "predicted=15375.436384, expected=15445.240234\n",
      "predicted=15447.927359, expected=15440.230469\n",
      "predicted=15442.912025, expected=15628.530273\n",
      "predicted=15631.346043, expected=15794.080078\n",
      "predicted=15797.013430, expected=15801.790039\n",
      "predicted=15804.726840, expected=15994.769531\n",
      "predicted=15997.843448, expected=15963.940430\n",
      "predicted=15966.989904, expected=16027.589844\n",
      "predicted=16030.682979, expected=16154.389648\n",
      "predicted=16157.571843, expected=16130.400391\n",
      "predicted=16133.563039, expected=16040.559570\n",
      "predicted=16043.655357, expected=16133.230469\n",
      "predicted=16136.390606, expected=16103.299805\n",
      "predicted=16106.436187, expected=16207.139648\n",
      "predicted=16210.348270, expected=16179.660156\n",
      "predicted=16182.846780, expected=16198.410156\n",
      "predicted=16201.607928, expected=16272.650391\n",
      "predicted=16275.899017, expected=16321.709961\n",
      "predicted=16324.991356, expected=16168.030273\n",
      "predicted=16171.199472, expected=16395.880859\n",
      "predicted=16399.210545, expected=16360.179688\n",
      "predicted=16363.481515, expected=16421.890625\n",
      "predicted=16425.234113, expected=16452.720703\n",
      "predicted=16456.083782, expected=16418.679688\n",
      "predicted=16422.016126, expected=16351.250000\n",
      "predicted=16354.536071, expected=16340.080078\n",
      "predicted=16343.355867, expected=16108.889648\n",
      "predicted=16111.998795, expected=16065.669922\n",
      "predicted=16068.746165, expected=16247.219727\n",
      "predicted=16250.422636, expected=16336.190430\n",
      "predicted=16339.454168, expected=16222.169922\n",
      "predicted=16225.350538, expected=16331.049805\n",
      "predicted=16334.305279, expected=16302.769531\n",
      "predicted=16306.002687, expected=16276.690430\n",
      "predicted=16279.902856, expected=16367.879883\n",
      "predicted=16371.154483, expected=16268.990234\n",
      "predicted=16272.192685, expected=16264.230469\n",
      "predicted=16267.427300, expected=16323.059570\n",
      "predicted=16326.295634, expected=16457.660156\n",
      "predicted=16460.988796, expected=16532.609375\n",
      "predicted=16535.988452, expected=16573.000000\n",
      "predicted=16576.405123, expected=16572.550781\n",
      "predicted=16575.953193, expected=16412.710938\n",
      "predicted=16415.998633, expected=16245.870117\n",
      "predicted=16249.038340, expected=16256.139648\n",
      "predicted=16259.312855, expected=16437.179688\n",
      "predicted=16440.477626, expected=16170.219727\n",
      "predicted=16173.328276, expected=16026.750000\n",
      "predicted=16029.755903, expected=16173.240234\n",
      "predicted=16176.346546, expected=16262.559570\n",
      "predicted=16265.726171, expected=16424.849609\n",
      "predicted=16428.127407, expected=16408.539062\n",
      "predicted=16411.803181, expected=16449.250000\n",
      "predicted=16452.540253, expected=16514.369141\n",
      "predicted=16517.702508, expected=16501.650391\n",
      "predicted=16504.972572, expected=16501.650391\n",
      "predicted=16504.970259, expected=16361.459961\n",
      "predicted=16364.679961, expected=16448.740234\n",
      "predicted=16452.018690, expected=16535.369141\n",
      "predicted=16538.705520, expected=16580.839844\n",
      "predicted=16584.205483, expected=16558.869141\n",
      "predicted=16562.217197, expected=16512.890625\n",
      "predicted=16516.204474, expected=16530.550781\n",
      "predicted=16533.874572, expected=16401.019531\n",
      "predicted=16404.251317, expected=16518.539062\n",
      "predicted=16521.849940, expected=16550.970703\n",
      "predicted=16554.301720, expected=16583.339844\n",
      "predicted=16586.690929, expected=16695.470703\n",
      "predicted=16698.896912, expected=16715.439453\n",
      "predicted=16718.877078, expected=16613.970703\n",
      "predicted=16617.335979, expected=16446.810547\n",
      "predicted=16450.058300, expected=16491.310547\n",
      "predicted=16494.586711, expected=16511.859375\n",
      "predicted=16515.147427, expected=16374.309570\n",
      "predicted=16377.500759, expected=16533.060547\n",
      "predicted=16536.358650, expected=16543.080078\n",
      "predicted=16546.382798, expected=16606.269531\n",
      "predicted=16609.613353, expected=16675.500000\n",
      "predicted=16678.889012, expected=16633.179688\n",
      "predicted=16636.537371, expected=16698.740234\n",
      "predicted=16702.140522, expected=16717.169922\n",
      "predicted=16720.580497, expected=16743.630859\n",
      "predicted=16747.057200, expected=16722.339844\n",
      "predicted=16725.749290, expected=16737.529297\n",
      "predicted=16740.946789, expected=16836.109375\n",
      "predicted=16839.591825, expected=16924.279297\n",
      "predicted=16927.819515, expected=16943.099609\n",
      "predicted=16946.650242, expected=16945.919922\n",
      "predicted=16949.470058, expected=16843.880859\n",
      "predicted=16847.359117, expected=16734.189453\n",
      "predicted=16737.590725, expected=16775.740234\n",
      "predicted=16779.167440, expected=16781.009766\n",
      "predicted=16784.438224, expected=16808.490234\n",
      "predicted=16811.935020, expected=16906.619141\n",
      "predicted=16910.128163, expected=16921.460938\n",
      "predicted=16924.977644, expected=16947.080078\n",
      "predicted=16950.611758, expected=16937.259766\n",
      "predicted=16940.782406, expected=16818.130859\n",
      "predicted=16821.570514, expected=16867.509766\n",
      "predicted=16870.980482, expected=16846.130859\n",
      "predicted=16849.584785, expected=16851.839844\n",
      "predicted=16855.295293, expected=16826.599609\n",
      "predicted=16830.035695, expected=16956.070312\n",
      "predicted=16959.591384, expected=16976.240234\n",
      "predicted=16979.772525, expected=17068.259766\n",
      "predicted=17071.851644, expected=17024.210938\n",
      "predicted=17027.770757, expected=16906.619141\n",
      "predicted=16910.097488, expected=16985.609375\n",
      "predicted=16989.138467, expected=16915.070312\n",
      "predicted=16918.549661, expected=16943.810547\n",
      "predicted=16947.306849, expected=17055.419922\n",
      "predicted=17058.988735, expected=17060.679688\n",
      "predicted=17064.249634, expected=17138.199219\n",
      "predicted=17141.818696, expected=16976.810547\n",
      "predicted=16980.319577, expected=17100.179688\n",
      "predicted=17103.768892, expected=17051.730469\n",
      "predicted=17055.284888, expected=17113.539062\n",
      "predicted=17117.132394, expected=17086.630859\n",
      "predicted=17090.203830, expected=17083.800781\n",
      "predicted=17087.369480, expected=16960.570312\n",
      "predicted=16964.054479, expected=16982.589844\n",
      "predicted=16986.086359, expected=16912.109375\n",
      "predicted=16915.556638, expected=16880.359375\n",
      "predicted=16883.783220, expected=16563.300781\n",
      "predicted=16566.511539, expected=16493.369141\n",
      "predicted=16496.531300, expected=16569.279297\n",
      "predicted=16572.489761, expected=16429.470703\n",
      "predicted=16432.586264, expected=16443.339844\n",
      "predicted=16446.462536, expected=16368.269531\n",
      "predicted=16371.340405, expected=16553.929688\n",
      "predicted=16557.121482, expected=16569.980469\n",
      "predicted=16573.180774, expected=16560.539062\n",
      "predicted=16563.731006, expected=16651.800781\n",
      "predicted=16655.050933, expected=16713.580078\n",
      "predicted=16716.868889, expected=16662.910156\n",
      "predicted=16666.163351, expected=16838.740234\n",
      "predicted=16842.107266, expected=16919.589844\n",
      "predicted=16923.007952, expected=16979.130859\n",
      "predicted=16982.585938, expected=17039.490234\n",
      "predicted=17042.982775, expected=17001.220703\n",
      "predicted=17004.685769, expected=17076.869141\n",
      "predicted=17080.381665, expected=17106.699219\n",
      "predicted=17110.229034, expected=17122.009766\n"
     ]
    },
    {
     "name": "stdout",
     "output_type": "stream",
     "text": [
      "predicted=17125.547317, expected=17079.570312\n",
      "predicted=17083.077692, expected=17098.449219\n",
      "predicted=17101.966681, expected=17067.560547\n",
      "predicted=17071.055462, expected=17078.279297\n",
      "predicted=17081.778943, expected=17069.580078\n",
      "predicted=17073.071740, expected=17137.359375\n",
      "predicted=17140.893083, expected=17111.419922\n",
      "predicted=17114.934365, expected=17013.869141\n",
      "predicted=17017.317573, expected=17068.710938\n",
      "predicted=17072.192916, expected=17049.000000\n",
      "predicted=17052.466849, expected=16987.509766\n",
      "predicted=16990.934270, expected=17031.140625\n",
      "predicted=17034.591322, expected=17131.970703\n",
      "predicted=17135.484798, expected=17156.849609\n",
      "predicted=17160.377605, expected=17265.990234\n",
      "predicted=17269.586898, expected=17279.740234\n",
      "predicted=17283.343496, expected=17172.679688\n",
      "predicted=17176.211090, expected=17055.869141\n",
      "predicted=17059.322450, expected=17210.060547\n",
      "predicted=17213.611611, expected=16945.800781\n",
      "predicted=16949.178280, expected=17113.150391\n",
      "predicted=17116.634089, expected=17071.220703\n",
      "predicted=17074.675007, expected=17042.900391\n",
      "predicted=17046.334143, expected=16804.710938\n",
      "predicted=16807.988501, expected=16801.050781\n",
      "predicted=16804.323863, expected=17009.689453\n",
      "predicted=17013.095114, expected=16991.910156\n",
      "predicted=16995.302149, expected=16719.390625\n",
      "predicted=16722.604726, expected=16994.220703\n",
      "predicted=16997.609814, expected=16659.250000\n",
      "predicted=16662.421236, expected=16544.099609\n",
      "predicted=16547.194705, expected=16321.070312\n",
      "predicted=16324.019990, expected=16315.190430\n",
      "predicted=16318.134434, expected=16141.740234\n",
      "predicted=16144.570947, expected=16117.240234\n",
      "predicted=16120.053405, expected=16380.410156\n",
      "predicted=16383.390329, expected=16399.669922\n",
      "predicted=16402.660531, expected=16614.810547\n",
      "predicted=16617.937062, expected=16461.320312\n",
      "predicted=16464.346560, expected=16677.900391\n",
      "predicted=16681.063270, expected=16805.410156\n",
      "predicted=16808.652541, expected=16817.939453\n",
      "predicted=16821.187772, expected=17005.750000\n",
      "predicted=17009.116175, expected=16974.310547\n",
      "predicted=16977.654510, expected=17195.419922\n",
      "predicted=17198.902766, expected=17390.519531\n",
      "predicted=17394.124502, expected=17366.240234\n",
      "predicted=17369.827447, expected=17383.839844\n",
      "predicted=17387.435974, expected=17484.529297\n",
      "predicted=17488.187191, expected=17554.470703\n",
      "predicted=17558.170735, expected=17573.929688\n",
      "predicted=17577.639732, expected=17613.740234\n",
      "predicted=17617.473199, expected=17614.900391\n",
      "predicted=17618.631724, expected=17612.199219\n",
      "predicted=17615.926473, expected=17652.789062\n",
      "predicted=17656.539676, expected=17634.740234\n",
      "predicted=17638.477042, expected=17647.750000\n",
      "predicted=17651.492677, expected=17687.820312\n",
      "predicted=17691.585967, expected=17685.730469\n",
      "predicted=17689.492422, expected=17719.000000\n",
      "predicted=17722.780594, expected=17810.060547\n",
      "predicted=17813.896242, expected=17817.900391\n",
      "predicted=17821.738612, expected=17814.939453\n",
      "predicted=17818.773387, expected=17827.750000\n",
      "predicted=17831.589590, expected=17828.240234\n",
      "predicted=17832.077715, expected=17776.800781\n",
      "predicted=17780.603475, expected=17879.550781\n",
      "predicted=17883.415706, expected=17912.619141\n",
      "predicted=17916.502421, expected=17900.099609\n",
      "predicted=17903.972586, expected=17958.789062\n",
      "predicted=17962.696450, expected=17852.480469\n",
      "predicted=17856.318713, expected=17801.199219\n",
      "predicted=17805.002905, expected=17533.150391\n",
      "predicted=17536.783743, expected=17596.339844\n",
      "predicted=17600.010489, expected=17280.830078\n",
      "predicted=17284.300985, expected=17180.839844\n",
      "predicted=17184.246048, expected=17068.869141\n",
      "predicted=17072.203234, expected=17356.869141\n",
      "predicted=17360.381039, expected=17778.150391\n",
      "predicted=17781.923069, expected=17804.800781\n",
      "predicted=17808.587731, expected=17959.439453\n",
      "predicted=17963.320450, expected=18024.169922\n",
      "predicted=18028.088831, expected=18030.210938\n",
      "predicted=18034.131169, expected=18053.710938\n",
      "predicted=18057.643353, expected=18038.230469\n",
      "predicted=18042.150811, expected=17983.070312\n",
      "predicted=17986.953935, expected=17823.070312\n",
      "predicted=17826.852144, expected=17832.990234\n",
      "predicted=17836.775876, expected=17501.650391\n",
      "predicted=17505.228139, expected=17371.640625\n",
      "predicted=17375.135554, expected=17584.519531\n",
      "predicted=17588.144190, expected=17907.869141\n",
      "predicted=17911.691772, expected=17737.369141\n",
      "predicted=17741.083899, expected=17640.839844\n",
      "predicted=17644.492608, expected=17613.679688\n",
      "predicted=17617.313408, expected=17427.089844\n",
      "predicted=17430.606070, expected=17320.710938\n",
      "predicted=17324.159327, expected=17511.570312\n",
      "predicted=17515.134316, expected=17515.230469\n",
      "predicted=17518.794532, expected=17554.279297\n",
      "predicted=17557.865224, expected=17813.980469\n",
      "predicted=17817.724102, expected=17672.599609\n",
      "predicted=17676.253935, expected=17678.699219\n",
      "predicted=17682.355049, expected=17387.210938\n",
      "predicted=17390.685364, expected=17191.369141\n",
      "predicted=17194.721137, expected=17416.849609\n",
      "predicted=17420.337963, expected=17164.949219\n",
      "predicted=17168.280893, expected=17361.039062\n",
      "predicted=17364.488920, expected=17666.400391\n",
      "predicted=17670.035244, expected=17673.019531\n",
      "predicted=17676.656211, expected=17884.880859\n",
      "predicted=17888.644973, expected=17824.289062\n",
      "predicted=17828.013814, expected=17729.210938\n",
      "predicted=17732.875297, expected=17868.759766\n",
      "predicted=17872.507133, expected=17862.140625\n",
      "predicted=17865.881663, expected=17972.380859\n",
      "predicted=17976.186875, expected=18019.349609\n",
      "predicted=18023.181944, expected=18047.580078\n",
      "predicted=18051.427281, expected=18029.849609\n",
      "predicted=18033.683673, expected=17985.769531\n",
      "predicted=17989.574430, expected=18140.439453\n",
      "predicted=18144.336119, expected=18116.839844\n",
      "predicted=18120.719798, expected=18209.189453\n",
      "predicted=18213.123152, expected=18224.570312\n",
      "predicted=18228.510962, expected=18214.419922\n",
      "predicted=18218.352021, expected=18132.699219\n",
      "predicted=18136.579376, expected=18288.630859\n",
      "predicted=18292.603168, expected=18203.369141\n",
      "predicted=18207.287402, expected=18096.900391\n",
      "predicted=18100.751832, expected=18135.720703\n",
      "predicted=18139.593299, expected=17856.779297\n",
      "predicted=17860.480905, expected=17995.720703\n",
      "predicted=17999.504026, expected=17662.939453\n",
      "predicted=17666.519537, expected=17635.390625\n",
      "predicted=17638.951923, expected=17895.220703\n",
      "predicted=17898.936566, expected=17749.310547\n",
      "predicted=17752.936219, expected=17977.419922\n",
      "predicted=17981.180825, expected=17849.080078\n",
      "predicted=17852.761451, expected=18076.189453\n",
      "predicted=18080.005259, expected=17959.029297\n",
      "predicted=17962.772357, expected=18127.650391\n",
      "predicted=18131.492536, expected=18116.039062\n",
      "predicted=18119.871926, expected=18011.140625\n",
      "predicted=18014.908224, expected=17718.539062\n",
      "predicted=17722.128875, expected=17678.230469\n",
      "predicted=17681.793964, expected=17712.660156\n",
      "predicted=17716.242145, expected=17976.310547\n",
      "predicted=17980.048266, expected=17776.119141\n",
      "predicted=17779.734820, expected=17698.179688\n",
      "predicted=17701.746590, expected=17763.240234\n",
      "predicted=17766.843892, expected=17880.849609\n",
      "predicted=17884.521371, expected=17875.419922\n",
      "predicted=17879.086250, expected=17902.509766\n",
      "predicted=17906.190070, expected=17958.730469\n",
      "predicted=17962.442103, expected=18057.650391\n",
      "predicted=18061.418764, expected=17977.039062\n",
      "predicted=17980.757179, expected=18036.699219\n",
      "predicted=18040.450635, expected=18112.609375\n",
      "predicted=18116.403717, expected=18105.769531\n",
      "predicted=18109.557551, expected=17826.300781\n",
      "predicted=17829.920496, expected=18034.929688\n",
      "predicted=18038.671142, expected=17949.589844\n",
      "predicted=17953.278431, expected=18038.269531\n",
      "predicted=18042.008528, expected=18058.689453\n",
      "predicted=18062.438338, expected=18080.140625\n",
      "predicted=18083.899997, expected=18037.970703\n",
      "predicted=18041.702882, expected=18110.140625\n",
      "predicted=18113.913300, expected=18035.529297\n",
      "predicted=18039.255618, expected=17840.519531\n",
      "predicted=17844.128396, expected=18024.060547\n",
      "predicted=18027.775692, expected=18070.400391\n",
      "predicted=18074.140698, expected=17928.199219\n",
      "predicted=17931.853425, expected=17841.980469\n",
      "predicted=17845.581684, expected=17924.060547\n",
      "predicted=17927.708007, expected=18191.109375\n",
      "predicted=18194.911960, expected=18105.169922\n",
      "predicted=18108.919686, expected=18068.230469\n",
      "predicted=18071.956299, expected=18060.490234\n",
      "predicted=18064.209323, expected=18252.240234\n",
      "predicted=18256.069799, expected=18272.560547\n",
      "predicted=18276.399796, expected=18298.880859\n",
      "predicted=18302.733301, expected=18312.390625\n",
      "predicted=18316.248731, expected=18285.400391\n",
      "predicted=18289.240414, expected=18285.740234\n",
      "predicted=18289.578207, expected=18232.019531\n",
      "predicted=18235.823805, expected=18041.539062\n",
      "predicted=18045.229652, expected=18162.990234\n",
      "predicted=18166.749690, expected=18126.119141\n",
      "predicted=18129.854850, expected=18010.679688\n",
      "predicted=18014.345786, expected=18040.369141\n",
      "predicted=18044.050430, expected=18011.939453\n",
      "predicted=18015.602008, expected=18076.269531\n",
      "predicted=18079.967461, expected=17905.580078\n",
      "predicted=17909.176383, expected=17849.460938\n",
      "predicted=17853.022464, expected=17766.550781\n",
      "predicted=17770.061975, expected=17764.039062\n",
      "predicted=17767.546750, expected=18000.400391\n",
      "predicted=18004.043463, expected=18039.369141\n",
      "predicted=18043.032737, expected=17898.839844\n",
      "predicted=17902.419704, expected=17791.169922\n",
      "predicted=17794.685215, expected=17904.480469\n",
      "predicted=17908.059448, expected=17935.740234\n",
      "predicted=17939.335260, expected=18115.839844\n",
      "predicted=18119.537132, expected=18015.949219\n"
     ]
    },
    {
     "name": "stdout",
     "output_type": "stream",
     "text": [
      "predicted=18019.586526, expected=18119.779297\n",
      "predicted=18123.474586, expected=18144.070312\n",
      "predicted=18147.777513, expected=17966.070312\n",
      "predicted=17969.672480, expected=17890.359375\n",
      "predicted=17893.915723, expected=17946.679688\n",
      "predicted=17950.266501, expected=17596.349609\n",
      "predicted=17599.732199, expected=17619.509766\n",
      "predicted=17622.903762, expected=17757.910156\n",
      "predicted=17761.381966, expected=17730.109375\n",
      "predicted=17733.563171, expected=17683.580078\n",
      "predicted=17687.005098, expected=17776.910156\n",
      "predicted=17780.386905, expected=17515.419922\n",
      "predicted=17518.744304, expected=17548.619141\n",
      "predicted=17551.960692, expected=17760.410156\n",
      "predicted=17763.871437, expected=17977.679688\n",
      "predicted=17981.263706, expected=18053.580078\n",
      "predicted=18057.205586, expected=18050.169922\n",
      "predicted=18053.791395, expected=18120.250000\n",
      "predicted=18123.909559, expected=18086.449219\n",
      "predicted=18090.087323, expected=18100.410156\n",
      "predicted=18104.054169, expected=17919.289062\n",
      "predicted=17922.827374, expected=17851.039062\n",
      "predicted=17854.536328, expected=17731.919922\n",
      "predicted=17735.347122, expected=17568.529297\n",
      "predicted=17571.861227, expected=17440.589844\n",
      "predicted=17443.846847, expected=17630.269531\n",
      "predicted=17633.632879, expected=17751.390625\n",
      "predicted=17754.821110, expected=17745.980469\n",
      "predicted=17749.405916, expected=17689.859375\n",
      "predicted=17693.250912, expected=17598.199219\n",
      "predicted=17601.536657, expected=17550.689453\n",
      "predicted=17553.997968, expected=17540.470703\n",
      "predicted=17543.771528, expected=17419.750000\n",
      "predicted=17422.980358, expected=17373.380859\n",
      "predicted=17376.583051, expected=17615.169922\n",
      "predicted=17618.507521, expected=17402.839844\n",
      "predicted=17406.055113, expected=17402.509766\n",
      "predicted=17405.723025, expected=17408.250000\n",
      "predicted=17411.464691, expected=17477.400391\n",
      "predicted=17480.652418, expected=17545.179688\n",
      "predicted=17548.468233, expected=17511.339844\n",
      "predicted=17514.607389, expected=17348.730469\n",
      "predicted=17351.904245, expected=16990.689453\n",
      "predicted=16993.659153, expected=16459.750000\n",
      "predicted=16462.418227, expected=15871.349609\n",
      "predicted=15873.684276, expected=15666.440430\n",
      "predicted=15668.658208, expected=16285.509766\n",
      "predicted=16288.075262, expected=16654.769531\n",
      "predicted=16657.541615, expected=16643.009766\n",
      "predicted=16645.773668, expected=16528.029297\n",
      "predicted=16530.726939, expected=16058.349609\n",
      "predicted=16060.781571, expected=16351.379883\n",
      "predicted=16353.975195, expected=16374.759766\n",
      "predicted=16377.366754, expected=16102.379883\n",
      "predicted=16104.832471, expected=16492.679688\n",
      "predicted=16495.349923, expected=16253.570312\n",
      "predicted=16256.104945, expected=16330.400391\n",
      "predicted=16332.976669, expected=16433.089844\n",
      "predicted=16435.722208, expected=16370.959961\n",
      "predicted=16373.556064, expected=16599.849609\n",
      "predicted=16602.572345, expected=16739.949219\n",
      "predicted=16742.748788, expected=16674.740234\n",
      "predicted=16677.501788, expected=16384.580078\n",
      "predicted=16387.177988, expected=16510.189453\n",
      "predicted=16512.856047, expected=16330.469727\n",
      "predicted=16333.034543, expected=16279.889648\n",
      "predicted=16282.424823, expected=16201.320312\n",
      "predicted=16203.810279, expected=16314.669922\n",
      "predicted=16317.221649, expected=16001.889648\n",
      "predicted=16004.265802, expected=16049.129883\n",
      "predicted=16051.531001, expected=16284.700195\n",
      "predicted=16287.230996, expected=16272.009766\n",
      "predicted=16274.532106, expected=16472.369141\n",
      "predicted=16475.001390, expected=16776.429688\n",
      "predicted=16779.229305, expected=16790.189453\n",
      "predicted=16792.995152, expected=16912.289062\n",
      "predicted=16915.160925, expected=17050.750000\n",
      "predicted=17053.697023, expected=17084.490234\n",
      "predicted=17087.454317, expected=17131.859375\n",
      "predicted=17134.848046, expected=17081.890625\n",
      "predicted=17084.849989, expected=16924.750000\n",
      "predicted=16927.620813, expected=17141.750000\n",
      "predicted=17144.739183, expected=17215.970703\n",
      "predicted=17218.999239, expected=17230.539062\n",
      "predicted=17233.573970, expected=17217.109375\n",
      "predicted=17220.135197, expected=17168.609375\n",
      "predicted=17171.606777, expected=17489.160156\n",
      "predicted=17492.332615, expected=17646.699219\n",
      "predicted=17649.956728, expected=17623.050781\n",
      "predicted=17626.293474, expected=17581.429688\n",
      "predicted=17584.647690, expected=17779.519531\n",
      "predicted=17782.844723, expected=17755.800781\n",
      "predicted=17759.111106, expected=17663.539062\n",
      "predicted=17666.796874, expected=17828.759766\n",
      "predicted=17832.106520, expected=17918.150391\n",
      "predicted=17921.544370, expected=17867.580078\n",
      "predicted=17870.944455, expected=17863.429688\n",
      "predicted=17866.789945, expected=17910.330078\n",
      "predicted=17913.714193, expected=17730.480469\n",
      "predicted=17733.764237, expected=17758.210938\n",
      "predicted=17761.508088, expected=17702.220703\n",
      "predicted=17705.485419, expected=17448.070312\n",
      "predicted=17451.194287, expected=17245.240234\n",
      "predicted=17248.251666, expected=17483.009766\n",
      "predicted=17486.149411, expected=17489.500000\n",
      "predicted=17492.641474, expected=17737.160156\n",
      "predicted=17740.435028, expected=17732.750000\n",
      "predicted=17736.020681, expected=17823.810547\n",
      "predicted=17827.129070, expected=17792.679688\n",
      "predicted=17795.979448, expected=17812.189453\n",
      "predicted=17815.498037, expected=17813.390625\n",
      "predicted=17816.698063, expected=17813.390625\n",
      "predicted=17816.696264, expected=17719.919922\n",
      "predicted=17723.172965, expected=17888.349609\n",
      "predicted=17891.692373, expected=17729.679688\n",
      "predicted=17732.934498, expected=17477.669922\n",
      "predicted=17480.786227, expected=17847.630859\n",
      "predicted=17850.946103, expected=17730.509766\n",
      "predicted=17733.759733, expected=17568.000000\n",
      "predicted=17571.160173, expected=17492.300781\n",
      "predicted=17495.418258, expected=17574.750000\n",
      "predicted=17577.910406, expected=17265.210938\n",
      "predicted=17268.202226, expected=17368.500000\n",
      "predicted=17371.545503, expected=17524.910156\n",
      "predicted=17528.038514, expected=17749.089844\n",
      "predicted=17752.337560, expected=17495.839844\n",
      "predicted=17498.949137, expected=17128.550781\n",
      "predicted=17131.460290, expected=17251.619141\n",
      "predicted=17254.593426, expected=17417.269531\n",
      "predicted=17420.331465, expected=17602.609375\n",
      "predicted=17605.769466, expected=17552.169922\n",
      "predicted=17555.301165, expected=17528.269531\n",
      "predicted=17531.386233, expected=17720.980469\n",
      "predicted=17724.199103, expected=17603.869141\n",
      "predicted=17607.023117, expected=17425.029297\n",
      "predicted=17428.085532, expected=17148.939453\n",
      "predicted=17151.845851, expected=17158.660156\n",
      "predicted=17161.570210, expected=16906.509766\n",
      "predicted=16909.283058, expected=16514.099609\n",
      "predicted=16516.661120, expected=16346.450195\n",
      "predicted=16348.920538, expected=16398.570312\n",
      "predicted=16401.067234, expected=16516.220703\n",
      "predicted=16518.779237, expected=16151.410156\n",
      "predicted=16153.772236, expected=16379.049805\n",
      "predicted=16381.532290, expected=15988.080078\n",
      "predicted=15990.352388, expected=16016.019531\n",
      "predicted=16018.305542, expected=15766.740234\n",
      "predicted=15768.892005, expected=15882.679688\n",
      "predicted=15884.892146, expected=16093.509766\n",
      "predicted=16095.833428, expected=15885.219727\n",
      "predicted=15887.431181, expected=16167.230469\n",
      "predicted=16169.590911, expected=15944.459961\n",
      "predicted=15946.700589, expected=16069.639648\n",
      "predicted=16071.945669, expected=16466.300781\n",
      "predicted=16468.816454, expected=16449.179688\n",
      "predicted=16451.684927, expected=16153.540039\n",
      "predicted=16155.886943, expected=16336.660156\n",
      "predicted=16339.103012, expected=16416.580078\n",
      "predicted=16419.064035, expected=16204.969727\n",
      "predicted=16207.340167, expected=16027.049805\n",
      "predicted=16029.324701, expected=16014.379883\n",
      "predicted=16016.646864, expected=15914.740234\n",
      "predicted=15916.953267, expected=15660.179688\n",
      "predicted=15662.256862, expected=15973.839844\n",
      "predicted=15976.081790, expected=16196.410156\n",
      "predicted=16198.768554, expected=16453.830078\n",
      "predicted=16456.323216, expected=16413.429688\n",
      "predicted=16415.900179, expected=16391.990234\n",
      "predicted=16394.448107, expected=16620.660156\n",
      "predicted=16623.237339, expected=16431.779297\n",
      "predicted=16434.255554, expected=16484.990234\n",
      "predicted=16487.493221, expected=16697.289062\n",
      "predicted=16699.902526, expected=16639.970703\n",
      "predicted=16642.552624, expected=16516.500000\n",
      "predicted=16519.015613, expected=16865.080078\n",
      "predicted=16867.777638, expected=16899.320312\n",
      "predicted=16902.034448, expected=16943.900391\n",
      "predicted=16946.636515, expected=17006.769531\n",
      "predicted=17009.537221, expected=17073.949219\n",
      "predicted=17076.750703, expected=16964.099609\n",
      "predicted=16966.842021, expected=17000.359375\n",
      "predicted=17003.119354, expected=16995.130859\n",
      "predicted=16997.886652, expected=17213.310547\n",
      "predicted=17216.179128, expected=17229.130859\n",
      "predicted=17232.006218, expected=17251.529297\n",
      "predicted=17254.414867, expected=17325.759766\n",
      "predicted=17328.682630, expected=17481.490234\n",
      "predicted=17484.492935, expected=17602.300781\n",
      "predicted=17605.365001, expected=17623.869141\n",
      "predicted=17626.943018, expected=17582.570312\n",
      "predicted=17585.621042, expected=17502.589844\n",
      "predicted=17505.597284, expected=17515.730469\n",
      "predicted=17518.743189, expected=17535.390625\n",
      "predicted=17538.412016, expected=17633.109375\n",
      "predicted=17636.180062, expected=17716.660156\n",
      "predicted=17719.772716, expected=17685.089844\n",
      "predicted=17688.184368, expected=17792.750000\n",
      "predicted=17795.898872, expected=17737.000000\n",
      "predicted=17740.118275, expected=17603.320312\n",
      "predicted=17606.367560, expected=17716.050781\n",
      "predicted=17719.154948, expected=17541.960938\n",
      "predicted=17544.973200, expected=17576.960938\n",
      "predicted=17579.989782, expected=17556.410156\n",
      "predicted=17559.426783, expected=17721.250000\n",
      "predicted=17724.350430, expected=17908.279297\n",
      "predicted=17911.474928, expected=17926.429688\n",
      "predicted=17929.633055, expected=17897.460938\n"
     ]
    },
    {
     "name": "stdout",
     "output_type": "stream",
     "text": [
      "predicted=17900.647670, expected=18004.160156\n",
      "predicted=18007.400383, expected=18053.599609\n",
      "predicted=18056.863700, expected=18096.269531\n",
      "predicted=18099.553965, expected=17982.519531\n",
      "predicted=17985.743576, expected=18003.750000\n",
      "predicted=18006.983331, expected=17977.240234\n",
      "predicted=17980.458234, expected=17990.320312\n",
      "predicted=17993.543393, expected=18041.550781\n",
      "predicted=18044.798582, expected=17830.759766\n",
      "predicted=17833.897409, expected=17773.640625\n",
      "predicted=17776.747271, expected=17891.160156\n",
      "predicted=17894.325626, expected=17750.910156\n",
      "predicted=17754.001930, expected=17651.259766\n",
      "predicted=17654.298769, expected=17660.710938\n",
      "predicted=17663.753233, expected=17740.630859\n",
      "predicted=17743.712599, expected=17705.910156\n",
      "predicted=17708.972510, expected=17928.349609\n",
      "predicted=17931.524406, expected=17711.119141\n",
      "predicted=17714.181026, expected=17720.500000\n",
      "predicted=17723.565120, expected=17535.320312\n",
      "predicted=17538.289094, expected=17710.710938\n",
      "predicted=17713.767915, expected=17529.980469\n",
      "predicted=17532.943485, expected=17526.619141\n",
      "predicted=17529.578926, expected=17435.400391\n",
      "predicted=17438.312076, expected=17500.939453\n",
      "predicted=17503.883107, expected=17492.929688\n",
      "predicted=17495.867754, expected=17706.050781\n",
      "predicted=17709.096029, expected=17851.509766\n",
      "predicted=17854.627600, expected=17828.289062\n",
      "predicted=17831.393478, expected=17873.220703\n",
      "predicted=17876.346416, expected=17787.199219\n",
      "predicted=17790.279564, expected=17789.669922\n",
      "predicted=17792.749957, expected=17838.560547\n",
      "predicted=17841.663872, expected=17807.060547\n",
      "predicted=17810.146289, expected=17920.330078\n",
      "predicted=17923.471779, expected=17938.279297\n",
      "predicted=17941.428515, expected=18005.050781\n",
      "predicted=18008.232278, expected=17985.189453\n",
      "predicted=17988.359265, expected=17865.339844\n",
      "predicted=17868.447304, expected=17732.480469\n",
      "predicted=17735.519051, expected=17674.820312\n",
      "predicted=17677.828162, expected=17640.169922\n",
      "predicted=17643.158712, expected=17733.099609\n",
      "predicted=17736.133893, expected=17675.160156\n",
      "predicted=17678.163614, expected=17804.869141\n",
      "predicted=17807.936624, expected=17829.730469\n",
      "predicted=17832.808959, expected=17780.830078\n",
      "predicted=17783.882329, expected=18011.070312\n",
      "predicted=18014.237189, expected=17400.750000\n",
      "predicted=17403.607504, expected=17140.240234\n",
      "predicted=17142.964992, expected=17409.720703\n",
      "predicted=17412.579847, expected=17694.679688\n",
      "predicted=17697.680876, expected=17929.990234\n",
      "predicted=17933.108337, expected=17949.369141\n",
      "Test MSE: 20795.457\n"
     ]
    },
    {
     "data": {
      "image/png": "[encoded data removed]",
      "text/plain": [
       "<matplotlib.figure.Figure at 0x1189a4210>"
      ]
     },
     "metadata": {},
     "output_type": "display_data"
    }
   ],
   "source": [
    "X = df_dateclose.values\n",
    "size = int(len(X) * 0.66)\n",
    "train, test = X[0:size], X[size:len(X)]\n",
    "history = [x for x in train]\n",
    "predictions = list()\n",
    "for t in range(len(test)):\n",
    "    model = ARIMA(history, order=(0,1,0))\n",
    "    model_fit = model.fit(disp=0)\n",
    "    output = model_fit.forecast()\n",
    "    yhat = output[0]\n",
    "    predictions.append(yhat)\n",
    "    obs = test[t]\n",
    "    history.append(obs)\n",
    "    print('predicted=%f, expected=%f' % (yhat, obs))\n",
    "error = mean_squared_error(test, predictions)\n",
    "print('Test MSE: %.3f' % error)\n",
    "# plot\n",
    "pyplot.plot(test)\n",
    "pyplot.plot(predictions, color='red')\n",
    "pyplot.show()"
   ]
  },
  {
   "cell_type": "code",
   "execution_count": null,
   "metadata": {},
   "outputs": [],
   "source": []
  }
 ],
 "metadata": {
  "kernelspec": {
   "display_name": "Python 2",
   "language": "python",
   "name": "python2"
  },
  "language_info": {
   "codemirror_mode": {
    "name": "ipython",
    "version": 2
   },
   "file_extension": ".py",
   "mimetype": "text/x-python",
   "name": "python",
   "nbconvert_exporter": "python",
   "pygments_lexer": "ipython2",
   "version": "2.7.12"
  }
 },
 "nbformat": 4,
 "nbformat_minor": 2
}
