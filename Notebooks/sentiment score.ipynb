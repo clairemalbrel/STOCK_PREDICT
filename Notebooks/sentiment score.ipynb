{
 "cells": [
  {
   "cell_type": "code",
   "execution_count": 11,
   "metadata": {},
   "outputs": [
    {
     "ename": "ModuleNotFoundError",
     "evalue": "No module named 'STOCK_PREDICT.sentiment'",
     "output_type": "error",
     "traceback": [
      "\u001b[0;31m---------------------------------------------------------------------------\u001b[0m",
      "\u001b[0;31mModuleNotFoundError\u001b[0m                       Traceback (most recent call last)",
      "\u001b[0;32m<ipython-input-11-d0069d97ba93>\u001b[0m in \u001b[0;36m<module>\u001b[0;34m\u001b[0m\n\u001b[0;32m----> 1\u001b[0;31m \u001b[0;32mfrom\u001b[0m \u001b[0mSTOCK_PREDICT\u001b[0m\u001b[0;34m.\u001b[0m\u001b[0msentiment\u001b[0m \u001b[0;32mimport\u001b[0m \u001b[0mSentiment\u001b[0m\u001b[0;34m\u001b[0m\u001b[0;34m\u001b[0m\u001b[0m\n\u001b[0m",
      "\u001b[0;31mModuleNotFoundError\u001b[0m: No module named 'STOCK_PREDICT.sentiment'"
     ]
    }
   ],
   "source": [
    "\n",
    "from STOCK_PREDICT.sentiment import Sentiment"
   ]
  },
  {
   "cell_type": "code",
   "execution_count": 8,
   "metadata": {},
   "outputs": [],
   "source": [
    "##########################################################################\n",
    "#     Reddit Scrap\n",
    "##########################################################################\n",
    "import datetime as dt\n",
    "import json\n",
    "import requests\n",
    "import pandas as pd\n",
    "def reddit():\n",
    "  text = []\n",
    "  name = []\n",
    "  today = dt.datetime.combine(dt.date.today(), dt.datetime.min.time())\n",
    "  response = requests.get('https://www.reddit.com/r/worldnews/top.json?limit=40', headers = {'User-agent': 'test'})\n",
    "  tops = json.loads(response.text)['data']['children']\n",
    "  i = 1\n",
    "  for top in tops:\n",
    "      if dt.datetime.fromtimestamp(top['data']['created']) >= today:\n",
    "          text.append(top['data']['title'])\n",
    "          name.append(f'Top{i}')\n",
    "          i = i + 1\n",
    "  data = pd.DataFrame(text).T\n",
    "  data.columns = name\n",
    "  data = data.iloc[:,0:25]\n",
    "  return data\n"
   ]
  },
  {
   "cell_type": "code",
   "execution_count": 9,
   "metadata": {},
   "outputs": [
    {
     "ename": "NameError",
     "evalue": "name 'Sentiment' is not defined",
     "output_type": "error",
     "traceback": [
      "\u001b[0;31m---------------------------------------------------------------------------\u001b[0m",
      "\u001b[0;31mNameError\u001b[0m                                 Traceback (most recent call last)",
      "\u001b[0;32m<ipython-input-9-bb7379482aec>\u001b[0m in \u001b[0;36m<module>\u001b[0;34m\u001b[0m\n\u001b[1;32m      1\u001b[0m \u001b[0;32mif\u001b[0m \u001b[0m__name__\u001b[0m \u001b[0;34m==\u001b[0m \u001b[0;34m'__main__'\u001b[0m\u001b[0;34m:\u001b[0m\u001b[0;34m\u001b[0m\u001b[0;34m\u001b[0m\u001b[0m\n\u001b[0;32m----> 2\u001b[0;31m     \u001b[0msentiment\u001b[0m \u001b[0;34m=\u001b[0m \u001b[0mSentiment\u001b[0m\u001b[0;34m(\u001b[0m\u001b[0;34m)\u001b[0m\u001b[0;34m\u001b[0m\u001b[0;34m\u001b[0m\u001b[0m\n\u001b[0m\u001b[1;32m      3\u001b[0m     \u001b[0msentence_polarity_infomap\u001b[0m \u001b[0;34m=\u001b[0m \u001b[0;34m{\u001b[0m\u001b[0;34m}\u001b[0m\u001b[0;34m\u001b[0m\u001b[0;34m\u001b[0m\u001b[0m\n\u001b[1;32m      4\u001b[0m     \u001b[0mfilepath\u001b[0m \u001b[0;34m=\u001b[0m \u001b[0;34m'stocknews/Combined_News_DJIA2.csv'\u001b[0m\u001b[0;34m\u001b[0m\u001b[0;34m\u001b[0m\u001b[0m\n\u001b[1;32m      5\u001b[0m     \u001b[0mcombined_stock_data\u001b[0m \u001b[0;34m=\u001b[0m \u001b[0mpd\u001b[0m\u001b[0;34m.\u001b[0m\u001b[0mread_csv\u001b[0m\u001b[0;34m(\u001b[0m\u001b[0mfilepath\u001b[0m\u001b[0;34m)\u001b[0m\u001b[0;34m\u001b[0m\u001b[0;34m\u001b[0m\u001b[0m\n",
      "\u001b[0;31mNameError\u001b[0m: name 'Sentiment' is not defined"
     ]
    }
   ],
   "source": [
    "if __name__ == '__main__':\n",
    "    sentiment = Sentiment()\n",
    "    sentence_polarity_infomap = {}\n",
    "    filepath = 'stocknews/Combined_News_DJIA2.csv'\n",
    "    combined_stock_data = pd.read_csv(filepath)\n",
    "    combined_stock_data['Para'] = combined_stock_data['Top1']\n",
    "    for x in range(2, 26):\n",
    "        combined_stock_data['Para'] += combined_stock_data['Top'+str(x)]\n",
    "\n",
    "    for index, sentence in combined_stock_data['Para'].iteritems():\n",
    "        sentence_polarity_infomap = sentiment.analyze([sentence])\n",
    "        print(\"polarity\" + str(sentence_polarity_infomap))\n",
    "        if not (sentence_polarity_infomap == {}):\n",
    "            combined_stock_data.at[index, 'Subjectivity'] = sentence_polarity_infomap['subjective']\n",
    "            combined_stock_data.at[index, 'Objectivity'] = sentence_polarity_infomap['objective']\n",
    "            combined_stock_data.at[index, 'Positive'] = sentence_polarity_infomap['positive']\n",
    "            combined_stock_data.at[index, 'Neutral'] = sentence_polarity_infomap['neutral']\n",
    "            combined_stock_data.at[index, 'Negative'] = sentence_polarity_infomap['negative']\n",
    "        #combined_stock_data['Subjectivity'][index] = sentence_polarity_infomap['subjective']\n",
    "        \"\"\"\n",
    "        combined_stock_data['Objectivity'][index] = sentence_polarity_infomap['objective']\n",
    "        combined_stock_data['Positive'][index] = sentence_polarity_infomap['positive']\n",
    "        combined_stock_data['Neutral'][index] = sentence_polarity_infomap['neutral']\n",
    "        combined_stock_data['Negative'][index] = sentence_polarity_infomap['negative']\n",
    "        \"\"\""
   ]
  },
  {
   "cell_type": "code",
   "execution_count": null,
   "metadata": {},
   "outputs": [],
   "source": []
  }
 ],
 "metadata": {
  "kernelspec": {
   "display_name": "Python 3",
   "language": "python",
   "name": "python3"
  },
  "language_info": {
   "codemirror_mode": {
    "name": "ipython",
    "version": 3
   },
   "file_extension": ".py",
   "mimetype": "text/x-python",
   "name": "python",
   "nbconvert_exporter": "python",
   "pygments_lexer": "ipython3",
   "version": "3.7.7"
  }
 },
 "nbformat": 4,
 "nbformat_minor": 4
}
