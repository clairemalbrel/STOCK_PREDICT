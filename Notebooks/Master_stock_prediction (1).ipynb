{
 "cells": [
  {
   "cell_type": "markdown",
   "metadata": {},
   "source": [
    "# Predict the stock market"
   ]
  },
  {
   "cell_type": "markdown",
   "metadata": {},
   "source": [
    "### Set up"
   ]
  },
  {
   "cell_type": "code",
   "execution_count": 5,
   "metadata": {},
   "outputs": [
    {
     "name": "stderr",
     "output_type": "stream",
     "text": [
      "c:\\users\\henon\\.venvs\\lewagon\\lib\\site-packages\\ipykernel_launcher.py:6: FutureWarning: The pandas.datetime class is deprecated and will be removed from pandas in a future version. Import from datetime module instead.\n",
      "  \n"
     ]
    }
   ],
   "source": [
    "# Set un the environment\n",
    "import pandas as pd\n",
    "import numpy as np\n",
    "import warnings\n",
    "from matplotlib import pyplot\n",
    "from pandas import Series, datetime\n",
    "from sklearn.preprocessing import StandardScaler\n",
    "from sklearn.model_selection import train_test_split, KFold, cross_val_score, GridSearchCV, TimeSeriesSplit\n",
    "from sklearn.metrics import classification_report, confusion_matrix, accuracy_score, mean_squared_error\n",
    "from sklearn.pipeline import Pipeline\n",
    "from sklearn.linear_model import LogisticRegression\n",
    "from sklearn.tree import DecisionTreeClassifier\n",
    "from sklearn.neighbors import KNeighborsClassifier\n",
    "from sklearn.discriminant_analysis import LinearDiscriminantAnalysis\n",
    "from sklearn.naive_bayes import GaussianNB\n",
    "from sklearn.svm import SVC\n",
    "from sklearn.ensemble import AdaBoostClassifier, GradientBoostingClassifier, RandomForestClassifier, ExtraTreesClassifier\n",
    "from sklearn.metrics import roc_curve, auc\n",
    "import matplotlib.pyplot as plt\n",
    "import random\n",
    "from statsmodels.graphics.tsaplots import plot_acf, plot_pacf\n",
    "from statsmodels.tsa.arima_model import ARIMA\n",
    "import seaborn as sns\n",
    "import nltk\n",
    "import string\n",
    "from tensorflow.keras.preprocessing.sequence import pad_sequences\n",
    "from tensorflow.keras.preprocessing.text import Tokenizer, text_to_word_sequence\n",
    "from sklearn.preprocessing import FunctionTransformer\n",
    "from nltk.tokenize import word_tokenize\n",
    "from nltk.corpus import stopwords\n",
    "from nltk.stem import WordNetLemmatizer\n",
    "import string"
   ]
  },
  {
   "cell_type": "markdown",
   "metadata": {},
   "source": [
    "## Preprocessing"
   ]
  },
  {
   "cell_type": "code",
   "execution_count": 2,
   "metadata": {},
   "outputs": [],
   "source": [
    "from STOCK_PREDICT.data import Data"
   ]
  },
  {
   "cell_type": "code",
   "execution_count": 3,
   "metadata": {},
   "outputs": [],
   "source": [
    "data = Data()"
   ]
  },
  {
   "cell_type": "code",
   "execution_count": 4,
   "metadata": {},
   "outputs": [],
   "source": [
    "df, X_train, X_test, y_train, y_test = data.clean_df()"
   ]
  },
  {
   "cell_type": "code",
   "execution_count": 5,
   "metadata": {},
   "outputs": [
    {
     "data": {
      "text/html": [
       "<div>\n",
       "<style scoped>\n",
       "    .dataframe tbody tr th:only-of-type {\n",
       "        vertical-align: middle;\n",
       "    }\n",
       "\n",
       "    .dataframe tbody tr th {\n",
       "        vertical-align: top;\n",
       "    }\n",
       "\n",
       "    .dataframe thead th {\n",
       "        text-align: right;\n",
       "    }\n",
       "</style>\n",
       "<table border=\"1\" class=\"dataframe\">\n",
       "  <thead>\n",
       "    <tr style=\"text-align: right;\">\n",
       "      <th></th>\n",
       "      <th>Date</th>\n",
       "      <th>Label</th>\n",
       "      <th>Subjectivity</th>\n",
       "      <th>Objectivity</th>\n",
       "      <th>Positive</th>\n",
       "      <th>Negative</th>\n",
       "      <th>Neutral</th>\n",
       "      <th>cleaned</th>\n",
       "      <th>Open</th>\n",
       "      <th>High</th>\n",
       "      <th>Low</th>\n",
       "      <th>Close</th>\n",
       "      <th>Volume</th>\n",
       "      <th>Adj Close</th>\n",
       "      <th>change</th>\n",
       "      <th>target</th>\n",
       "    </tr>\n",
       "  </thead>\n",
       "  <tbody>\n",
       "    <tr>\n",
       "      <th>0</th>\n",
       "      <td>2008-08-08</td>\n",
       "      <td>0</td>\n",
       "      <td>75.00</td>\n",
       "      <td>25.00</td>\n",
       "      <td>18.75</td>\n",
       "      <td>56.25</td>\n",
       "      <td>25.00</td>\n",
       "      <td>georgia down two russian warplane country move...</td>\n",
       "      <td>11432.089844</td>\n",
       "      <td>11759.959961</td>\n",
       "      <td>11388.040039</td>\n",
       "      <td>11734.320312</td>\n",
       "      <td>212830000</td>\n",
       "      <td>11734.320312</td>\n",
       "      <td>-0.244438</td>\n",
       "      <td>0</td>\n",
       "    </tr>\n",
       "    <tr>\n",
       "      <th>1</th>\n",
       "      <td>2008-12-08</td>\n",
       "      <td>0</td>\n",
       "      <td>56.25</td>\n",
       "      <td>43.75</td>\n",
       "      <td>18.75</td>\n",
       "      <td>37.50</td>\n",
       "      <td>43.75</td>\n",
       "      <td>remember adorable year old sang opening ceremo...</td>\n",
       "      <td>8637.650391</td>\n",
       "      <td>9026.410156</td>\n",
       "      <td>8637.490234</td>\n",
       "      <td>8934.179688</td>\n",
       "      <td>358970000</td>\n",
       "      <td>8934.179688</td>\n",
       "      <td>0.346756</td>\n",
       "      <td>1</td>\n",
       "    </tr>\n",
       "  </tbody>\n",
       "</table>\n",
       "</div>"
      ],
      "text/plain": [
       "        Date  Label  Subjectivity  Objectivity  Positive  Negative  Neutral  \\\n",
       "0 2008-08-08      0         75.00        25.00     18.75     56.25    25.00   \n",
       "1 2008-12-08      0         56.25        43.75     18.75     37.50    43.75   \n",
       "\n",
       "                                             cleaned          Open  \\\n",
       "0  georgia down two russian warplane country move...  11432.089844   \n",
       "1  remember adorable year old sang opening ceremo...   8637.650391   \n",
       "\n",
       "           High           Low         Close     Volume     Adj Close  \\\n",
       "0  11759.959961  11388.040039  11734.320312  212830000  11734.320312   \n",
       "1   9026.410156   8637.490234   8934.179688  358970000   8934.179688   \n",
       "\n",
       "     change  target  \n",
       "0 -0.244438       0  \n",
       "1  0.346756       1  "
      ]
     },
     "execution_count": 5,
     "metadata": {},
     "output_type": "execute_result"
    }
   ],
   "source": [
    "df.head(2)"
   ]
  },
  {
   "cell_type": "markdown",
   "metadata": {},
   "source": [
    "## Heatmap of features"
   ]
  },
  {
   "cell_type": "code",
   "execution_count": null,
   "metadata": {},
   "outputs": [],
   "source": [
    "colormap = pyplot.cm.RdYlBu\n",
    "pyplot.figure(figsize=(16,12))\n",
    "pyplot.title('Pearson correlation of continuous features', y=1.05, size=15)\n",
    "sns.heatmap(df.corr(),linewidths=0.1,vmax=1.0, square=True, \n",
    "            cmap=colormap, linecolor='white', annot=True)\n",
    "pyplot.show()"
   ]
  },
  {
   "cell_type": "code",
   "execution_count": null,
   "metadata": {},
   "outputs": [],
   "source": [
    "# Scale variables\n",
    "#scaler = StandardScaler().fit(X_train)\n",
    "#X_train = scaler.transform(X_train)\n",
    "#X_test = scaler.transform(X_test)"
   ]
  },
  {
   "cell_type": "markdown",
   "metadata": {},
   "source": [
    "## Machine Learning Modelling"
   ]
  },
  {
   "cell_type": "code",
   "execution_count": 7,
   "metadata": {},
   "outputs": [],
   "source": [
    "import xgboost as xgb"
   ]
  },
  {
   "cell_type": "code",
   "execution_count": 8,
   "metadata": {},
   "outputs": [],
   "source": [
    "scoring = 'precision'\n",
    "# Append the models to the models list\n",
    "models = []\n",
    "models.append(('LR' , LogisticRegression()))\n",
    "models.append(('LDA' , LinearDiscriminantAnalysis()))\n",
    "models.append(('KNN' , KNeighborsClassifier()))\n",
    "models.append(('CART' , DecisionTreeClassifier()))\n",
    "models.append(('NB' , GaussianNB()))\n",
    "models.append(('SVM' , SVC()))\n",
    "models.append(('RF' , RandomForestClassifier(n_estimators=50)))\n",
    "#models.append(('XGBoost', XGBClassifier()))"
   ]
  },
  {
   "cell_type": "code",
   "execution_count": 9,
   "metadata": {},
   "outputs": [
    {
     "name": "stdout",
     "output_type": "stream",
     "text": [
      "LR: 0.5472061657032755\n",
      "LDA: 0.7996146435452793\n",
      "KNN: 0.4836223506743738\n",
      "CART: 0.5298651252408478\n",
      "NB: 0.5452793834296724\n",
      "SVM: 0.5472061657032755\n",
      "RF: 0.5394990366088632\n"
     ]
    }
   ],
   "source": [
    "import warnings; warnings.simplefilter('ignore')\n",
    "\n",
    "# Evaluate each algorithm for accuracy\n",
    "results = []\n",
    "names = []\n",
    "\n",
    "for name, model in models:\n",
    "    clf = model\n",
    "    clf.fit(X_train, y_train)\n",
    "    y_pred = clf.predict(X_test)\n",
    "    accu_score = accuracy_score(y_test, y_pred)\n",
    "    print(name + \": \" + str(accu_score))"
   ]
  },
  {
   "cell_type": "code",
   "execution_count": 10,
   "metadata": {},
   "outputs": [
    {
     "name": "stdout",
     "output_type": "stream",
     "text": [
      "LR: 0.545055 (0.048822)\n",
      "LDA: 0.761807 (0.090641)\n",
      "KNN: 0.548695 (0.063023)\n",
      "CART: 0.575829 (0.058592)\n",
      "NB: 0.544261 (0.057943)\n",
      "SVM: 0.546636 (0.048899)\n",
      "RF: 0.560347 (0.051350)\n"
     ]
    }
   ],
   "source": [
    "import warnings; warnings.simplefilter('ignore')\n",
    "\n",
    "for name, model in models:\n",
    "    kfold = KFold(n_splits=10, random_state=42)\n",
    "    cv_results = cross_val_score(model, X_train, y_train, cv=kfold, scoring=scoring)\n",
    "    results.append(cv_results)\n",
    "    names.append(name)\n",
    "    msg = \"%s: %f (%f)\" % (name, cv_results.mean(), cv_results.std())\n",
    "    print(msg) "
   ]
  },
  {
   "cell_type": "markdown",
   "metadata": {},
   "source": [
    "### Linear Discriminant Analysis"
   ]
  },
  {
   "cell_type": "code",
   "execution_count": 38,
   "metadata": {},
   "outputs": [
    {
     "ename": "NameError",
     "evalue": "name 'scaler' is not defined",
     "output_type": "error",
     "traceback": [
      "\u001b[1;31m---------------------------------------------------------------------------\u001b[0m",
      "\u001b[1;31mNameError\u001b[0m                                 Traceback (most recent call last)",
      "\u001b[1;32m<ipython-input-38-6ffae0f4184e>\u001b[0m in \u001b[0;36m<module>\u001b[1;34m\u001b[0m\n\u001b[0;32m      3\u001b[0m \u001b[1;33m\u001b[0m\u001b[0m\n\u001b[0;32m      4\u001b[0m \u001b[1;31m# estimate accuracy on validation dataset\u001b[0m\u001b[1;33m\u001b[0m\u001b[1;33m\u001b[0m\u001b[1;33m\u001b[0m\u001b[0m\n\u001b[1;32m----> 5\u001b[1;33m \u001b[0mrescaledValidationX\u001b[0m \u001b[1;33m=\u001b[0m \u001b[0mscaler\u001b[0m\u001b[1;33m.\u001b[0m\u001b[0mtransform\u001b[0m\u001b[1;33m(\u001b[0m\u001b[0mX_test\u001b[0m\u001b[1;33m)\u001b[0m\u001b[1;33m\u001b[0m\u001b[1;33m\u001b[0m\u001b[0m\n\u001b[0m\u001b[0;32m      6\u001b[0m \u001b[0mpredictions\u001b[0m \u001b[1;33m=\u001b[0m \u001b[0mmodel_lda\u001b[0m\u001b[1;33m.\u001b[0m\u001b[0mpredict\u001b[0m\u001b[1;33m(\u001b[0m\u001b[0mX_test\u001b[0m\u001b[1;33m)\u001b[0m\u001b[1;33m\u001b[0m\u001b[1;33m\u001b[0m\u001b[0m\n\u001b[0;32m      7\u001b[0m \u001b[0mprint\u001b[0m\u001b[1;33m(\u001b[0m\u001b[1;34m\"accuracy score:\"\u001b[0m\u001b[1;33m)\u001b[0m\u001b[1;33m\u001b[0m\u001b[1;33m\u001b[0m\u001b[0m\n",
      "\u001b[1;31mNameError\u001b[0m: name 'scaler' is not defined"
     ]
    }
   ],
   "source": [
    "model_lda = LinearDiscriminantAnalysis()\n",
    "model_lda.fit(X_train, y_train)\n",
    "\n",
    "# estimate accuracy on validation dataset\n",
    "rescaledValidationX = scaler.transform(X_test)\n",
    "predictions = model_lda.predict(X_test)\n",
    "print(\"accuracy score:\")\n",
    "print(accuracy_score(y_test, predictions))"
   ]
  },
  {
   "cell_type": "code",
   "execution_count": null,
   "metadata": {
    "scrolled": true
   },
   "outputs": [],
   "source": [
    "y_pred_proba = model_lda.predict_proba(X_test)[:,1]\n",
    "fpr, tpr, thresholds = roc_curve(y_test, y_pred_proba)\n",
    "roc_auc = auc(fpr, tpr)\n",
    "\n",
    "# Plot ROC curve\n",
    "print(\"roc auc is :\" + str(roc_auc))\n",
    "pyplot.plot([0, 1], [0, 1], 'k--')\n",
    "pyplot.plot(fpr, tpr)\n",
    "pyplot.xlabel('False Positive Rate')\n",
    "pyplot.ylabel('True Positive Rate')\n",
    "pyplot.title('ROC Curve')\n",
    "pyplot.show()\n",
    "\n",
    "# AUC score using cross validation\n",
    "kfold_val = KFold(n_splits=10, random_state=42)\n",
    "auc_score = cross_val_score(model_lda, X_test, y_test, cv=kfold_val, scoring='roc_auc')\n",
    "print(\"AUC using cross val: \" + str(auc_score))\n",
    "mean_auc = np.mean(auc_score)\n",
    "print(\"Mean AUC score is: \" + str(mean_auc))"
   ]
  },
  {
   "cell_type": "markdown",
   "metadata": {},
   "source": [
    "## XGBoost feature selection\n"
   ]
  },
  {
   "cell_type": "code",
   "execution_count": 11,
   "metadata": {},
   "outputs": [
    {
     "data": {
      "image/png": "[encoded data removed]",
      "text/plain": [
       "<Figure size 432x288 with 1 Axes>"
      ]
     },
     "metadata": {
      "needs_background": "light"
     },
     "output_type": "display_data"
    }
   ],
   "source": [
    "import seaborn as sns\n",
    "ax = sns.scatterplot(x=\"Open\", y=\"Volume\", hue=None,data= df)"
   ]
  },
  {
   "cell_type": "code",
   "execution_count": 12,
   "metadata": {},
   "outputs": [],
   "source": [
    "import xgboost as xgb"
   ]
  },
  {
   "cell_type": "code",
   "execution_count": 13,
   "metadata": {},
   "outputs": [],
   "source": [
    "xg_reg = xgb.XGBClassifier(learning_rate = 0.1,\n",
    "                          max_depth = 2, \n",
    "                          min_child_weight=17, \n",
    "                          n_estimators = 100, \n",
    "                          nthread=1, \n",
    "                          subsample=1.0)"
   ]
  },
  {
   "cell_type": "code",
   "execution_count": 14,
   "metadata": {},
   "outputs": [],
   "source": [
    "xg_reg.fit(X_train,y_train)\n",
    "preds = xg_reg.predict(X_test)\n",
    "predictions = [round(value) for value in y_pred]"
   ]
  },
  {
   "cell_type": "code",
   "execution_count": 15,
   "metadata": {},
   "outputs": [
    {
     "name": "stdout",
     "output_type": "stream",
     "text": [
      "Accuracy: 53.95%\n"
     ]
    }
   ],
   "source": [
    "accuracy = accuracy_score(y_test, predictions)\n",
    "print(\"Accuracy: %.2f%%\" % (accuracy * 100.0))"
   ]
  },
  {
   "cell_type": "markdown",
   "metadata": {},
   "source": [
    "# XGBoost with KFold"
   ]
  },
  {
   "cell_type": "code",
   "execution_count": 16,
   "metadata": {},
   "outputs": [],
   "source": [
    "import xgboost as xgb\n",
    "from sklearn.model_selection import KFold\n",
    "from sklearn.model_selection import cross_val_score"
   ]
  },
  {
   "cell_type": "code",
   "execution_count": 35,
   "metadata": {},
   "outputs": [
    {
     "name": "stdout",
     "output_type": "stream",
     "text": [
      "Accuracy: 58.14% (3.83%)\n"
     ]
    }
   ],
   "source": [
    "model = xgb.XGBClassifier(learning_rate = 0.3,\n",
    "                          max_depth = 3, \n",
    "                          min_child_weight=19, \n",
    "                          n_estimators = 300, \n",
    "                          nthread=1, \n",
    "                          subsample=1.0)\n",
    "kfold = KFold(n_splits=10, random_state=7)\n",
    "results = cross_val_score(model, X_train, y_train, cv=kfold)\n",
    "print(\"Accuracy: %.2f%% (%.2f%%)\" % (results.mean()*100, results.std()*100))"
   ]
  },
  {
   "cell_type": "markdown",
   "metadata": {},
   "source": [
    "## LDA"
   ]
  },
  {
   "cell_type": "code",
   "execution_count": 36,
   "metadata": {},
   "outputs": [],
   "source": [
    "clf = LinearDiscriminantAnalysis()\n",
    "clf = clf.fit(X_train, y_train)\n",
    "pred = clf.predict(X_test)\n",
    "predictions = [round(value) for value in y_pred]"
   ]
  },
  {
   "cell_type": "code",
   "execution_count": 37,
   "metadata": {},
   "outputs": [
    {
     "name": "stdout",
     "output_type": "stream",
     "text": [
      "Accuracy: 53.95%\n"
     ]
    }
   ],
   "source": [
    "accuracy = accuracy_score(y_test, predictions)\n",
    "print(\"Accuracy: %.2f%%\" % (accuracy * 100.0))"
   ]
  },
  {
   "cell_type": "markdown",
   "metadata": {},
   "source": [
    "## Mr. 0.94"
   ]
  },
  {
   "cell_type": "code",
   "execution_count": 40,
   "metadata": {},
   "outputs": [
    {
     "data": {
      "image/png": "[encoded data removed]",
      "text/plain": [
       "<Figure size 720x720 with 16 Axes>"
      ]
     },
     "metadata": {},
     "output_type": "display_data"
    }
   ],
   "source": [
    "sns.set()\n",
    "df.hist(sharex = False, sharey = False, xlabelsize = 4, ylabelsize = 4, figsize=(10, 10))\n",
    "pyplot.show()"
   ]
  },
  {
   "cell_type": "code",
   "execution_count": 41,
   "metadata": {},
   "outputs": [
    {
     "data": {
      "image/png": "[encoded data removed]",
      "text/plain": [
       "<Figure size 432x288 with 1 Axes>"
      ]
     },
     "metadata": {},
     "output_type": "display_data"
    },
    {
     "data": {
      "image/png": "[encoded data removed]",
      "text/plain": [
       "<Figure size 432x288 with 1 Axes>"
      ]
     },
     "metadata": {},
     "output_type": "display_data"
    },
    {
     "ename": "TypeError",
     "evalue": "`Series.plot()` should not be called with positional arguments, only keyword arguments. The order of positional arguments will change in the future. Use `Series.plot(kind='hist')` instead of `Series.plot('hist',)`.",
     "output_type": "error",
     "traceback": [
      "\u001b[1;31m---------------------------------------------------------------------------\u001b[0m",
      "\u001b[1;31mTypeError\u001b[0m                                 Traceback (most recent call last)",
      "\u001b[1;32m<ipython-input-41-594052989cb5>\u001b[0m in \u001b[0;36m<module>\u001b[1;34m\u001b[0m\n\u001b[0;32m      7\u001b[0m \u001b[0mpyplot\u001b[0m\u001b[1;33m.\u001b[0m\u001b[0mylabel\u001b[0m\u001b[1;33m(\u001b[0m\u001b[1;34m'Stock Price Up or Down 0: Down, 1: Up'\u001b[0m\u001b[1;33m)\u001b[0m\u001b[1;33m\u001b[0m\u001b[1;33m\u001b[0m\u001b[0m\n\u001b[0;32m      8\u001b[0m \u001b[0mpyplot\u001b[0m\u001b[1;33m.\u001b[0m\u001b[0mshow\u001b[0m\u001b[1;33m(\u001b[0m\u001b[1;33m)\u001b[0m\u001b[1;33m\u001b[0m\u001b[1;33m\u001b[0m\u001b[0m\n\u001b[1;32m----> 9\u001b[1;33m \u001b[0mdf\u001b[0m\u001b[1;33m[\u001b[0m\u001b[1;34m'Subjectivity'\u001b[0m\u001b[1;33m]\u001b[0m\u001b[1;33m.\u001b[0m\u001b[0mplot\u001b[0m\u001b[1;33m(\u001b[0m\u001b[1;34m'hist'\u001b[0m\u001b[1;33m)\u001b[0m\u001b[1;33m\u001b[0m\u001b[1;33m\u001b[0m\u001b[0m\n\u001b[0m\u001b[0;32m     10\u001b[0m \u001b[0mpyplot\u001b[0m\u001b[1;33m.\u001b[0m\u001b[0mxlabel\u001b[0m\u001b[1;33m(\u001b[0m\u001b[1;34m'Subjectivity'\u001b[0m\u001b[1;33m)\u001b[0m\u001b[1;33m\u001b[0m\u001b[1;33m\u001b[0m\u001b[0m\n\u001b[0;32m     11\u001b[0m \u001b[0mpyplot\u001b[0m\u001b[1;33m.\u001b[0m\u001b[0mylabel\u001b[0m\u001b[1;33m(\u001b[0m\u001b[1;34m'Frequency'\u001b[0m\u001b[1;33m)\u001b[0m\u001b[1;33m\u001b[0m\u001b[1;33m\u001b[0m\u001b[0m\n",
      "\u001b[1;32mc:\\users\\henon\\.venvs\\lewagon\\lib\\site-packages\\pandas\\plotting\\_core.py\u001b[0m in \u001b[0;36m__call__\u001b[1;34m(self, *args, **kwargs)\u001b[0m\n\u001b[0;32m    768\u001b[0m \u001b[1;33m\u001b[0m\u001b[0m\n\u001b[0;32m    769\u001b[0m         x, y, kind, kwargs = self._get_call_args(\n\u001b[1;32m--> 770\u001b[1;33m             \u001b[0mplot_backend\u001b[0m\u001b[1;33m.\u001b[0m\u001b[0m__name__\u001b[0m\u001b[1;33m,\u001b[0m \u001b[0mself\u001b[0m\u001b[1;33m.\u001b[0m\u001b[0m_parent\u001b[0m\u001b[1;33m,\u001b[0m \u001b[0margs\u001b[0m\u001b[1;33m,\u001b[0m \u001b[0mkwargs\u001b[0m\u001b[1;33m\u001b[0m\u001b[1;33m\u001b[0m\u001b[0m\n\u001b[0m\u001b[0;32m    771\u001b[0m         )\n\u001b[0;32m    772\u001b[0m \u001b[1;33m\u001b[0m\u001b[0m\n",
      "\u001b[1;32mc:\\users\\henon\\.venvs\\lewagon\\lib\\site-packages\\pandas\\plotting\\_core.py\u001b[0m in \u001b[0;36m_get_call_args\u001b[1;34m(backend_name, data, args, kwargs)\u001b[0m\n\u001b[0;32m    751\u001b[0m                 \u001b[1;34mf\"`Series.plot({positional_args})`.\"\u001b[0m\u001b[1;33m\u001b[0m\u001b[1;33m\u001b[0m\u001b[0m\n\u001b[0;32m    752\u001b[0m             )\n\u001b[1;32m--> 753\u001b[1;33m             \u001b[1;32mraise\u001b[0m \u001b[0mTypeError\u001b[0m\u001b[1;33m(\u001b[0m\u001b[0mmsg\u001b[0m\u001b[1;33m)\u001b[0m\u001b[1;33m\u001b[0m\u001b[1;33m\u001b[0m\u001b[0m\n\u001b[0m\u001b[0;32m    754\u001b[0m \u001b[1;33m\u001b[0m\u001b[0m\n\u001b[0;32m    755\u001b[0m         \u001b[0mpos_args\u001b[0m \u001b[1;33m=\u001b[0m \u001b[1;33m{\u001b[0m\u001b[0mname\u001b[0m\u001b[1;33m:\u001b[0m \u001b[0mvalue\u001b[0m \u001b[1;32mfor\u001b[0m \u001b[0mvalue\u001b[0m\u001b[1;33m,\u001b[0m \u001b[1;33m(\u001b[0m\u001b[0mname\u001b[0m\u001b[1;33m,\u001b[0m \u001b[0m_\u001b[0m\u001b[1;33m)\u001b[0m \u001b[1;32min\u001b[0m \u001b[0mzip\u001b[0m\u001b[1;33m(\u001b[0m\u001b[0margs\u001b[0m\u001b[1;33m,\u001b[0m \u001b[0marg_def\u001b[0m\u001b[1;33m)\u001b[0m\u001b[1;33m}\u001b[0m\u001b[1;33m\u001b[0m\u001b[1;33m\u001b[0m\u001b[0m\n",
      "\u001b[1;31mTypeError\u001b[0m: `Series.plot()` should not be called with positional arguments, only keyword arguments. The order of positional arguments will change in the future. Use `Series.plot(kind='hist')` instead of `Series.plot('hist',)`."
     ]
    }
   ],
   "source": [
    "pyplot.scatter(df['Subjectivity'], df['Label'])\n",
    "pyplot.xlabel('Subjectivity')\n",
    "pyplot.ylabel('Stock Price Up or Down 0: Down, 1: Up')\n",
    "pyplot.show()\n",
    "pyplot.scatter(df['Objectivity'], df['Label'])\n",
    "pyplot.xlabel('Objectivity')\n",
    "pyplot.ylabel('Stock Price Up or Down 0: Down, 1: Up')\n",
    "pyplot.show()\n",
    "df['Subjectivity'].plot('hist')\n",
    "pyplot.xlabel('Subjectivity')\n",
    "pyplot.ylabel('Frequency')\n",
    "pyplot.show()\n",
    "df['Objectivity'].plot('hist')\n",
    "pyplot.xlabel('Subjectivity')\n",
    "pyplot.ylabel('Frequency')\n",
    "pyplot.show()\n",
    "print(\"Size of the Labels column\")\n",
    "print(df.groupby('Label').size())"
   ]
  },
  {
   "cell_type": "code",
   "execution_count": 42,
   "metadata": {},
   "outputs": [
    {
     "data": {
      "text/html": [
       "        <script type=\"text/javascript\">\n",
       "        window.PlotlyConfig = {MathJaxConfig: 'local'};\n",
       "        if (window.MathJax) {MathJax.Hub.Config({SVG: {font: \"STIX-Web\"}});}\n",
       "        if (typeof require !== 'undefined') {\n",
       "        require.undef(\"plotly\");\n",
       "        requirejs.config({\n",
       "            paths: {\n",
       "                'plotly': ['https://cdn.plot.ly/plotly-latest.min']\n",
       "            }\n",
       "        });\n",
       "        require(['plotly'], function(Plotly) {\n",
       "            window._Plotly = Plotly;\n",
       "        });\n",
       "        }\n",
       "        </script>\n",
       "        "
      ]
     },
     "metadata": {},
     "output_type": "display_data"
    },
    {
     "data": {
      "application/vnd.plotly.v1+json": {
       "config": {
        "linkText": "Export to plot.ly",
        "plotlyServerURL": "https://plot.ly",
        "showLink": false
       },
       "data": [
        {
         "name": "Zero count",
         "type": "bar",
         "x": [
          "Date",
          "Label",
          "Subjectivity",
          "Objectivity",
          "Positive",
          "Negative",
          "Neutral",
          "cleaned",
          "Open",
          "High",
          "Low",
          "Close",
          "Volume",
          "Adj Close",
          "change",
          "target"
         ],
         "y": [
          794,
          794,
          794,
          794,
          794,
          794,
          794,
          794,
          794,
          794,
          794,
          794,
          794,
          794,
          794,
          794
         ]
        },
        {
         "name": "One count",
         "type": "bar",
         "x": [
          "Date",
          "Label",
          "Subjectivity",
          "Objectivity",
          "Positive",
          "Negative",
          "Neutral",
          "cleaned",
          "Open",
          "High",
          "Low",
          "Close",
          "Volume",
          "Adj Close",
          "change",
          "target"
         ],
         "y": [
          935,
          935,
          935,
          935,
          935,
          935,
          935,
          935,
          935,
          935,
          935,
          935,
          935,
          935,
          935,
          935
         ]
        }
       ],
       "layout": {
        "barmode": "stack",
        "template": {
         "data": {
          "bar": [
           {
            "error_x": {
             "color": "#2a3f5f"
            },
            "error_y": {
             "color": "#2a3f5f"
            },
            "marker": {
             "line": {
              "color": "#E5ECF6",
              "width": 0.5
             }
            },
            "type": "bar"
           }
          ],
          "barpolar": [
           {
            "marker": {
             "line": {
              "color": "#E5ECF6",
              "width": 0.5
             }
            },
            "type": "barpolar"
           }
          ],
          "carpet": [
           {
            "aaxis": {
             "endlinecolor": "#2a3f5f",
             "gridcolor": "white",
             "linecolor": "white",
             "minorgridcolor": "white",
             "startlinecolor": "#2a3f5f"
            },
            "baxis": {
             "endlinecolor": "#2a3f5f",
             "gridcolor": "white",
             "linecolor": "white",
             "minorgridcolor": "white",
             "startlinecolor": "#2a3f5f"
            },
            "type": "carpet"
           }
          ],
          "choropleth": [
           {
            "colorbar": {
             "outlinewidth": 0,
             "ticks": ""
            },
            "type": "choropleth"
           }
          ],
          "contour": [
           {
            "colorbar": {
             "outlinewidth": 0,
             "ticks": ""
            },
            "colorscale": [
             [
              0,
              "#0d0887"
             ],
             [
              0.1111111111111111,
              "#46039f"
             ],
             [
              0.2222222222222222,
              "#7201a8"
             ],
             [
              0.3333333333333333,
              "#9c179e"
             ],
             [
              0.4444444444444444,
              "#bd3786"
             ],
             [
              0.5555555555555556,
              "#d8576b"
             ],
             [
              0.6666666666666666,
              "#ed7953"
             ],
             [
              0.7777777777777778,
              "#fb9f3a"
             ],
             [
              0.8888888888888888,
              "#fdca26"
             ],
             [
              1,
              "#f0f921"
             ]
            ],
            "type": "contour"
           }
          ],
          "contourcarpet": [
           {
            "colorbar": {
             "outlinewidth": 0,
             "ticks": ""
            },
            "type": "contourcarpet"
           }
          ],
          "heatmap": [
           {
            "colorbar": {
             "outlinewidth": 0,
             "ticks": ""
            },
            "colorscale": [
             [
              0,
              "#0d0887"
             ],
             [
              0.1111111111111111,
              "#46039f"
             ],
             [
              0.2222222222222222,
              "#7201a8"
             ],
             [
              0.3333333333333333,
              "#9c179e"
             ],
             [
              0.4444444444444444,
              "#bd3786"
             ],
             [
              0.5555555555555556,
              "#d8576b"
             ],
             [
              0.6666666666666666,
              "#ed7953"
             ],
             [
              0.7777777777777778,
              "#fb9f3a"
             ],
             [
              0.8888888888888888,
              "#fdca26"
             ],
             [
              1,
              "#f0f921"
             ]
            ],
            "type": "heatmap"
           }
          ],
          "heatmapgl": [
           {
            "colorbar": {
             "outlinewidth": 0,
             "ticks": ""
            },
            "colorscale": [
             [
              0,
              "#0d0887"
             ],
             [
              0.1111111111111111,
              "#46039f"
             ],
             [
              0.2222222222222222,
              "#7201a8"
             ],
             [
              0.3333333333333333,
              "#9c179e"
             ],
             [
              0.4444444444444444,
              "#bd3786"
             ],
             [
              0.5555555555555556,
              "#d8576b"
             ],
             [
              0.6666666666666666,
              "#ed7953"
             ],
             [
              0.7777777777777778,
              "#fb9f3a"
             ],
             [
              0.8888888888888888,
              "#fdca26"
             ],
             [
              1,
              "#f0f921"
             ]
            ],
            "type": "heatmapgl"
           }
          ],
          "histogram": [
           {
            "marker": {
             "colorbar": {
              "outlinewidth": 0,
              "ticks": ""
             }
            },
            "type": "histogram"
           }
          ],
          "histogram2d": [
           {
            "colorbar": {
             "outlinewidth": 0,
             "ticks": ""
            },
            "colorscale": [
             [
              0,
              "#0d0887"
             ],
             [
              0.1111111111111111,
              "#46039f"
             ],
             [
              0.2222222222222222,
              "#7201a8"
             ],
             [
              0.3333333333333333,
              "#9c179e"
             ],
             [
              0.4444444444444444,
              "#bd3786"
             ],
             [
              0.5555555555555556,
              "#d8576b"
             ],
             [
              0.6666666666666666,
              "#ed7953"
             ],
             [
              0.7777777777777778,
              "#fb9f3a"
             ],
             [
              0.8888888888888888,
              "#fdca26"
             ],
             [
              1,
              "#f0f921"
             ]
            ],
            "type": "histogram2d"
           }
          ],
          "histogram2dcontour": [
           {
            "colorbar": {
             "outlinewidth": 0,
             "ticks": ""
            },
            "colorscale": [
             [
              0,
              "#0d0887"
             ],
             [
              0.1111111111111111,
              "#46039f"
             ],
             [
              0.2222222222222222,
              "#7201a8"
             ],
             [
              0.3333333333333333,
              "#9c179e"
             ],
             [
              0.4444444444444444,
              "#bd3786"
             ],
             [
              0.5555555555555556,
              "#d8576b"
             ],
             [
              0.6666666666666666,
              "#ed7953"
             ],
             [
              0.7777777777777778,
              "#fb9f3a"
             ],
             [
              0.8888888888888888,
              "#fdca26"
             ],
             [
              1,
              "#f0f921"
             ]
            ],
            "type": "histogram2dcontour"
           }
          ],
          "mesh3d": [
           {
            "colorbar": {
             "outlinewidth": 0,
             "ticks": ""
            },
            "type": "mesh3d"
           }
          ],
          "parcoords": [
           {
            "line": {
             "colorbar": {
              "outlinewidth": 0,
              "ticks": ""
             }
            },
            "type": "parcoords"
           }
          ],
          "pie": [
           {
            "automargin": true,
            "type": "pie"
           }
          ],
          "scatter": [
           {
            "marker": {
             "colorbar": {
              "outlinewidth": 0,
              "ticks": ""
             }
            },
            "type": "scatter"
           }
          ],
          "scatter3d": [
           {
            "line": {
             "colorbar": {
              "outlinewidth": 0,
              "ticks": ""
             }
            },
            "marker": {
             "colorbar": {
              "outlinewidth": 0,
              "ticks": ""
             }
            },
            "type": "scatter3d"
           }
          ],
          "scattercarpet": [
           {
            "marker": {
             "colorbar": {
              "outlinewidth": 0,
              "ticks": ""
             }
            },
            "type": "scattercarpet"
           }
          ],
          "scattergeo": [
           {
            "marker": {
             "colorbar": {
              "outlinewidth": 0,
              "ticks": ""
             }
            },
            "type": "scattergeo"
           }
          ],
          "scattergl": [
           {
            "marker": {
             "colorbar": {
              "outlinewidth": 0,
              "ticks": ""
             }
            },
            "type": "scattergl"
           }
          ],
          "scattermapbox": [
           {
            "marker": {
             "colorbar": {
              "outlinewidth": 0,
              "ticks": ""
             }
            },
            "type": "scattermapbox"
           }
          ],
          "scatterpolar": [
           {
            "marker": {
             "colorbar": {
              "outlinewidth": 0,
              "ticks": ""
             }
            },
            "type": "scatterpolar"
           }
          ],
          "scatterpolargl": [
           {
            "marker": {
             "colorbar": {
              "outlinewidth": 0,
              "ticks": ""
             }
            },
            "type": "scatterpolargl"
           }
          ],
          "scatterternary": [
           {
            "marker": {
             "colorbar": {
              "outlinewidth": 0,
              "ticks": ""
             }
            },
            "type": "scatterternary"
           }
          ],
          "surface": [
           {
            "colorbar": {
             "outlinewidth": 0,
             "ticks": ""
            },
            "colorscale": [
             [
              0,
              "#0d0887"
             ],
             [
              0.1111111111111111,
              "#46039f"
             ],
             [
              0.2222222222222222,
              "#7201a8"
             ],
             [
              0.3333333333333333,
              "#9c179e"
             ],
             [
              0.4444444444444444,
              "#bd3786"
             ],
             [
              0.5555555555555556,
              "#d8576b"
             ],
             [
              0.6666666666666666,
              "#ed7953"
             ],
             [
              0.7777777777777778,
              "#fb9f3a"
             ],
             [
              0.8888888888888888,
              "#fdca26"
             ],
             [
              1,
              "#f0f921"
             ]
            ],
            "type": "surface"
           }
          ],
          "table": [
           {
            "cells": {
             "fill": {
              "color": "#EBF0F8"
             },
             "line": {
              "color": "white"
             }
            },
            "header": {
             "fill": {
              "color": "#C8D4E3"
             },
             "line": {
              "color": "white"
             }
            },
            "type": "table"
           }
          ]
         },
         "layout": {
          "annotationdefaults": {
           "arrowcolor": "#2a3f5f",
           "arrowhead": 0,
           "arrowwidth": 1
          },
          "coloraxis": {
           "colorbar": {
            "outlinewidth": 0,
            "ticks": ""
           }
          },
          "colorscale": {
           "diverging": [
            [
             0,
             "#8e0152"
            ],
            [
             0.1,
             "#c51b7d"
            ],
            [
             0.2,
             "#de77ae"
            ],
            [
             0.3,
             "#f1b6da"
            ],
            [
             0.4,
             "#fde0ef"
            ],
            [
             0.5,
             "#f7f7f7"
            ],
            [
             0.6,
             "#e6f5d0"
            ],
            [
             0.7,
             "#b8e186"
            ],
            [
             0.8,
             "#7fbc41"
            ],
            [
             0.9,
             "#4d9221"
            ],
            [
             1,
             "#276419"
            ]
           ],
           "sequential": [
            [
             0,
             "#0d0887"
            ],
            [
             0.1111111111111111,
             "#46039f"
            ],
            [
             0.2222222222222222,
             "#7201a8"
            ],
            [
             0.3333333333333333,
             "#9c179e"
            ],
            [
             0.4444444444444444,
             "#bd3786"
            ],
            [
             0.5555555555555556,
             "#d8576b"
            ],
            [
             0.6666666666666666,
             "#ed7953"
            ],
            [
             0.7777777777777778,
             "#fb9f3a"
            ],
            [
             0.8888888888888888,
             "#fdca26"
            ],
            [
             1,
             "#f0f921"
            ]
           ],
           "sequentialminus": [
            [
             0,
             "#0d0887"
            ],
            [
             0.1111111111111111,
             "#46039f"
            ],
            [
             0.2222222222222222,
             "#7201a8"
            ],
            [
             0.3333333333333333,
             "#9c179e"
            ],
            [
             0.4444444444444444,
             "#bd3786"
            ],
            [
             0.5555555555555556,
             "#d8576b"
            ],
            [
             0.6666666666666666,
             "#ed7953"
            ],
            [
             0.7777777777777778,
             "#fb9f3a"
            ],
            [
             0.8888888888888888,
             "#fdca26"
            ],
            [
             1,
             "#f0f921"
            ]
           ]
          },
          "colorway": [
           "#636efa",
           "#EF553B",
           "#00cc96",
           "#ab63fa",
           "#FFA15A",
           "#19d3f3",
           "#FF6692",
           "#B6E880",
           "#FF97FF",
           "#FECB52"
          ],
          "font": {
           "color": "#2a3f5f"
          },
          "geo": {
           "bgcolor": "white",
           "lakecolor": "white",
           "landcolor": "#E5ECF6",
           "showlakes": true,
           "showland": true,
           "subunitcolor": "white"
          },
          "hoverlabel": {
           "align": "left"
          },
          "hovermode": "closest",
          "mapbox": {
           "style": "light"
          },
          "paper_bgcolor": "white",
          "plot_bgcolor": "#E5ECF6",
          "polar": {
           "angularaxis": {
            "gridcolor": "white",
            "linecolor": "white",
            "ticks": ""
           },
           "bgcolor": "#E5ECF6",
           "radialaxis": {
            "gridcolor": "white",
            "linecolor": "white",
            "ticks": ""
           }
          },
          "scene": {
           "xaxis": {
            "backgroundcolor": "#E5ECF6",
            "gridcolor": "white",
            "gridwidth": 2,
            "linecolor": "white",
            "showbackground": true,
            "ticks": "",
            "zerolinecolor": "white"
           },
           "yaxis": {
            "backgroundcolor": "#E5ECF6",
            "gridcolor": "white",
            "gridwidth": 2,
            "linecolor": "white",
            "showbackground": true,
            "ticks": "",
            "zerolinecolor": "white"
           },
           "zaxis": {
            "backgroundcolor": "#E5ECF6",
            "gridcolor": "white",
            "gridwidth": 2,
            "linecolor": "white",
            "showbackground": true,
            "ticks": "",
            "zerolinecolor": "white"
           }
          },
          "shapedefaults": {
           "line": {
            "color": "#2a3f5f"
           }
          },
          "ternary": {
           "aaxis": {
            "gridcolor": "white",
            "linecolor": "white",
            "ticks": ""
           },
           "baxis": {
            "gridcolor": "white",
            "linecolor": "white",
            "ticks": ""
           },
           "bgcolor": "#E5ECF6",
           "caxis": {
            "gridcolor": "white",
            "linecolor": "white",
            "ticks": ""
           }
          },
          "title": {
           "x": 0.05
          },
          "xaxis": {
           "automargin": true,
           "gridcolor": "white",
           "linecolor": "white",
           "ticks": "",
           "title": {
            "standoff": 15
           },
           "zerolinecolor": "white",
           "zerolinewidth": 2
          },
          "yaxis": {
           "automargin": true,
           "gridcolor": "white",
           "linecolor": "white",
           "ticks": "",
           "title": {
            "standoff": 15
           },
           "zerolinecolor": "white",
           "zerolinewidth": 2
          }
         }
        },
        "title": {
         "text": "Count of 1 and 0 in binary variables"
        }
       }
      },
      "text/html": [
       "<div>\n",
       "        \n",
       "        \n",
       "            <div id=\"b8a333a9-1d99-4e88-9164-1fb9921aaaaf\" class=\"plotly-graph-div\" style=\"height:525px; width:100%;\"></div>\n",
       "            <script type=\"text/javascript\">\n",
       "                require([\"plotly\"], function(Plotly) {\n",
       "                    window.PLOTLYENV=window.PLOTLYENV || {};\n",
       "                    \n",
       "                if (document.getElementById(\"b8a333a9-1d99-4e88-9164-1fb9921aaaaf\")) {\n",
       "                    Plotly.newPlot(\n",
       "                        'b8a333a9-1d99-4e88-9164-1fb9921aaaaf',\n",
       "                        [{\"name\": \"Zero count\", \"type\": \"bar\", \"x\": [\"Date\", \"Label\", \"Subjectivity\", \"Objectivity\", \"Positive\", \"Negative\", \"Neutral\", \"cleaned\", \"Open\", \"High\", \"Low\", \"Close\", \"Volume\", \"Adj Close\", \"change\", \"target\"], \"y\": [794, 794, 794, 794, 794, 794, 794, 794, 794, 794, 794, 794, 794, 794, 794, 794]}, {\"name\": \"One count\", \"type\": \"bar\", \"x\": [\"Date\", \"Label\", \"Subjectivity\", \"Objectivity\", \"Positive\", \"Negative\", \"Neutral\", \"cleaned\", \"Open\", \"High\", \"Low\", \"Close\", \"Volume\", \"Adj Close\", \"change\", \"target\"], \"y\": [935, 935, 935, 935, 935, 935, 935, 935, 935, 935, 935, 935, 935, 935, 935, 935]}],\n",
       "                        {\"barmode\": \"stack\", \"template\": {\"data\": {\"bar\": [{\"error_x\": {\"color\": \"#2a3f5f\"}, \"error_y\": {\"color\": \"#2a3f5f\"}, \"marker\": {\"line\": {\"color\": \"#E5ECF6\", \"width\": 0.5}}, \"type\": \"bar\"}], \"barpolar\": [{\"marker\": {\"line\": {\"color\": \"#E5ECF6\", \"width\": 0.5}}, \"type\": \"barpolar\"}], \"carpet\": [{\"aaxis\": {\"endlinecolor\": \"#2a3f5f\", \"gridcolor\": \"white\", \"linecolor\": \"white\", \"minorgridcolor\": \"white\", \"startlinecolor\": \"#2a3f5f\"}, \"baxis\": {\"endlinecolor\": \"#2a3f5f\", \"gridcolor\": \"white\", \"linecolor\": \"white\", \"minorgridcolor\": \"white\", \"startlinecolor\": \"#2a3f5f\"}, \"type\": \"carpet\"}], \"choropleth\": [{\"colorbar\": {\"outlinewidth\": 0, \"ticks\": \"\"}, \"type\": \"choropleth\"}], \"contour\": [{\"colorbar\": {\"outlinewidth\": 0, \"ticks\": \"\"}, \"colorscale\": [[0.0, \"#0d0887\"], [0.1111111111111111, \"#46039f\"], [0.2222222222222222, \"#7201a8\"], [0.3333333333333333, \"#9c179e\"], [0.4444444444444444, \"#bd3786\"], [0.5555555555555556, \"#d8576b\"], [0.6666666666666666, \"#ed7953\"], [0.7777777777777778, \"#fb9f3a\"], [0.8888888888888888, \"#fdca26\"], [1.0, \"#f0f921\"]], \"type\": \"contour\"}], \"contourcarpet\": [{\"colorbar\": {\"outlinewidth\": 0, \"ticks\": \"\"}, \"type\": \"contourcarpet\"}], \"heatmap\": [{\"colorbar\": {\"outlinewidth\": 0, \"ticks\": \"\"}, \"colorscale\": [[0.0, \"#0d0887\"], [0.1111111111111111, \"#46039f\"], [0.2222222222222222, \"#7201a8\"], [0.3333333333333333, \"#9c179e\"], [0.4444444444444444, \"#bd3786\"], [0.5555555555555556, \"#d8576b\"], [0.6666666666666666, \"#ed7953\"], [0.7777777777777778, \"#fb9f3a\"], [0.8888888888888888, \"#fdca26\"], [1.0, \"#f0f921\"]], \"type\": \"heatmap\"}], \"heatmapgl\": [{\"colorbar\": {\"outlinewidth\": 0, \"ticks\": \"\"}, \"colorscale\": [[0.0, \"#0d0887\"], [0.1111111111111111, \"#46039f\"], [0.2222222222222222, \"#7201a8\"], [0.3333333333333333, \"#9c179e\"], [0.4444444444444444, \"#bd3786\"], [0.5555555555555556, \"#d8576b\"], [0.6666666666666666, \"#ed7953\"], [0.7777777777777778, \"#fb9f3a\"], [0.8888888888888888, \"#fdca26\"], [1.0, \"#f0f921\"]], \"type\": \"heatmapgl\"}], \"histogram\": [{\"marker\": {\"colorbar\": {\"outlinewidth\": 0, \"ticks\": \"\"}}, \"type\": \"histogram\"}], \"histogram2d\": [{\"colorbar\": {\"outlinewidth\": 0, \"ticks\": \"\"}, \"colorscale\": [[0.0, \"#0d0887\"], [0.1111111111111111, \"#46039f\"], [0.2222222222222222, \"#7201a8\"], [0.3333333333333333, \"#9c179e\"], [0.4444444444444444, \"#bd3786\"], [0.5555555555555556, \"#d8576b\"], [0.6666666666666666, \"#ed7953\"], [0.7777777777777778, \"#fb9f3a\"], [0.8888888888888888, \"#fdca26\"], [1.0, \"#f0f921\"]], \"type\": \"histogram2d\"}], \"histogram2dcontour\": [{\"colorbar\": {\"outlinewidth\": 0, \"ticks\": \"\"}, \"colorscale\": [[0.0, \"#0d0887\"], [0.1111111111111111, \"#46039f\"], [0.2222222222222222, \"#7201a8\"], [0.3333333333333333, \"#9c179e\"], [0.4444444444444444, \"#bd3786\"], [0.5555555555555556, \"#d8576b\"], [0.6666666666666666, \"#ed7953\"], [0.7777777777777778, \"#fb9f3a\"], [0.8888888888888888, \"#fdca26\"], [1.0, \"#f0f921\"]], \"type\": \"histogram2dcontour\"}], \"mesh3d\": [{\"colorbar\": {\"outlinewidth\": 0, \"ticks\": \"\"}, \"type\": \"mesh3d\"}], \"parcoords\": [{\"line\": {\"colorbar\": {\"outlinewidth\": 0, \"ticks\": \"\"}}, \"type\": \"parcoords\"}], \"pie\": [{\"automargin\": true, \"type\": \"pie\"}], \"scatter\": [{\"marker\": {\"colorbar\": {\"outlinewidth\": 0, \"ticks\": \"\"}}, \"type\": \"scatter\"}], \"scatter3d\": [{\"line\": {\"colorbar\": {\"outlinewidth\": 0, \"ticks\": \"\"}}, \"marker\": {\"colorbar\": {\"outlinewidth\": 0, \"ticks\": \"\"}}, \"type\": \"scatter3d\"}], \"scattercarpet\": [{\"marker\": {\"colorbar\": {\"outlinewidth\": 0, \"ticks\": \"\"}}, \"type\": \"scattercarpet\"}], \"scattergeo\": [{\"marker\": {\"colorbar\": {\"outlinewidth\": 0, \"ticks\": \"\"}}, \"type\": \"scattergeo\"}], \"scattergl\": [{\"marker\": {\"colorbar\": {\"outlinewidth\": 0, \"ticks\": \"\"}}, \"type\": \"scattergl\"}], \"scattermapbox\": [{\"marker\": {\"colorbar\": {\"outlinewidth\": 0, \"ticks\": \"\"}}, \"type\": \"scattermapbox\"}], \"scatterpolar\": [{\"marker\": {\"colorbar\": {\"outlinewidth\": 0, \"ticks\": \"\"}}, \"type\": \"scatterpolar\"}], \"scatterpolargl\": [{\"marker\": {\"colorbar\": {\"outlinewidth\": 0, \"ticks\": \"\"}}, \"type\": \"scatterpolargl\"}], \"scatterternary\": [{\"marker\": {\"colorbar\": {\"outlinewidth\": 0, \"ticks\": \"\"}}, \"type\": \"scatterternary\"}], \"surface\": [{\"colorbar\": {\"outlinewidth\": 0, \"ticks\": \"\"}, \"colorscale\": [[0.0, \"#0d0887\"], [0.1111111111111111, \"#46039f\"], [0.2222222222222222, \"#7201a8\"], [0.3333333333333333, \"#9c179e\"], [0.4444444444444444, \"#bd3786\"], [0.5555555555555556, \"#d8576b\"], [0.6666666666666666, \"#ed7953\"], [0.7777777777777778, \"#fb9f3a\"], [0.8888888888888888, \"#fdca26\"], [1.0, \"#f0f921\"]], \"type\": \"surface\"}], \"table\": [{\"cells\": {\"fill\": {\"color\": \"#EBF0F8\"}, \"line\": {\"color\": \"white\"}}, \"header\": {\"fill\": {\"color\": \"#C8D4E3\"}, \"line\": {\"color\": \"white\"}}, \"type\": \"table\"}]}, \"layout\": {\"annotationdefaults\": {\"arrowcolor\": \"#2a3f5f\", \"arrowhead\": 0, \"arrowwidth\": 1}, \"coloraxis\": {\"colorbar\": {\"outlinewidth\": 0, \"ticks\": \"\"}}, \"colorscale\": {\"diverging\": [[0, \"#8e0152\"], [0.1, \"#c51b7d\"], [0.2, \"#de77ae\"], [0.3, \"#f1b6da\"], [0.4, \"#fde0ef\"], [0.5, \"#f7f7f7\"], [0.6, \"#e6f5d0\"], [0.7, \"#b8e186\"], [0.8, \"#7fbc41\"], [0.9, \"#4d9221\"], [1, \"#276419\"]], \"sequential\": [[0.0, \"#0d0887\"], [0.1111111111111111, \"#46039f\"], [0.2222222222222222, \"#7201a8\"], [0.3333333333333333, \"#9c179e\"], [0.4444444444444444, \"#bd3786\"], [0.5555555555555556, \"#d8576b\"], [0.6666666666666666, \"#ed7953\"], [0.7777777777777778, \"#fb9f3a\"], [0.8888888888888888, \"#fdca26\"], [1.0, \"#f0f921\"]], \"sequentialminus\": [[0.0, \"#0d0887\"], [0.1111111111111111, \"#46039f\"], [0.2222222222222222, \"#7201a8\"], [0.3333333333333333, \"#9c179e\"], [0.4444444444444444, \"#bd3786\"], [0.5555555555555556, \"#d8576b\"], [0.6666666666666666, \"#ed7953\"], [0.7777777777777778, \"#fb9f3a\"], [0.8888888888888888, \"#fdca26\"], [1.0, \"#f0f921\"]]}, \"colorway\": [\"#636efa\", \"#EF553B\", \"#00cc96\", \"#ab63fa\", \"#FFA15A\", \"#19d3f3\", \"#FF6692\", \"#B6E880\", \"#FF97FF\", \"#FECB52\"], \"font\": {\"color\": \"#2a3f5f\"}, \"geo\": {\"bgcolor\": \"white\", \"lakecolor\": \"white\", \"landcolor\": \"#E5ECF6\", \"showlakes\": true, \"showland\": true, \"subunitcolor\": \"white\"}, \"hoverlabel\": {\"align\": \"left\"}, \"hovermode\": \"closest\", \"mapbox\": {\"style\": \"light\"}, \"paper_bgcolor\": \"white\", \"plot_bgcolor\": \"#E5ECF6\", \"polar\": {\"angularaxis\": {\"gridcolor\": \"white\", \"linecolor\": \"white\", \"ticks\": \"\"}, \"bgcolor\": \"#E5ECF6\", \"radialaxis\": {\"gridcolor\": \"white\", \"linecolor\": \"white\", \"ticks\": \"\"}}, \"scene\": {\"xaxis\": {\"backgroundcolor\": \"#E5ECF6\", \"gridcolor\": \"white\", \"gridwidth\": 2, \"linecolor\": \"white\", \"showbackground\": true, \"ticks\": \"\", \"zerolinecolor\": \"white\"}, \"yaxis\": {\"backgroundcolor\": \"#E5ECF6\", \"gridcolor\": \"white\", \"gridwidth\": 2, \"linecolor\": \"white\", \"showbackground\": true, \"ticks\": \"\", \"zerolinecolor\": \"white\"}, \"zaxis\": {\"backgroundcolor\": \"#E5ECF6\", \"gridcolor\": \"white\", \"gridwidth\": 2, \"linecolor\": \"white\", \"showbackground\": true, \"ticks\": \"\", \"zerolinecolor\": \"white\"}}, \"shapedefaults\": {\"line\": {\"color\": \"#2a3f5f\"}}, \"ternary\": {\"aaxis\": {\"gridcolor\": \"white\", \"linecolor\": \"white\", \"ticks\": \"\"}, \"baxis\": {\"gridcolor\": \"white\", \"linecolor\": \"white\", \"ticks\": \"\"}, \"bgcolor\": \"#E5ECF6\", \"caxis\": {\"gridcolor\": \"white\", \"linecolor\": \"white\", \"ticks\": \"\"}}, \"title\": {\"x\": 0.05}, \"xaxis\": {\"automargin\": true, \"gridcolor\": \"white\", \"linecolor\": \"white\", \"ticks\": \"\", \"title\": {\"standoff\": 15}, \"zerolinecolor\": \"white\", \"zerolinewidth\": 2}, \"yaxis\": {\"automargin\": true, \"gridcolor\": \"white\", \"linecolor\": \"white\", \"ticks\": \"\", \"title\": {\"standoff\": 15}, \"zerolinecolor\": \"white\", \"zerolinewidth\": 2}}}, \"title\": {\"text\": \"Count of 1 and 0 in binary variables\"}},\n",
       "                        {\"responsive\": true}\n",
       "                    ).then(function(){\n",
       "                            \n",
       "var gd = document.getElementById('b8a333a9-1d99-4e88-9164-1fb9921aaaaf');\n",
       "var x = new MutationObserver(function (mutations, observer) {{\n",
       "        var display = window.getComputedStyle(gd).display;\n",
       "        if (!display || display === 'none') {{\n",
       "            console.log([gd, 'removed!']);\n",
       "            Plotly.purge(gd);\n",
       "            observer.disconnect();\n",
       "        }}\n",
       "}});\n",
       "\n",
       "// Listen for the removal of the full notebook cells\n",
       "var notebookContainer = gd.closest('#notebook-container');\n",
       "if (notebookContainer) {{\n",
       "    x.observe(notebookContainer, {childList: true});\n",
       "}}\n",
       "\n",
       "// Listen for the clearing of the current output cell\n",
       "var outputEl = gd.closest('.output');\n",
       "if (outputEl) {{\n",
       "    x.observe(outputEl, {childList: true});\n",
       "}}\n",
       "\n",
       "                        })\n",
       "                };\n",
       "                });\n",
       "            </script>\n",
       "        </div>"
      ]
     },
     "metadata": {},
     "output_type": "display_data"
    }
   ],
   "source": [
    "%matplotlib inline\n",
    "import plotly.offline as py\n",
    "py.init_notebook_mode(connected=True)\n",
    "import plotly.graph_objs as go\n",
    "import plotly.tools as tls\n",
    "import warnings\n",
    "\n",
    "bin_col = df.columns\n",
    "zero_list = []\n",
    "one_list = []\n",
    "for col in bin_col:\n",
    "    zero_count = 0\n",
    "    one_count = 0\n",
    "    for ix, val in df[col].iteritems():\n",
    "        if df.loc[ix, 'Label'] == 0:\n",
    "            zero_count += 1\n",
    "        else:\n",
    "            one_count += 1\n",
    "    zero_list.append(zero_count)\n",
    "    one_list.append(one_count)\n",
    "    \n",
    "trace1 = go.Bar(\n",
    "    x=bin_col,\n",
    "    y=zero_list ,\n",
    "    name='Zero count'\n",
    ")\n",
    "trace2 = go.Bar(\n",
    "    x=bin_col,\n",
    "    y=one_list,\n",
    "    name='One count'\n",
    ")\n",
    "\n",
    "data = [trace1, trace2]\n",
    "layout = go.Layout(\n",
    "    barmode='stack',\n",
    "    title='Count of 1 and 0 in binary variables'\n",
    ")\n",
    "\n",
    "fig = go.Figure(data=data, layout=layout)\n",
    "py.iplot(fig, filename='stacked-bar')"
   ]
  },
  {
   "cell_type": "markdown",
   "metadata": {},
   "source": [
    "# Training"
   ]
  },
  {
   "cell_type": "code",
   "execution_count": 7,
   "metadata": {},
   "outputs": [
    {
     "name": "stdout",
     "output_type": "stream",
     "text": [
      "Date            datetime64[ns]\n",
      "Label                    int64\n",
      "Subjectivity           float64\n",
      "Objectivity            float64\n",
      "Positive               float64\n",
      "Negative               float64\n",
      "Neutral                float64\n",
      "cleaned                 object\n",
      "Open                   float64\n",
      "High                   float64\n",
      "Low                    float64\n",
      "Close                  float64\n",
      "Volume                   int64\n",
      "Adj Close              float64\n",
      "change                 float64\n",
      "target                   int64\n",
      "dtype: object\n",
      "Date            1729\n",
      "Label           1729\n",
      "Subjectivity    1729\n",
      "Objectivity     1729\n",
      "Positive        1729\n",
      "Negative        1729\n",
      "Neutral         1729\n",
      "cleaned         1729\n",
      "Open            1729\n",
      "High            1729\n",
      "Low             1729\n",
      "Close           1729\n",
      "Volume          1729\n",
      "Adj Close       1729\n",
      "change          1729\n",
      "target          1729\n",
      "dtype: int64\n",
      "Date            1729\n",
      "Label           1729\n",
      "Subjectivity    1729\n",
      "Objectivity     1729\n",
      "Positive        1729\n",
      "Negative        1729\n",
      "Neutral         1729\n",
      "cleaned         1729\n",
      "Open            1729\n",
      "High            1729\n",
      "Low             1729\n",
      "Close           1729\n",
      "Volume          1729\n",
      "Adj Close       1729\n",
      "change          1729\n",
      "target          1729\n",
      "dtype: int64\n"
     ]
    }
   ],
   "source": [
    "# Print the datatypes and count of the dataframe\n",
    "print(df.dtypes)\n",
    "print(df.count())\n",
    "# Change the NaN values to the mean value of that column\n",
    "nan_list = ['Subjectivity', 'Objectivity', 'Positive', 'Negative', 'Neutral']\n",
    "for col in nan_list:\n",
    "    df[col] = df[col].fillna(df[col].mean())\n",
    "\n",
    "# Recheck the count\n",
    "print(df.count())"
   ]
  },
  {
   "cell_type": "code",
   "execution_count": 35,
   "metadata": {},
   "outputs": [],
   "source": [
    "# Separate the dataframe for input(X) and output variables(y)\n",
    "X = df.loc[:,'Subjectivity':'Adj Close']\n",
    "y = df.loc[:,'target']"
   ]
  },
  {
   "cell_type": "code",
   "execution_count": 36,
   "metadata": {},
   "outputs": [],
   "source": [
    "X = X.drop(['cleaned'], axis=1)"
   ]
  },
  {
   "cell_type": "code",
   "execution_count": 37,
   "metadata": {},
   "outputs": [
    {
     "data": {
      "text/html": [
       "<div>\n",
       "<style scoped>\n",
       "    .dataframe tbody tr th:only-of-type {\n",
       "        vertical-align: middle;\n",
       "    }\n",
       "\n",
       "    .dataframe tbody tr th {\n",
       "        vertical-align: top;\n",
       "    }\n",
       "\n",
       "    .dataframe thead th {\n",
       "        text-align: right;\n",
       "    }\n",
       "</style>\n",
       "<table border=\"1\" class=\"dataframe\">\n",
       "  <thead>\n",
       "    <tr style=\"text-align: right;\">\n",
       "      <th></th>\n",
       "      <th>Subjectivity</th>\n",
       "      <th>Objectivity</th>\n",
       "      <th>Positive</th>\n",
       "      <th>Negative</th>\n",
       "      <th>Neutral</th>\n",
       "      <th>Open</th>\n",
       "      <th>High</th>\n",
       "      <th>Low</th>\n",
       "      <th>Close</th>\n",
       "      <th>Volume</th>\n",
       "      <th>Adj Close</th>\n",
       "    </tr>\n",
       "  </thead>\n",
       "  <tbody>\n",
       "    <tr>\n",
       "      <th>0</th>\n",
       "      <td>75.000000</td>\n",
       "      <td>25.000000</td>\n",
       "      <td>18.750000</td>\n",
       "      <td>56.250000</td>\n",
       "      <td>25.000000</td>\n",
       "      <td>11432.089844</td>\n",
       "      <td>11759.959961</td>\n",
       "      <td>11388.040039</td>\n",
       "      <td>11734.320312</td>\n",
       "      <td>212830000</td>\n",
       "      <td>11734.320312</td>\n",
       "    </tr>\n",
       "    <tr>\n",
       "      <th>1</th>\n",
       "      <td>56.250000</td>\n",
       "      <td>43.750000</td>\n",
       "      <td>18.750000</td>\n",
       "      <td>37.500000</td>\n",
       "      <td>43.750000</td>\n",
       "      <td>8637.650391</td>\n",
       "      <td>9026.410156</td>\n",
       "      <td>8637.490234</td>\n",
       "      <td>8934.179688</td>\n",
       "      <td>358970000</td>\n",
       "      <td>8934.179688</td>\n",
       "    </tr>\n",
       "    <tr>\n",
       "      <th>2</th>\n",
       "      <td>38.461538</td>\n",
       "      <td>61.538462</td>\n",
       "      <td>15.384615</td>\n",
       "      <td>23.076923</td>\n",
       "      <td>61.538462</td>\n",
       "      <td>11632.809570</td>\n",
       "      <td>11633.780273</td>\n",
       "      <td>11453.339844</td>\n",
       "      <td>11532.959961</td>\n",
       "      <td>182550000</td>\n",
       "      <td>11532.959961</td>\n",
       "    </tr>\n",
       "  </tbody>\n",
       "</table>\n",
       "</div>"
      ],
      "text/plain": [
       "   Subjectivity  Objectivity   Positive   Negative    Neutral          Open  \\\n",
       "0     75.000000    25.000000  18.750000  56.250000  25.000000  11432.089844   \n",
       "1     56.250000    43.750000  18.750000  37.500000  43.750000   8637.650391   \n",
       "2     38.461538    61.538462  15.384615  23.076923  61.538462  11632.809570   \n",
       "\n",
       "           High           Low         Close     Volume     Adj Close  \n",
       "0  11759.959961  11388.040039  11734.320312  212830000  11734.320312  \n",
       "1   9026.410156   8637.490234   8934.179688  358970000   8934.179688  \n",
       "2  11633.780273  11453.339844  11532.959961  182550000  11532.959961  "
      ]
     },
     "execution_count": 37,
     "metadata": {},
     "output_type": "execute_result"
    }
   ],
   "source": [
    "X.head(3)"
   ]
  },
  {
   "cell_type": "code",
   "execution_count": 38,
   "metadata": {},
   "outputs": [
    {
     "name": "stdout",
     "output_type": "stream",
     "text": [
      "1729\n",
      "1210\n",
      "Observations: 1729\n",
      "X Training Observations: 1211\n",
      "X Testing Observations: 519\n",
      "y Training Observations: 1211\n",
      "y Testing Observations: 519\n"
     ]
    }
   ],
   "source": [
    "# Set the validation size, i.e the test set to 20%\n",
    "validation_size = 0.20\n",
    "# Split the dataset to test and train sets\n",
    "# Split the initial 70% of the data as training set and the remaining 30% data as the testing set\n",
    "train_size = int(len(X.index) * 0.7)\n",
    "print(len(y))\n",
    "print(train_size)\n",
    "X_train, X_test = X.loc[0:train_size, :], X.loc[train_size: len(X.index), :]\n",
    "y_train, y_test = y[0:train_size+1], y.loc[train_size: len(X.index)]\n",
    "print('Observations: %d' % (len(X.index)))\n",
    "print('X Training Observations: %d' % (len(X_train.index)))\n",
    "print('X Testing Observations: %d' % (len(X_test.index)))\n",
    "print('y Training Observations: %d' % (len(y_train)))\n",
    "print('y Testing Observations: %d' % (len(y_test)))"
   ]
  },
  {
   "cell_type": "code",
   "execution_count": 39,
   "metadata": {},
   "outputs": [
    {
     "data": {
      "image/png": "[encoded data removed]",
      "text/plain": [
       "<Figure size 432x288 with 1 Axes>"
      ]
     },
     "metadata": {
      "needs_background": "light"
     },
     "output_type": "display_data"
    }
   ],
   "source": [
    "pyplot.plot(X_train['Objectivity'])\n",
    "pyplot.plot([None for i in X_train['Objectivity']] + [x for x in X_test['Objectivity']])\n",
    "pyplot.show()"
   ]
  },
  {
   "cell_type": "code",
   "execution_count": 23,
   "metadata": {},
   "outputs": [
    {
     "name": "stdout",
     "output_type": "stream",
     "text": [
      "Requirement already up-to-date: xgboost in c:\\users\\henon\\.venvs\\lewagon\\lib\\site-packages (1.1.1)\n",
      "Requirement already satisfied, skipping upgrade: scipy in c:\\users\\henon\\.venvs\\lewagon\\lib\\site-packages (from xgboost) (1.4.1)\n",
      "Requirement already satisfied, skipping upgrade: numpy in c:\\users\\henon\\.venvs\\lewagon\\lib\\site-packages (from xgboost) (1.18.4)\n"
     ]
    }
   ],
   "source": [
    "!pip install --upgrade xgboost"
   ]
  },
  {
   "cell_type": "code",
   "execution_count": 40,
   "metadata": {},
   "outputs": [],
   "source": [
    "from xgboost import XGBClassifier\n",
    "num_folds = 10\n",
    "scoring = 'accuracy'\n",
    "# Append the models to the models list\n",
    "models = []\n",
    "models.append(('LR' , LogisticRegression()))\n",
    "models.append(('LDA' , LinearDiscriminantAnalysis()))\n",
    "models.append(('KNN' , KNeighborsClassifier()))\n",
    "models.append(('CART' , DecisionTreeClassifier()))\n",
    "models.append(('NB' , GaussianNB()))\n",
    "models.append(('SVM' , SVC()))\n",
    "models.append(('RF' , RandomForestClassifier(n_estimators=50)))\n",
    "models.append(('XGBoost', XGBClassifier()))"
   ]
  },
  {
   "cell_type": "code",
   "execution_count": 41,
   "metadata": {},
   "outputs": [
    {
     "name": "stdout",
     "output_type": "stream",
     "text": [
      "LR: 0.5472061657032755\n",
      "LDA: 0.7996146435452793\n",
      "KNN: 0.4836223506743738\n",
      "CART: 0.5144508670520231\n",
      "NB: 0.5452793834296724\n",
      "SVM: 0.5472061657032755\n",
      "RF: 0.5240847784200385\n",
      "XGBoost: 0.5144508670520231\n"
     ]
    }
   ],
   "source": [
    "# Evaluate each algorithm for accuracy\n",
    "results = []\n",
    "names = []\n",
    "'''\n",
    "for name, model in models:\n",
    "    kfold = KFold(n_splits=num_folds, random_state=42)\n",
    "    cv_results = cross_val_score(model, X_train, y_train, cv=kfold, scoring=scoring)\n",
    "    results.append(cv_results)\n",
    "    names.append(name)\n",
    "    msg = \"%s: %f (%f)\" % (name, cv_results.mean(), cv_results.std())\n",
    "    print(msg) '''\n",
    "\n",
    "for name, model in models:\n",
    "    clf = model\n",
    "    clf.fit(X_train, y_train)\n",
    "    y_pred = clf.predict(X_test)\n",
    "    accu_score = accuracy_score(y_test, y_pred)\n",
    "    print(name + \": \" + str(accu_score))"
   ]
  },
  {
   "cell_type": "code",
   "execution_count": 42,
   "metadata": {},
   "outputs": [
    {
     "name": "stdout",
     "output_type": "stream",
     "text": [
      "accuracy score:\n",
      "0.7996146435452793\n",
      "confusion matrix: \n",
      "[[174  61]\n",
      " [ 43 241]]\n",
      "classification report: \n",
      "              precision    recall  f1-score   support\n",
      "\n",
      "           0       0.80      0.74      0.77       235\n",
      "           1       0.80      0.85      0.82       284\n",
      "\n",
      "    accuracy                           0.80       519\n",
      "   macro avg       0.80      0.79      0.80       519\n",
      "weighted avg       0.80      0.80      0.80       519\n",
      "\n",
      "accuracy score:\n",
      "0.5144508670520231\n",
      "confusion matrix: \n",
      "[[162  73]\n",
      " [179 105]]\n",
      "classification report: \n",
      "              precision    recall  f1-score   support\n",
      "\n",
      "           0       0.48      0.69      0.56       235\n",
      "           1       0.59      0.37      0.45       284\n",
      "\n",
      "    accuracy                           0.51       519\n",
      "   macro avg       0.53      0.53      0.51       519\n",
      "weighted avg       0.54      0.51      0.50       519\n",
      "\n"
     ]
    }
   ],
   "source": [
    "# prepare the model LDA\n",
    "scaler = StandardScaler().fit(X_train)\n",
    "rescaledX = scaler.transform(X_train)\n",
    "model_lda = LinearDiscriminantAnalysis()\n",
    "model_lda.fit(rescaledX, y_train)\n",
    "# estimate accuracy on validation dataset\n",
    "rescaledValidationX = scaler.transform(X_test)\n",
    "predictions = model_lda.predict(rescaledValidationX)\n",
    "print(\"accuracy score:\")\n",
    "print(accuracy_score(y_test, predictions))\n",
    "print(\"confusion matrix: \")\n",
    "print(confusion_matrix(y_test, predictions))\n",
    "print(\"classification report: \")\n",
    "print(classification_report(y_test, predictions))\n",
    "\n",
    "model_xgb = XGBClassifier()\n",
    "model_xgb.fit(rescaledX, y_train)\n",
    "# estimate accuracy on validation dataset\n",
    "rescaledValidationX = scaler.transform(X_test)\n",
    "predictions = model_xgb.predict(rescaledValidationX)\n",
    "print(\"accuracy score:\")\n",
    "print(accuracy_score(y_test, predictions))\n",
    "print(\"confusion matrix: \")\n",
    "print(confusion_matrix(y_test, predictions))\n",
    "print(\"classification report: \")\n",
    "print(classification_report(y_test, predictions))"
   ]
  },
  {
   "cell_type": "code",
   "execution_count": 43,
   "metadata": {},
   "outputs": [
    {
     "name": "stdout",
     "output_type": "stream",
     "text": [
      "roc auc is :0.5\n"
     ]
    },
    {
     "data": {
      "image/png": "[encoded data removed]",
      "text/plain": [
       "<Figure size 432x288 with 1 Axes>"
      ]
     },
     "metadata": {
      "needs_background": "light"
     },
     "output_type": "display_data"
    },
    {
     "name": "stdout",
     "output_type": "stream",
     "text": [
      "AUC using cross val: [0.8035982  0.78921569 0.91851852 0.76344086 0.86607143 0.9047619\n",
      " 0.83703704 0.78648233 0.91993464 0.82580645]\n",
      "Mean AUC score is: 0.8414867063283215\n"
     ]
    },
    {
     "name": "stderr",
     "output_type": "stream",
     "text": [
      "c:\\users\\henon\\.venvs\\lewagon\\lib\\site-packages\\sklearn\\model_selection\\_split.py:297: FutureWarning: Setting a random_state has no effect since shuffle is False. This will raise an error in 0.24. You should leave random_state to its default (None), or set shuffle=True.\n",
      "  FutureWarning\n"
     ]
    }
   ],
   "source": [
    "# Generating the ROC curve\n",
    "y_pred_proba = model_lda.predict_proba(X_test)[:,1]\n",
    "fpr, tpr, thresholds = roc_curve(y_test, y_pred_proba)\n",
    "roc_auc = auc(fpr, tpr)\n",
    "\n",
    "# Plot ROC curve\n",
    "print(\"roc auc is :\" + str(roc_auc))\n",
    "pyplot.plot([0, 1], [0, 1], 'k--')\n",
    "pyplot.plot(fpr, tpr)\n",
    "pyplot.xlabel('False Positive Rate')\n",
    "pyplot.ylabel('True Positive Rate')\n",
    "pyplot.title('ROC Curve')\n",
    "pyplot.show()\n",
    "\n",
    "# AUC score using cross validation\n",
    "kfold_val = KFold(n_splits=num_folds, random_state=42)\n",
    "auc_score = cross_val_score(model_lda, X_test, y_test, cv=kfold_val, scoring='roc_auc')\n",
    "print(\"AUC using cross val: \" + str(auc_score))\n",
    "mean_auc = np.mean(auc_score)\n",
    "print(\"Mean AUC score is: \" + str(mean_auc))"
   ]
  },
  {
   "cell_type": "code",
   "execution_count": 44,
   "metadata": {},
   "outputs": [
    {
     "name": "stdout",
     "output_type": "stream",
     "text": [
      "accuracy score:\n",
      "0.51252408477842\n",
      "confusion matrix: \n",
      "[[158  77]\n",
      " [176 108]]\n",
      "classification report: \n",
      "              precision    recall  f1-score   support\n",
      "\n",
      "           0       0.47      0.67      0.56       235\n",
      "           1       0.58      0.38      0.46       284\n",
      "\n",
      "    accuracy                           0.51       519\n",
      "   macro avg       0.53      0.53      0.51       519\n",
      "weighted avg       0.53      0.51      0.50       519\n",
      "\n"
     ]
    }
   ],
   "source": [
    "# Scaling Random Forests\n",
    "\n",
    "model_rf = RandomForestClassifier(n_estimators=1000)\n",
    "model_rf.fit(rescaledX, y_train)\n",
    "# estimate accuracy on validation dataset\n",
    "rescaledValidationX = scaler.transform(X_test)\n",
    "predictions = model_rf.predict(rescaledValidationX)\n",
    "print(\"accuracy score:\")\n",
    "print(accuracy_score(y_test, predictions))\n",
    "print(\"confusion matrix: \")\n",
    "print(confusion_matrix(y_test, predictions))\n",
    "print(\"classification report: \")\n",
    "print(classification_report(y_test, predictions))"
   ]
  },
  {
   "cell_type": "code",
   "execution_count": 55,
   "metadata": {},
   "outputs": [
    {
     "data": {
      "image/png": "[encoded data removed]",
      "text/plain": [
       "<Figure size 432x288 with 1 Axes>"
      ]
     },
     "metadata": {
      "needs_background": "light"
     },
     "output_type": "display_data"
    }
   ],
   "source": [
    "features = df.drop(['Label'],axis=1).columns.values\n",
    "\n",
    "x, y = (list(x) for x in zip(*sorted(zip(model_xgb.feature_importances_, features), \n",
    "                                                            reverse = False)))\n",
    "graph = sns.barplot(x,y)"
   ]
  },
  {
   "cell_type": "code",
   "execution_count": 56,
   "metadata": {},
   "outputs": [
    {
     "name": "stdout",
     "output_type": "stream",
     "text": [
      "[1, 2, 3, 4, 5, 6, 7, 8, 9, 10, 11, 12]\n",
      "Score is 0.49710982658959535 at depth of 1 and estimator 150\n",
      "Score is 0.5337186897880539 at depth of 2 and estimator 150\n",
      "Score is 0.5337186897880539 at depth of 3 and estimator 150\n",
      "Score is 0.5144508670520231 at depth of 4 and estimator 150\n",
      "Score is 0.5279383429672447 at depth of 5 and estimator 150\n",
      "Score is 0.51252408477842 at depth of 6 and estimator 150\n",
      "Score is 0.535645472061657 at depth of 7 and estimator 150\n",
      "Score is 0.5260115606936416 at depth of 8 and estimator 150\n",
      "Score is 0.5240847784200385 at depth of 9 and estimator 150\n",
      "Score is 0.535645472061657 at depth of 10 and estimator 150\n",
      "Score is 0.5298651252408478 at depth of 11 and estimator 150\n",
      "Score is 0.5221579961464354 at depth of 12 and estimator 150\n",
      "Score is 0.5067437379576107 at depth of 1 and estimator 200\n",
      "Score is 0.5394990366088632 at depth of 2 and estimator 200\n",
      "Score is 0.5337186897880539 at depth of 3 and estimator 200\n",
      "Score is 0.5337186897880539 at depth of 4 and estimator 200\n",
      "Score is 0.535645472061657 at depth of 5 and estimator 200\n",
      "Score is 0.5183044315992292 at depth of 6 and estimator 200\n",
      "Score is 0.5394990366088632 at depth of 7 and estimator 200\n",
      "Score is 0.5240847784200385 at depth of 8 and estimator 200\n",
      "Score is 0.5298651252408478 at depth of 9 and estimator 200\n",
      "Score is 0.5472061657032755 at depth of 10 and estimator 200\n",
      "Score is 0.5337186897880539 at depth of 11 and estimator 200\n",
      "Score is 0.5279383429672447 at depth of 12 and estimator 200\n",
      "Score is 0.4951830443159923 at depth of 1 and estimator 250\n",
      "Score is 0.5394990366088632 at depth of 2 and estimator 250\n",
      "Score is 0.5298651252408478 at depth of 3 and estimator 250\n",
      "Score is 0.5337186897880539 at depth of 4 and estimator 250\n",
      "Score is 0.5375722543352601 at depth of 5 and estimator 250\n",
      "Score is 0.5183044315992292 at depth of 6 and estimator 250\n",
      "Score is 0.5337186897880539 at depth of 7 and estimator 250\n",
      "Score is 0.535645472061657 at depth of 8 and estimator 250\n",
      "Score is 0.5375722543352601 at depth of 9 and estimator 250\n",
      "Score is 0.5394990366088632 at depth of 10 and estimator 250\n",
      "Score is 0.5317919075144508 at depth of 11 and estimator 250\n",
      "Score is 0.5279383429672447 at depth of 12 and estimator 250\n",
      "Score is 0.5028901734104047 at depth of 1 and estimator 450\n",
      "Score is 0.5375722543352601 at depth of 2 and estimator 450\n",
      "Score is 0.5433526011560693 at depth of 3 and estimator 450\n",
      "Score is 0.5375722543352601 at depth of 4 and estimator 450\n",
      "Score is 0.5394990366088632 at depth of 5 and estimator 450\n",
      "Score is 0.5260115606936416 at depth of 6 and estimator 450\n",
      "Score is 0.535645472061657 at depth of 7 and estimator 450\n",
      "Score is 0.5221579961464354 at depth of 8 and estimator 450\n",
      "Score is 0.5433526011560693 at depth of 9 and estimator 450\n",
      "Score is 0.5529865125240848 at depth of 10 and estimator 450\n",
      "Score is 0.5375722543352601 at depth of 11 and estimator 450\n",
      "Score is 0.5298651252408478 at depth of 12 and estimator 450\n",
      "Score is 0.5221579961464354 at depth of 1 and estimator 500\n",
      "Score is 0.5433526011560693 at depth of 2 and estimator 500\n",
      "Score is 0.5375722543352601 at depth of 3 and estimator 500\n",
      "Score is 0.5375722543352601 at depth of 4 and estimator 500\n",
      "Score is 0.5414258188824663 at depth of 5 and estimator 500\n",
      "Score is 0.5279383429672447 at depth of 6 and estimator 500\n",
      "Score is 0.535645472061657 at depth of 7 and estimator 500\n",
      "Score is 0.5202312138728323 at depth of 8 and estimator 500\n",
      "Score is 0.5491329479768786 at depth of 9 and estimator 500\n",
      "Score is 0.5510597302504817 at depth of 10 and estimator 500\n",
      "Score is 0.535645472061657 at depth of 11 and estimator 500\n",
      "Score is 0.5298651252408478 at depth of 12 and estimator 500\n",
      "Score is 0.5240847784200385 at depth of 1 and estimator 550\n",
      "Score is 0.5529865125240848 at depth of 2 and estimator 550\n",
      "Score is 0.5414258188824663 at depth of 3 and estimator 550\n",
      "Score is 0.5317919075144508 at depth of 4 and estimator 550\n",
      "Score is 0.5433526011560693 at depth of 5 and estimator 550\n",
      "Score is 0.5298651252408478 at depth of 6 and estimator 550\n",
      "Score is 0.5394990366088632 at depth of 7 and estimator 550\n",
      "Score is 0.5221579961464354 at depth of 8 and estimator 550\n",
      "Score is 0.5491329479768786 at depth of 9 and estimator 550\n",
      "Score is 0.5452793834296724 at depth of 10 and estimator 550\n",
      "Score is 0.5337186897880539 at depth of 11 and estimator 550\n",
      "Score is 0.5298651252408478 at depth of 12 and estimator 550\n",
      "Score is 0.5394990366088632 at depth of 1 and estimator 1000\n",
      "Score is 0.5394990366088632 at depth of 2 and estimator 1000\n",
      "Score is 0.5452793834296724 at depth of 3 and estimator 1000\n",
      "Score is 0.5279383429672447 at depth of 4 and estimator 1000\n",
      "Score is 0.5452793834296724 at depth of 5 and estimator 1000\n",
      "Score is 0.5317919075144508 at depth of 6 and estimator 1000\n",
      "Score is 0.5337186897880539 at depth of 7 and estimator 1000\n",
      "Score is 0.5317919075144508 at depth of 8 and estimator 1000\n",
      "Score is 0.5375722543352601 at depth of 9 and estimator 1000\n",
      "Score is 0.5472061657032755 at depth of 10 and estimator 1000\n",
      "Score is 0.5452793834296724 at depth of 11 and estimator 1000\n",
      "Score is 0.535645472061657 at depth of 12 and estimator 1000\n",
      "Best score is 0.5529865125240848 at depth of 10 and estimator of 450\n"
     ]
    }
   ],
   "source": [
    "# XGBoost on Stock Price dataset, Tune n_estimators and max_depth\n",
    "from sklearn.model_selection import GridSearchCV\n",
    "from sklearn.model_selection import StratifiedKFold\n",
    "from sklearn.preprocessing import LabelEncoder\n",
    "import matplotlib\n",
    "\n",
    "matplotlib.use('Agg')\n",
    "model = XGBClassifier()\n",
    "n_estimators = [150, 200, 250, 450, 500, 550, 1000]\n",
    "max_depth = [1, 2, 3, 4, 5, 6, 7, 8, 9, 10, 11, 12]\n",
    "print(max_depth)\n",
    "best_depth = 0\n",
    "best_estimator = 0\n",
    "max_score = 0\n",
    "for n in n_estimators:\n",
    "    for md in max_depth:\n",
    "        model = XGBClassifier(n_estimators=n, max_depth=md)\n",
    "        model.fit(X_train, y_train)\n",
    "        y_pred = model.predict(X_test)\n",
    "        score = accuracy_score(y_test, y_pred)\n",
    "        if score > max_score:\n",
    "            max_score = score\n",
    "            best_depth = md\n",
    "            best_estimator = n\n",
    "        print(\"Score is \" + str(score) + \" at depth of \" + str(md) + \" and estimator \" + str(n))\n",
    "print(\"Best score is \" + str(max_score) + \" at depth of \" + str(best_depth) + \" and estimator of \" + str(best_estimator))"
   ]
  },
  {
   "cell_type": "code",
   "execution_count": 58,
   "metadata": {},
   "outputs": [
    {
     "name": "stdout",
     "output_type": "stream",
     "text": [
      "Score is 0.5529865125240848\n"
     ]
    }
   ],
   "source": [
    "imp_features_df = df[['Low', \"Neutral\", 'Close', 'Objectivity', 'Date']]\n",
    "Xi_train, Xi_test = X.loc[0:train_size, :], X.loc[train_size: len(X.index), :]\n",
    "clf = XGBClassifier(n_estimators=450, max_depth=10)\n",
    "clf.fit(Xi_train, y_train)\n",
    "yi_pred = clf.predict(Xi_test)\n",
    "score = accuracy_score(y_test, yi_pred)\n",
    "print(\"Score is \"+ str(score))"
   ]
  },
  {
   "cell_type": "code",
   "execution_count": 59,
   "metadata": {},
   "outputs": [
    {
     "name": "stdout",
     "output_type": "stream",
     "text": [
      "<class 'numpy.ndarray'>\n"
     ]
    }
   ],
   "source": [
    "from sklearn.decomposition import PCA\n",
    "\n",
    "pca = PCA(n_components=3)\n",
    "pca.fit(X)\n",
    "transformed = pca.transform(X)\n",
    "\n",
    "transformed.shape\n",
    "print(type(transformed))"
   ]
  },
  {
   "cell_type": "code",
   "execution_count": 60,
   "metadata": {},
   "outputs": [
    {
     "name": "stdout",
     "output_type": "stream",
     "text": [
      "Score is 0.7649325626204239\n"
     ]
    }
   ],
   "source": [
    "pca_df = pd.DataFrame(transformed)\n",
    "\n",
    "X_train_pca, X_test_pca = pca_df.loc[0:train_size, :], pca_df.loc[train_size: len(X.index), :]\n",
    "\n",
    "clf = XGBClassifier(n_estimators=500, max_depth=3)\n",
    "clf.fit(X_train_pca, y_train)\n",
    "y_pred_pca = clf.predict(X_test_pca)\n",
    "score = accuracy_score(y_test, y_pred_pca)\n",
    "print(\"Score is \"+ str(score))"
   ]
  },
  {
   "cell_type": "code",
   "execution_count": 61,
   "metadata": {},
   "outputs": [
    {
     "name": "stdout",
     "output_type": "stream",
     "text": [
      "Confusion Matrix: \n",
      "[[170  65]\n",
      " [ 57 227]]\n",
      "Classification report: \n",
      "              precision    recall  f1-score   support\n",
      "\n",
      "           0       0.75      0.72      0.74       235\n",
      "           1       0.78      0.80      0.79       284\n",
      "\n",
      "    accuracy                           0.76       519\n",
      "   macro avg       0.76      0.76      0.76       519\n",
      "weighted avg       0.76      0.76      0.76       519\n",
      "\n"
     ]
    }
   ],
   "source": [
    "pca_matrix = confusion_matrix(y_test, y_pred_pca)\n",
    "pca_report = classification_report(y_test, y_pred_pca)\n",
    "print(\"Confusion Matrix: \\n\" + str(pca_matrix))\n",
    "print(\"Classification report: \\n\" + str(pca_report))"
   ]
  },
  {
   "cell_type": "code",
   "execution_count": 62,
   "metadata": {},
   "outputs": [
    {
     "name": "stdout",
     "output_type": "stream",
     "text": [
      "AUC score is 0.7894216362001798\n",
      "roc auc is :0.7894216362001798\n"
     ]
    },
    {
     "name": "stderr",
     "output_type": "stream",
     "text": [
      "c:\\users\\henon\\.venvs\\lewagon\\lib\\site-packages\\ipykernel_launcher.py:14: UserWarning: Matplotlib is currently using agg, which is a non-GUI backend, so cannot show the figure.\n",
      "  \n"
     ]
    },
    {
     "data": {
      "image/png": "[encoded data removed]",
      "text/plain": [
       "<Figure size 432x288 with 1 Axes>"
      ]
     },
     "metadata": {
      "needs_background": "light"
     },
     "output_type": "display_data"
    }
   ],
   "source": [
    "# Generating the ROC curve\n",
    "y_pred_proba_pca = clf.predict_proba(X_test_pca)[:,1]\n",
    "fpr, tpr, thresholds = roc_curve(y_test, y_pred_proba_pca)\n",
    "roc_auc = auc(fpr, tpr)\n",
    "print(\"AUC score is \" + str(roc_auc))\n",
    "\n",
    "# Plot ROC curve\n",
    "print(\"roc auc is :\" + str(roc_auc))\n",
    "pyplot.plot([0, 1], [0, 1], 'k--')\n",
    "pyplot.plot(fpr, tpr)\n",
    "pyplot.xlabel('False Positive Rate')\n",
    "pyplot.ylabel('True Positive Rate')\n",
    "pyplot.title('ROC Curve')\n",
    "pyplot.show()"
   ]
  },
  {
   "cell_type": "code",
   "execution_count": 63,
   "metadata": {},
   "outputs": [
    {
     "name": "stdout",
     "output_type": "stream",
     "text": [
      "<generator object TimeSeriesSplit.split at 0x000001D2EC5CCA48>\n",
      "Observations: 865\n",
      "Training Observations: 433\n",
      "Testing Observations: 432\n",
      "Observations: 1297\n",
      "Training Observations: 865\n",
      "Testing Observations: 432\n",
      "Observations: 1729\n",
      "Training Observations: 1297\n",
      "Testing Observations: 432\n",
      "(array([0, 1, 2, 3, 4]), array([5, 6]))\n"
     ]
    },
    {
     "name": "stderr",
     "output_type": "stream",
     "text": [
      "c:\\users\\henon\\.venvs\\lewagon\\lib\\site-packages\\ipykernel_launcher.py:15: UserWarning: Matplotlib is currently using agg, which is a non-GUI backend, so cannot show the figure.\n",
      "  from ipykernel import kernelapp as app\n"
     ]
    },
    {
     "ename": "TypeError",
     "evalue": "only integer scalar arrays can be converted to a scalar index",
     "output_type": "error",
     "traceback": [
      "\u001b[1;31m---------------------------------------------------------------------------\u001b[0m",
      "\u001b[1;31mTypeError\u001b[0m                                 Traceback (most recent call last)",
      "\u001b[1;32m<ipython-input-63-27053035a680>\u001b[0m in \u001b[0;36m<module>\u001b[1;34m\u001b[0m\n\u001b[0;32m     20\u001b[0m \u001b[0mprint\u001b[0m\u001b[1;33m(\u001b[0m\u001b[0my_ser\u001b[0m\u001b[1;33m[\u001b[0m\u001b[1;36m0\u001b[0m\u001b[1;33m]\u001b[0m\u001b[1;33m)\u001b[0m\u001b[1;33m\u001b[0m\u001b[1;33m\u001b[0m\u001b[0m\n\u001b[0;32m     21\u001b[0m \u001b[1;32mfor\u001b[0m \u001b[0my_train_index\u001b[0m\u001b[1;33m,\u001b[0m \u001b[0my_test_index\u001b[0m \u001b[1;32min\u001b[0m \u001b[0my_ser\u001b[0m\u001b[1;33m:\u001b[0m\u001b[1;33m\u001b[0m\u001b[1;33m\u001b[0m\u001b[0m\n\u001b[1;32m---> 22\u001b[1;33m     \u001b[0my1_train\u001b[0m \u001b[1;33m=\u001b[0m \u001b[0my\u001b[0m\u001b[1;33m[\u001b[0m\u001b[0my_train_index\u001b[0m\u001b[1;33m]\u001b[0m\u001b[1;33m\u001b[0m\u001b[1;33m\u001b[0m\u001b[0m\n\u001b[0m\u001b[0;32m     23\u001b[0m     \u001b[0my1_test\u001b[0m \u001b[1;33m=\u001b[0m \u001b[0my\u001b[0m\u001b[1;33m[\u001b[0m\u001b[0my_test_index\u001b[0m\u001b[1;33m]\u001b[0m\u001b[1;33m\u001b[0m\u001b[1;33m\u001b[0m\u001b[0m\n\u001b[0;32m     24\u001b[0m     \u001b[0mprint\u001b[0m\u001b[1;33m(\u001b[0m\u001b[1;34m'Observations: %d'\u001b[0m \u001b[1;33m%\u001b[0m \u001b[1;33m(\u001b[0m\u001b[0mlen\u001b[0m\u001b[1;33m(\u001b[0m\u001b[0my1_train\u001b[0m\u001b[1;33m)\u001b[0m \u001b[1;33m+\u001b[0m \u001b[0mlen\u001b[0m\u001b[1;33m(\u001b[0m\u001b[0my1_test\u001b[0m\u001b[1;33m)\u001b[0m\u001b[1;33m)\u001b[0m\u001b[1;33m)\u001b[0m\u001b[1;33m\u001b[0m\u001b[1;33m\u001b[0m\u001b[0m\n",
      "\u001b[1;31mTypeError\u001b[0m: only integer scalar arrays can be converted to a scalar index"
     ]
    },
    {
     "data": {
      "image/png": "[encoded data removed]",
      "text/plain": [
       "<Figure size 432x288 with 3 Axes>"
      ]
     },
     "metadata": {
      "needs_background": "light"
     },
     "output_type": "display_data"
    }
   ],
   "source": [
    "splits = TimeSeriesSplit(n_splits=3)\n",
    "pyplot.figure(1)\n",
    "index = 1\n",
    "print(splits.split(X))\n",
    "for X_train_index, X_test_index in splits.split(X):\n",
    "    X1_train = X.loc[X_train_index, :]\n",
    "    X1_test = X.loc[X_test_index, :]\n",
    "    print('Observations: %d' % (len(X1_train) + len(X1_test)))\n",
    "    print('Training Observations: %d' % (len(X1_train)))\n",
    "    print('Testing Observations: %d' % (len(X1_test)))\n",
    "    pyplot.subplot(310 + index)\n",
    "    pyplot.plot(X1_train['Objectivity'])\n",
    "    pyplot.plot([None for i in X1_train['Objectivity']] + [x for x in X1_test['Objectivity']])\n",
    "    index += 1\n",
    "pyplot.show()\n",
    "\n",
    "index = 1\n",
    "#y = np.array(y)\n",
    "y_ser = list(splits.split(y))\n",
    "print(y_ser[0])\n",
    "for y_train_index, y_test_index in y_ser:\n",
    "    y1_train = y[y_train_index]\n",
    "    y1_test = y[y_test_index]\n",
    "    print('Observations: %d' % (len(y1_train) + len(y1_test)))\n",
    "    print('Training Observations: %d' % (len(y1_train)))\n",
    "    print('Testing Observations: %d' % (len(y1_test)))\n",
    "    pyplot.subplot(310 + index)\n",
    "    pyplot.plot(y1_train)\n",
    "    pyplot.plot([None for i in y1_train] + [x for x in y1_test])\n",
    "    index += 1\n",
    "pyplot.show()"
   ]
  },
  {
   "cell_type": "code",
   "execution_count": 64,
   "metadata": {},
   "outputs": [
    {
     "ename": "NameError",
     "evalue": "name 'y1_train' is not defined",
     "output_type": "error",
     "traceback": [
      "\u001b[1;31m---------------------------------------------------------------------------\u001b[0m",
      "\u001b[1;31mNameError\u001b[0m                                 Traceback (most recent call last)",
      "\u001b[1;32m<ipython-input-64-c7bdb3b8654c>\u001b[0m in \u001b[0;36m<module>\u001b[1;34m\u001b[0m\n\u001b[0;32m      5\u001b[0m \u001b[1;32mfor\u001b[0m \u001b[0mname\u001b[0m\u001b[1;33m,\u001b[0m \u001b[0mmodel\u001b[0m \u001b[1;32min\u001b[0m \u001b[0mmodels\u001b[0m\u001b[1;33m:\u001b[0m\u001b[1;33m\u001b[0m\u001b[1;33m\u001b[0m\u001b[0m\n\u001b[0;32m      6\u001b[0m     \u001b[0mclf1\u001b[0m \u001b[1;33m=\u001b[0m \u001b[0mmodel\u001b[0m\u001b[1;33m\u001b[0m\u001b[1;33m\u001b[0m\u001b[0m\n\u001b[1;32m----> 7\u001b[1;33m     \u001b[0mclf1\u001b[0m\u001b[1;33m.\u001b[0m\u001b[0mfit\u001b[0m\u001b[1;33m(\u001b[0m\u001b[0mX1_train\u001b[0m\u001b[1;33m,\u001b[0m \u001b[0my1_train\u001b[0m\u001b[1;33m)\u001b[0m\u001b[1;33m\u001b[0m\u001b[1;33m\u001b[0m\u001b[0m\n\u001b[0m\u001b[0;32m      8\u001b[0m     \u001b[0my1_pred\u001b[0m \u001b[1;33m=\u001b[0m \u001b[0mclf\u001b[0m\u001b[1;33m.\u001b[0m\u001b[0mpredict\u001b[0m\u001b[1;33m(\u001b[0m\u001b[0mX1_test\u001b[0m\u001b[1;33m)\u001b[0m\u001b[1;33m\u001b[0m\u001b[1;33m\u001b[0m\u001b[0m\n\u001b[0;32m      9\u001b[0m     \u001b[0maccu_score1\u001b[0m \u001b[1;33m=\u001b[0m \u001b[0maccuracy_score\u001b[0m\u001b[1;33m(\u001b[0m\u001b[0my1_test\u001b[0m\u001b[1;33m,\u001b[0m \u001b[0my1_pred\u001b[0m\u001b[1;33m)\u001b[0m\u001b[1;33m\u001b[0m\u001b[1;33m\u001b[0m\u001b[0m\n",
      "\u001b[1;31mNameError\u001b[0m: name 'y1_train' is not defined"
     ]
    }
   ],
   "source": [
    "# Evaluate each algorithm for accuracy\n",
    "results = []\n",
    "names = []\n",
    "\n",
    "for name, model in models:\n",
    "    clf1 = model\n",
    "    clf1.fit(X1_train, y1_train)\n",
    "    y1_pred = clf.predict(X1_test)\n",
    "    accu_score1 = accuracy_score(y1_test, y1_pred)\n",
    "    print(name + \": \" + str(accu_score))"
   ]
  },
  {
   "cell_type": "code",
   "execution_count": null,
   "metadata": {},
   "outputs": [],
   "source": []
  },
  {
   "cell_type": "code",
   "execution_count": 65,
   "metadata": {},
   "outputs": [
    {
     "name": "stderr",
     "output_type": "stream",
     "text": [
      "c:\\users\\henon\\.venvs\\lewagon\\lib\\site-packages\\ipykernel_launcher.py:4: UserWarning: Matplotlib is currently using agg, which is a non-GUI backend, so cannot show the figure.\n",
      "  after removing the cwd from sys.path.\n"
     ]
    },
    {
     "data": {
      "image/png": "[encoded data removed]",
      "text/plain": [
       "<Figure size 432x288 with 1 Axes>"
      ]
     },
     "metadata": {
      "needs_background": "light"
     },
     "output_type": "display_data"
    }
   ],
   "source": [
    "pyplot.plot(df['Date'], df['Close'])\n",
    "pyplot.xlabel('Years')\n",
    "pyplot.ylabel('Stock Closing Prices')\n",
    "pyplot.show()"
   ]
  },
  {
   "cell_type": "code",
   "execution_count": 66,
   "metadata": {},
   "outputs": [
    {
     "name": "stdout",
     "output_type": "stream",
     "text": [
      "<class 'pandas.core.frame.DataFrame'>\n",
      "Int64Index: 1729 entries, 0 to 1728\n",
      "Data columns (total 16 columns):\n",
      " #   Column        Non-Null Count  Dtype         \n",
      "---  ------        --------------  -----         \n",
      " 0   Date          1729 non-null   datetime64[ns]\n",
      " 1   Label         1729 non-null   int64         \n",
      " 2   Subjectivity  1729 non-null   float64       \n",
      " 3   Objectivity   1729 non-null   float64       \n",
      " 4   Positive      1729 non-null   float64       \n",
      " 5   Negative      1729 non-null   float64       \n",
      " 6   Neutral       1729 non-null   float64       \n",
      " 7   cleaned       1729 non-null   object        \n",
      " 8   Open          1729 non-null   float64       \n",
      " 9   High          1729 non-null   float64       \n",
      " 10  Low           1729 non-null   float64       \n",
      " 11  Close         1729 non-null   float64       \n",
      " 12  Volume        1729 non-null   int64         \n",
      " 13  Adj Close     1729 non-null   float64       \n",
      " 14  change        1729 non-null   float64       \n",
      " 15  target        1729 non-null   int64         \n",
      "dtypes: datetime64[ns](1), float64(11), int64(3), object(1)\n",
      "memory usage: 309.6+ KB\n"
     ]
    }
   ],
   "source": [
    "df.info()"
   ]
  },
  {
   "cell_type": "markdown",
   "metadata": {},
   "source": [
    "# TPOT"
   ]
  },
  {
   "cell_type": "code",
   "execution_count": 67,
   "metadata": {},
   "outputs": [
    {
     "name": "stderr",
     "output_type": "stream",
     "text": [
      "c:\\users\\henon\\.venvs\\lewagon\\lib\\site-packages\\tpot\\builtins\\__init__.py:36: UserWarning: Warning: optional dependency `torch` is not available. - skipping import of NN models.\n",
      "  warnings.warn(\"Warning: optional dependency `torch` is not available. - skipping import of NN models.\")\n"
     ]
    },
    {
     "data": {
      "application/vnd.jupyter.widget-view+json": {
       "model_id": "",
       "version_major": 2,
       "version_minor": 0
      },
      "text/plain": [
       "HBox(children=(FloatProgress(value=0.0, description='Optimization Progress', max=300.0, style=ProgressStyle(de…"
      ]
     },
     "metadata": {},
     "output_type": "display_data"
    },
    {
     "name": "stdout",
     "output_type": "stream",
     "text": [
      "\n",
      "Generation 1 - Current best internal CV score: 0.6028058361391695\n",
      "Generation 2 - Current best internal CV score: 0.6028058361391695\n",
      "Generation 3 - Current best internal CV score: 0.6028058361391695\n",
      "Generation 4 - Current best internal CV score: 0.7910485324626738\n",
      "Generation 5 - Current best internal CV score: 0.7910485324626738\n",
      "Best pipeline: LogisticRegression(StandardScaler(input_matrix), C=20.0, dual=False, penalty=l2)\n",
      "0.5472061657032755\n"
     ]
    }
   ],
   "source": [
    "from sklearn.model_selection import train_test_split\n",
    "import os\n",
    "from tpot import TPOTClassifier\n",
    "\n",
    "rescaledValidationX = scaler.transform(X_test)\n",
    "\n",
    "# instanciate TPOTClassifier\n",
    "tpot = TPOTClassifier(generations=5, population_size=50, verbosity=2, n_jobs=-1)\n",
    "# process autoML with TPOT\n",
    "tpot.fit(X_train, y_train)\n",
    "# print score\n",
    "print(tpot.score(rescaledValidationX, y_test))\n",
    "tpot.export('tpot_stock_pipeline.py')"
   ]
  },
  {
   "cell_type": "code",
   "execution_count": 68,
   "metadata": {},
   "outputs": [
    {
     "name": "stdout",
     "output_type": "stream",
     "text": [
      "32 operators have been imported by TPOT.\n"
     ]
    },
    {
     "data": {
      "application/vnd.jupyter.widget-view+json": {
       "model_id": "",
       "version_major": 2,
       "version_minor": 0
      },
      "text/plain": [
       "HBox(children=(FloatProgress(value=0.0, description='Optimization Progress', max=600.0, style=ProgressStyle(de…"
      ]
     },
     "metadata": {},
     "output_type": "display_data"
    },
    {
     "name": "stdout",
     "output_type": "stream",
     "text": [
      "_pre_test decorator: _random_mutation_operator: num_test=0 Found array with 0 feature(s) (shape=(50, 0)) while a minimum of 1 is required..\n",
      "_pre_test decorator: _random_mutation_operator: num_test=0 Unsupported set of arguments: The combination of penalty='l1' and loss='hinge' is not supported, Parameters: penalty='l1', loss='hinge', dual=False.\n",
      "_pre_test decorator: _random_mutation_operator: num_test=0 Found array with 0 feature(s) (shape=(50, 0)) while a minimum of 1 is required..\n",
      "_pre_test decorator: _random_mutation_operator: num_test=0 feature_names mismatch: ['Subjectivity', 'Objectivity', 'Positive', 'Negative', 'Neutral', 'Open', 'High', 'Low', 'Close', 'Volume', 'Adj Close'] ['f0', 'f1', 'f2', 'f3', 'f4', 'f5', 'f6', 'f7', 'f8', 'f9', 'f10']\n",
      "expected Open, Subjectivity, Adj Close, Neutral, Close, Low, Objectivity, High, Volume, Negative, Positive in input data\n",
      "training data did not have the following fields: f5, f2, f10, f8, f6, f7, f9, f0, f3, f4, f1.\n",
      "_pre_test decorator: _random_mutation_operator: num_test=0 Solver lbfgs supports only 'l2' or 'none' penalties, got l1 penalty..\n",
      "_pre_test decorator: _random_mutation_operator: num_test=0 Unsupported set of arguments: The combination of penalty='l1' and loss='hinge' is not supported, Parameters: penalty='l1', loss='hinge', dual=False.\n",
      "_pre_test decorator: _random_mutation_operator: num_test=1 '(slice(None, None, None), 0)' is an invalid key.\n",
      "_pre_test decorator: _random_mutation_operator: num_test=0 '(slice(None, None, None), 0)' is an invalid key.\n",
      "_pre_test decorator: _random_mutation_operator: num_test=1 Unsupported set of arguments: The combination of penalty='l2' and loss='hinge' are not supported when dual=False, Parameters: penalty='l2', loss='hinge', dual=False.\n",
      "_pre_test decorator: _random_mutation_operator: num_test=0 Unsupported set of arguments: The combination of penalty='l1' and loss='hinge' is not supported, Parameters: penalty='l1', loss='hinge', dual=False.\n",
      "_pre_test decorator: _random_mutation_operator: num_test=0 Unsupported set of arguments: The combination of penalty='l2' and loss='hinge' are not supported when dual=False, Parameters: penalty='l2', loss='hinge', dual=False.\n",
      "_pre_test decorator: _random_mutation_operator: num_test=0 Unsupported set of arguments: The combination of penalty='l1' and loss='hinge' is not supported, Parameters: penalty='l1', loss='hinge', dual=False.\n",
      "_pre_test decorator: _random_mutation_operator: num_test=0 '(slice(None, None, None), 0)' is an invalid key.\n",
      "_pre_test decorator: _random_mutation_operator: num_test=0 Negative values in data passed to MultinomialNB (input X).\n",
      "_pre_test decorator: _random_mutation_operator: num_test=1 Found array with 0 feature(s) (shape=(50, 0)) while a minimum of 1 is required..\n",
      "_pre_test decorator: _random_mutation_operator: num_test=2 Unsupported set of arguments: The combination of penalty='l2' and loss='hinge' are not supported when dual=False, Parameters: penalty='l2', loss='hinge', dual=False.\n",
      "_pre_test decorator: _random_mutation_operator: num_test=0 Solver lbfgs supports only dual=False, got dual=True.\n",
      "_pre_test decorator: _random_mutation_operator: num_test=0 Negative values in data passed to MultinomialNB (input X).\n",
      "\n",
      "Generation 1 - Current Pareto front scores:\n",
      "-1\t0.6094208074006053\tLinearSVC(input_matrix, LinearSVC__C=5.0, LinearSVC__dual=False, LinearSVC__loss=squared_hinge, LinearSVC__penalty=l1, LinearSVC__tol=1e-05)\n",
      "-2\t0.8133693840764549\tXGBClassifier(PCA(input_matrix, PCA__iterated_power=9, PCA__svd_solver=randomized), XGBClassifier__learning_rate=0.01, XGBClassifier__max_depth=2, XGBClassifier__min_child_weight=5, XGBClassifier__n_estimators=100, XGBClassifier__nthread=1, XGBClassifier__subsample=0.05)\n",
      "_pre_test decorator: _random_mutation_operator: num_test=0 Negative values in data passed to MultinomialNB (input X).), XGBClassifier__learning_rate=0.01, XGBClassifier__max_depth=2, XGBClassifier__min_child_weight=5, XGBClassifier__n_estimators=100, XGBClassifier__nthread=1, XGBClassifier__subsample=0.05)\n",
      "_pre_test decorator: _random_mutation_operator: num_test=0 Unsupported set of arguments: The combination of penalty='l1' and loss='hinge' is not supported, Parameters: penalty='l1', loss='hinge', dual=False.\n",
      "_pre_test decorator: _random_mutation_operator: num_test=0 feature_names mismatch: ['Subjectivity', 'Objectivity', 'Positive', 'Negative', 'Neutral', 'Open', 'High', 'Low', 'Close', 'Volume', 'Adj Close'] ['f0', 'f1', 'f2', 'f3', 'f4', 'f5', 'f6', 'f7', 'f8', 'f9', 'f10']\n",
      "expected Open, Subjectivity, Adj Close, Neutral, Close, Low, Objectivity, High, Volume, Negative, Positive in input data\n",
      "training data did not have the following fields: f5, f2, f10, f8, f6, f7, f9, f0, f3, f4, f1.\n",
      "_pre_test decorator: _random_mutation_operator: num_test=0 Found array with 0 feature(s) (shape=(50, 0)) while a minimum of 1 is required..\n",
      "_pre_test decorator: _random_mutation_operator: num_test=1 Unsupported set of arguments: The combination of penalty='l1' and loss='squared_hinge' are not supported when dual=True, Parameters: penalty='l1', loss='squared_hinge', dual=True.\n",
      "_pre_test decorator: _random_mutation_operator: num_test=0 Found array with 0 feature(s) (shape=(50, 0)) while a minimum of 1 is required..\n",
      "_pre_test decorator: _random_mutation_operator: num_test=0 Unsupported set of arguments: The combination of penalty='l1' and loss='hinge' is not supported, Parameters: penalty='l1', loss='hinge', dual=False.\n",
      "_pre_test decorator: _random_mutation_operator: num_test=0 '(slice(None, None, None), 0)' is an invalid key.\n",
      "_pre_test decorator: _random_mutation_operator: num_test=0 Found array with 0 feature(s) (shape=(50, 0)) while a minimum of 2 is required..\n",
      "_pre_test decorator: _random_mutation_operator: num_test=0 Found array with 0 feature(s) (shape=(50, 0)) while a minimum of 1 is required..\n",
      "_pre_test decorator: _random_mutation_operator: num_test=0 Found array with 0 feature(s) (shape=(50, 0)) while a minimum of 1 is required..\n",
      "Pipeline encountered that has previously been evaluated during the optimization process. Using the score from the previous evaluation.\n",
      "Pipeline encountered that has previously been evaluated during the optimization process. Using the score from the previous evaluation.\n",
      "Pipeline encountered that has previously been evaluated during the optimization process. Using the score from the previous evaluation.\n",
      "Pipeline encountered that has previously been evaluated during the optimization process. Using the score from the previous evaluation.\n",
      "Pipeline encountered that has previously been evaluated during the optimization process. Using the score from the previous evaluation.\n",
      "Pipeline encountered that has previously been evaluated during the optimization process. Using the score from the previous evaluation.\n",
      "\n",
      "Generation 2 - Current Pareto front scores:\n",
      "-1\t0.6094208074006053\tLinearSVC(input_matrix, LinearSVC__C=5.0, LinearSVC__dual=False, LinearSVC__loss=squared_hinge, LinearSVC__penalty=l1, LinearSVC__tol=1e-05)\n",
      "-2\t0.8141958303574466\tXGBClassifier(PCA(input_matrix, PCA__iterated_power=1, PCA__svd_solver=randomized), XGBClassifier__learning_rate=0.01, XGBClassifier__max_depth=2, XGBClassifier__min_child_weight=5, XGBClassifier__n_estimators=100, XGBClassifier__nthread=1, XGBClassifier__subsample=0.05)\n",
      "_pre_test decorator: _random_mutation_operator: num_test=0 Unsupported set of arguments: The combination of penalty='l1' and loss='hinge' is not supported, Parameters: penalty='l1', loss='hinge', dual=False.ight=5, XGBClassifier__n_estimators=100, XGBClassifier__nthread=1, XGBClassifier__subsample=0.05)\n",
      "_pre_test decorator: _random_mutation_operator: num_test=1 Expected n_neighbors <= n_samples,  but n_samples = 50, n_neighbors = 59.\n",
      "_pre_test decorator: _random_mutation_operator: num_test=2 '(slice(None, None, None), 0)' is an invalid key.\n",
      "_pre_test decorator: _random_mutation_operator: num_test=0 Expected n_neighbors <= n_samples,  but n_samples = 50, n_neighbors = 78.\n",
      "_pre_test decorator: _random_mutation_operator: num_test=0 Unsupported set of arguments: The combination of penalty='l1' and loss='hinge' is not supported, Parameters: penalty='l1', loss='hinge', dual=False.\n",
      "_pre_test decorator: _random_mutation_operator: num_test=0 Found array with 0 feature(s) (shape=(50, 0)) while a minimum of 1 is required..\n",
      "_pre_test decorator: _random_mutation_operator: num_test=0 Solver lbfgs supports only 'l2' or 'none' penalties, got l1 penalty..\n"
     ]
    },
    {
     "name": "stdout",
     "output_type": "stream",
     "text": [
      "_pre_test decorator: _random_mutation_operator: num_test=0 feature_names mismatch: ['Subjectivity', 'Objectivity', 'Positive', 'Negative', 'Neutral', 'Open', 'High', 'Low', 'Close', 'Volume', 'Adj Close'] ['f0', 'f1', 'f2', 'f3', 'f4', 'f5', 'f6', 'f7', 'f8', 'f9', 'f10']\n",
      "expected Open, Subjectivity, Adj Close, Neutral, Close, Low, Objectivity, High, Volume, Negative, Positive in input data\n",
      "training data did not have the following fields: f5, f2, f10, f8, f6, f7, f9, f0, f3, f4, f1.\n",
      "_pre_test decorator: _random_mutation_operator: num_test=0 '(slice(None, None, None), 0)' is an invalid key.\n",
      "_pre_test decorator: _random_mutation_operator: num_test=0 feature_names mismatch: ['Subjectivity', 'Objectivity', 'Positive', 'Negative', 'Neutral', 'Open', 'High', 'Low', 'Close', 'Volume', 'Adj Close'] ['f0', 'f1', 'f2', 'f3', 'f4', 'f5', 'f6', 'f7', 'f8', 'f9', 'f10']\n",
      "expected Open, Subjectivity, Adj Close, Neutral, Close, Low, Objectivity, High, Volume, Negative, Positive in input data\n",
      "training data did not have the following fields: f5, f2, f10, f8, f6, f7, f9, f0, f3, f4, f1.\n",
      "Pipeline encountered that has previously been evaluated during the optimization process. Using the score from the previous evaluation.\n",
      "Pipeline encountered that has previously been evaluated during the optimization process. Using the score from the previous evaluation.\n",
      "Pipeline encountered that has previously been evaluated during the optimization process. Using the score from the previous evaluation.\n",
      "Pipeline encountered that has previously been evaluated during the optimization process. Using the score from the previous evaluation.\n",
      "\n",
      "Generation 3 - Current Pareto front scores:\n",
      "-1\t0.6094208074006053\tLinearSVC(input_matrix, LinearSVC__C=5.0, LinearSVC__dual=False, LinearSVC__loss=squared_hinge, LinearSVC__penalty=l1, LinearSVC__tol=1e-05)\n",
      "-2\t0.8141958303574466\tXGBClassifier(PCA(input_matrix, PCA__iterated_power=1, PCA__svd_solver=randomized), XGBClassifier__learning_rate=0.01, XGBClassifier__max_depth=2, XGBClassifier__min_child_weight=5, XGBClassifier__n_estimators=100, XGBClassifier__nthread=1, XGBClassifier__subsample=0.05)\n",
      "_pre_test decorator: _random_mutation_operator: num_test=0 Unsupported set of arguments: The combination of penalty='l1' and loss='hinge' is not supported, Parameters: penalty='l1', loss='hinge', dual=True.eight=5, XGBClassifier__n_estimators=100, XGBClassifier__nthread=1, XGBClassifier__subsample=0.05)\n",
      "_pre_test decorator: _random_mutation_operator: num_test=0 l1 was provided as affinity. Ward can only work with euclidean distances..\n",
      "_pre_test decorator: _random_mutation_operator: num_test=0 Unsupported set of arguments: The combination of penalty='l1' and loss='squared_hinge' are not supported when dual=True, Parameters: penalty='l1', loss='squared_hinge', dual=True.\n",
      "_pre_test decorator: _random_mutation_operator: num_test=0 feature_names mismatch: ['Subjectivity', 'Objectivity', 'Positive', 'Negative', 'Neutral', 'Open', 'High', 'Low', 'Close', 'Volume', 'Adj Close'] ['f0', 'f1', 'f2', 'f3', 'f4', 'f5', 'f6', 'f7', 'f8', 'f9', 'f10']\n",
      "expected Open, Subjectivity, Adj Close, Neutral, Close, Low, Objectivity, High, Volume, Negative, Positive in input data\n",
      "training data did not have the following fields: f5, f2, f10, f8, f6, f7, f9, f0, f3, f4, f1.\n",
      "_pre_test decorator: _random_mutation_operator: num_test=0 feature_names mismatch: ['Subjectivity', 'Objectivity', 'Positive', 'Negative', 'Neutral', 'Open', 'High', 'Low', 'Close', 'Volume', 'Adj Close'] ['f0', 'f1', 'f2', 'f3', 'f4', 'f5', 'f6', 'f7', 'f8', 'f9', 'f10']\n",
      "expected Open, Subjectivity, Adj Close, Neutral, Close, Low, Objectivity, High, Volume, Negative, Positive in input data\n",
      "training data did not have the following fields: f5, f2, f10, f8, f6, f7, f9, f0, f3, f4, f1.\n",
      "_pre_test decorator: _random_mutation_operator: num_test=0 Unsupported set of arguments: The combination of penalty='l1' and loss='squared_hinge' are not supported when dual=True, Parameters: penalty='l1', loss='squared_hinge', dual=True.\n",
      "_pre_test decorator: _random_mutation_operator: num_test=0 Unsupported set of arguments: The combination of penalty='l1' and loss='squared_hinge' are not supported when dual=True, Parameters: penalty='l1', loss='squared_hinge', dual=True.\n",
      "_pre_test decorator: _random_mutation_operator: num_test=0 feature_names mismatch: ['Subjectivity', 'Objectivity', 'Positive', 'Negative', 'Neutral', 'Open', 'High', 'Low', 'Close', 'Volume', 'Adj Close'] ['f0', 'f1', 'f2', 'f3', 'f4', 'f5', 'f6', 'f7', 'f8', 'f9', 'f10']\n",
      "expected Open, Subjectivity, Adj Close, Neutral, Close, Low, Objectivity, High, Volume, Negative, Positive in input data\n",
      "training data did not have the following fields: f5, f2, f10, f8, f6, f7, f9, f0, f3, f4, f1.\n",
      "_pre_test decorator: _random_mutation_operator: num_test=1 '(slice(None, None, None), 0)' is an invalid key.\n",
      "_pre_test decorator: _random_mutation_operator: num_test=0 Solver lbfgs supports only 'l2' or 'none' penalties, got l1 penalty..\n",
      "Pipeline encountered that has previously been evaluated during the optimization process. Using the score from the previous evaluation.\n",
      "Pipeline encountered that has previously been evaluated during the optimization process. Using the score from the previous evaluation.\n",
      "\n",
      "Generation 4 - Current Pareto front scores:\n",
      "-1\t0.6432574907322383\tLinearSVC(CombineDFs(input_matrix, input_matrix), LinearSVC__C=5.0, LinearSVC__dual=False, LinearSVC__loss=squared_hinge, LinearSVC__penalty=l1, LinearSVC__tol=1e-05)\n",
      "-2\t0.8141958303574466\tXGBClassifier(PCA(input_matrix, PCA__iterated_power=1, PCA__svd_solver=randomized), XGBClassifier__learning_rate=0.01, XGBClassifier__max_depth=2, XGBClassifier__min_child_weight=5, XGBClassifier__n_estimators=100, XGBClassifier__nthread=1, XGBClassifier__subsample=0.05)\n",
      "_pre_test decorator: _random_mutation_operator: num_test=0 feature_names mismatch: ['Subjectivity', 'Objectivity', 'Positive', 'Negative', 'Neutral', 'Open', 'High', 'Low', 'Close', 'Volume', 'Adj Close'] ['f0', 'f1', 'f2', 'f3', 'f4', 'f5', 'f6', 'f7', 'f8', 'f9', 'f10'], XGBClassifier__subsample=0.05)\n",
      "expected Open, Subjectivity, Adj Close, Neutral, Close, Low, Objectivity, High, Volume, Negative, Positive in input data\n",
      "training data did not have the following fields: f5, f2, f10, f8, f6, f7, f9, f0, f3, f4, f1.\n",
      "_pre_test decorator: _random_mutation_operator: num_test=0 Solver lbfgs supports only dual=False, got dual=True.\n",
      "_pre_test decorator: _random_mutation_operator: num_test=0 feature_names mismatch: ['Subjectivity', 'Objectivity', 'Positive', 'Negative', 'Neutral', 'Open', 'High', 'Low', 'Close', 'Volume', 'Adj Close'] ['f0', 'f1', 'f2', 'f3', 'f4', 'f5', 'f6', 'f7', 'f8', 'f9', 'f10']\n",
      "expected Open, Subjectivity, Adj Close, Neutral, Close, Low, Objectivity, High, Volume, Negative, Positive in input data\n",
      "training data did not have the following fields: f5, f2, f10, f8, f6, f7, f9, f0, f3, f4, f1.\n",
      "_pre_test decorator: _random_mutation_operator: num_test=1 Unsupported set of arguments: The combination of penalty='l1' and loss='hinge' is not supported, Parameters: penalty='l1', loss='hinge', dual=False.\n",
      "_pre_test decorator: _random_mutation_operator: num_test=0 Unsupported set of arguments: The combination of penalty='l1' and loss='squared_hinge' are not supported when dual=True, Parameters: penalty='l1', loss='squared_hinge', dual=True.\n",
      "_pre_test decorator: _random_mutation_operator: num_test=0 Solver lbfgs supports only 'l2' or 'none' penalties, got l1 penalty..\n",
      "_pre_test decorator: _random_mutation_operator: num_test=0 Solver lbfgs supports only 'l2' or 'none' penalties, got l1 penalty..\n",
      "_pre_test decorator: _random_mutation_operator: num_test=0 Solver lbfgs supports only dual=False, got dual=True.\n",
      "_pre_test decorator: _random_mutation_operator: num_test=0 cosine was provided as affinity. Ward can only work with euclidean distances..\n",
      "_pre_test decorator: _random_mutation_operator: num_test=0 Solver lbfgs supports only dual=False, got dual=True.\n",
      "_pre_test decorator: _random_mutation_operator: num_test=0 Solver lbfgs supports only dual=False, got dual=True.\n",
      "_pre_test decorator: _random_mutation_operator: num_test=1 Unsupported set of arguments: The combination of penalty='l1' and loss='squared_hinge' are not supported when dual=True, Parameters: penalty='l1', loss='squared_hinge', dual=True.\n"
     ]
    },
    {
     "name": "stdout",
     "output_type": "stream",
     "text": [
      "_pre_test decorator: _random_mutation_operator: num_test=0 Solver lbfgs supports only 'l2' or 'none' penalties, got l1 penalty..\n",
      "_pre_test decorator: _random_mutation_operator: num_test=0 Solver lbfgs supports only dual=False, got dual=True.\n",
      "_pre_test decorator: _random_mutation_operator: num_test=0 array must not contain infs or NaNs.\n",
      "Pipeline encountered that has previously been evaluated during the optimization process. Using the score from the previous evaluation.\n",
      "Pipeline encountered that has previously been evaluated during the optimization process. Using the score from the previous evaluation.\n",
      "Pipeline encountered that has previously been evaluated during the optimization process. Using the score from the previous evaluation.\n",
      "\n",
      "Generation 5 - Current Pareto front scores:\n",
      "-1\t0.6432574907322383\tLinearSVC(CombineDFs(input_matrix, input_matrix), LinearSVC__C=5.0, LinearSVC__dual=False, LinearSVC__loss=squared_hinge, LinearSVC__penalty=l1, LinearSVC__tol=1e-05)\n",
      "-2\t0.8141992313709485\tXGBClassifier(PCA(input_matrix, PCA__iterated_power=5, PCA__svd_solver=randomized), XGBClassifier__learning_rate=0.01, XGBClassifier__max_depth=2, XGBClassifier__min_child_weight=5, XGBClassifier__n_estimators=100, XGBClassifier__nthread=1, XGBClassifier__subsample=0.9000000000000001)\n",
      "-3\t0.8150222766384383\tXGBClassifier(PCA(ZeroCount(input_matrix), PCA__iterated_power=9, PCA__svd_solver=randomized), XGBClassifier__learning_rate=0.01, XGBClassifier__max_depth=2, XGBClassifier__min_child_weight=5, XGBClassifier__n_estimators=100, XGBClassifier__nthread=1, XGBClassifier__subsample=0.05)0.4527938342967245\n"
     ]
    }
   ],
   "source": [
    "from sklearn.model_selection import train_test_split\n",
    "import os\n",
    "from tpot import TPOTClassifier\n",
    "\n",
    "# instanciate TPOTClassifier\n",
    "rescaledValidationX = scaler.transform(X_test)\n",
    "\n",
    "tpot = TPOTClassifier(verbosity=3, scoring='accuracy', random_state=32,  n_jobs=-1, generations=5, population_size=100)\n",
    "\n",
    "# process autoML with TPOT\n",
    "tpot.fit(X_train, y_train)\n",
    "# print score\n",
    "print(tpot.score(rescaledValidationX, y_test))\n",
    "tpot.export('tpot_stock_pipeline.py')"
   ]
  },
  {
   "cell_type": "code",
   "execution_count": 71,
   "metadata": {},
   "outputs": [],
   "source": [
    "tpot = TPOTClassifier()\n",
    "tpot.fit(X_train, y_train)\n",
    "tpot.score(X_test, y_test)\n",
    "tpot.export('tpot_stock_pipeline.py')"
   ]
  },
  {
   "cell_type": "code",
   "execution_count": 72,
   "metadata": {},
   "outputs": [
    {
     "data": {
      "application/vnd.jupyter.widget-view+json": {
       "model_id": "7069002d2e6641988b72246a629931bd",
       "version_major": 2,
       "version_minor": 0
      },
      "text/plain": [
       "HBox(children=(FloatProgress(value=0.0, description='Optimization Progress', max=10100.0, style=ProgressStyle(…"
      ]
     },
     "metadata": {},
     "output_type": "display_data"
    },
    {
     "name": "stdout",
     "output_type": "stream",
     "text": [
      "\n",
      "Generation 1 - Current best internal CV score: 0.8175016154814134\n",
      "Generation 2 - Current best internal CV score: 0.8183280617624051\n",
      "Generation 3 - Current best internal CV score: 0.8183280617624051\n",
      "Generation 4 - Current best internal CV score: 0.8183280617624051\n",
      "Generation 5 - Current best internal CV score: 0.8183280617624051\n",
      "Generation 6 - Current best internal CV score: 0.8183280617624051\n",
      "Generation 7 - Current best internal CV score: 0.8183280617624051\n",
      "Generation 8 - Current best internal CV score: 0.8191477060163928\n",
      "Generation 9 - Current best internal CV score: 0.8191477060163928\n",
      "Generation 10 - Current best internal CV score: 0.8224466891133557\n",
      "Generation 11 - Current best internal CV score: 0.8224466891133557\n",
      "Generation 12 - Current best internal CV score: 0.8224466891133557\n",
      "Generation 13 - Current best internal CV score: 0.8224466891133557\n",
      "Generation 14 - Current best internal CV score: 0.8257592762643269\n",
      "Generation 15 - Current best internal CV score: 0.8257592762643269\n",
      "Generation 16 - Current best internal CV score: 0.8257592762643269\n",
      "Generation 17 - Current best internal CV score: 0.8274053667993062\n",
      "Generation 18 - Current best internal CV score: 0.8274053667993062\n",
      "Generation 19 - Current best internal CV score: 0.828238615107302\n",
      "Generation 20 - Current best internal CV score: 0.828238615107302\n",
      "Generation 21 - Current best internal CV score: 0.8323708465122607\n",
      "Generation 22 - Current best internal CV score: 0.8323708465122607\n",
      "Generation 23 - Current best internal CV score: 0.8323708465122607\n",
      "Generation 24 - Current best internal CV score: 0.8323708465122607\n",
      "Generation 25 - Current best internal CV score: 0.8323708465122607\n",
      "Generation 26 - Current best internal CV score: 0.8323708465122607\n",
      "Generation 27 - Current best internal CV score: 0.8348433833282318\n",
      "Generation 28 - Current best internal CV score: 0.8348433833282318\n",
      "Generation 29 - Current best internal CV score: 0.8381423664251948\n",
      "Generation 30 - Current best internal CV score: 0.8389620106791824\n",
      "Generation 31 - Current best internal CV score: 0.8389620106791824\n",
      "Generation 32 - Current best internal CV score: 0.8389620106791824\n",
      "Generation 33 - Current best internal CV score: 0.8397884569601741\n",
      "Generation 34 - Current best internal CV score: 0.8397884569601741\n",
      "Generation 35 - Current best internal CV score: 0.8397986600006802\n",
      "Generation 36 - Current best internal CV score: 0.8397986600006802\n",
      "Generation 37 - Current best internal CV score: 0.8397986600006802\n",
      "Generation 38 - Current best internal CV score: 0.8397986600006802\n",
      "Generation 39 - Current best internal CV score: 0.8397986600006802\n",
      "Generation 40 - Current best internal CV score: 0.8397986600006802\n",
      "Generation 41 - Current best internal CV score: 0.8397986600006802\n",
      "Generation 42 - Current best internal CV score: 0.8430976430976432\n",
      "Generation 43 - Current best internal CV score: 0.8430976430976432\n",
      "Generation 44 - Current best internal CV score: 0.8430976430976432\n",
      "Generation 45 - Current best internal CV score: 0.8430976430976432\n",
      "Generation 46 - Current best internal CV score: 0.8430976430976432\n",
      "Generation 47 - Current best internal CV score: 0.8431010441111451\n",
      "Generation 48 - Current best internal CV score: 0.8431010441111451\n",
      "Generation 49 - Current best internal CV score: 0.8431010441111451\n",
      "Generation 50 - Current best internal CV score: 0.8447471346461246\n",
      "Generation 51 - Current best internal CV score: 0.8447471346461246\n",
      "Generation 52 - Current best internal CV score: 0.8447471346461246\n",
      "Generation 53 - Current best internal CV score: 0.8447471346461246\n",
      "Generation 54 - Current best internal CV score: 0.8447471346461246\n",
      "Generation 55 - Current best internal CV score: 0.8447471346461246\n",
      "Generation 56 - Current best internal CV score: 0.8447471346461246\n",
      "Generation 57 - Current best internal CV score: 0.8447471346461246\n",
      "Generation 58 - Current best internal CV score: 0.8447471346461246\n",
      "Generation 59 - Current best internal CV score: 0.8447471346461246\n",
      "Generation 60 - Current best internal CV score: 0.8447471346461246\n",
      "Generation 61 - Current best internal CV score: 0.8447471346461246\n",
      "Generation 62 - Current best internal CV score: 0.8447471346461246\n",
      "Generation 63 - Current best internal CV score: 0.8455769819406184\n",
      "Generation 64 - Current best internal CV score: 0.8455769819406184\n",
      "Generation 65 - Current best internal CV score: 0.8455769819406184\n",
      "\n",
      "TPOT closed during evaluation in one generation.\n",
      "WARNING: TPOT may not provide a good pipeline if TPOT is stopped/interrupted in a early generation.\n",
      "\n",
      "\n",
      "TPOT closed prematurely. Will use the current best pipeline.\n",
      "\n",
      "Best pipeline: RandomForestClassifier(GaussianNB(PCA(PCA(RFE(RFE(VarianceThreshold(input_matrix, threshold=0.05), criterion=entropy, max_features=0.8, n_estimators=100, step=0.25), criterion=gini, max_features=0.1, n_estimators=100, step=0.6000000000000001), iterated_power=3, svd_solver=randomized), iterated_power=8, svd_solver=randomized)), bootstrap=True, criterion=gini, max_features=0.1, min_samples_leaf=7, min_samples_split=16, n_estimators=100)\n",
      "0.8053949903660886\n"
     ]
    }
   ],
   "source": [
    "from sklearn.model_selection import train_test_split\n",
    "import os\n",
    "from tpot import TPOTClassifier\n",
    "\n",
    "# instanciate TPOTClassifier\n",
    "tpot = TPOTClassifier(generations=100, population_size=100, verbosity=2, n_jobs=-1)\n",
    "# process autoML with TPOT\n",
    "tpot.fit(X_train, y_train)\n",
    "# print score\n",
    "print(tpot.score(X_test, y_test))\n",
    "tpot.export('tpot_stock_pipeline.py')"
   ]
  },
  {
   "cell_type": "code",
   "execution_count": 73,
   "metadata": {},
   "outputs": [
    {
     "data": {
      "application/vnd.jupyter.widget-view+json": {
       "model_id": "dc01121bb5fb4d4ca9765efa10fe2a72",
       "version_major": 2,
       "version_minor": 0
      },
      "text/plain": [
       "HBox(children=(FloatProgress(value=0.0, description='Optimization Progress', max=10100.0, style=ProgressStyle(…"
      ]
     },
     "metadata": {},
     "output_type": "display_data"
    },
    {
     "name": "stdout",
     "output_type": "stream",
     "text": [
      "\n",
      "Generation 1 - Current best internal CV score: 0.8175084175084175\n",
      "Generation 2 - Current best internal CV score: 0.8216236438458662\n",
      "Generation 3 - Current best internal CV score: 0.8216236438458662\n",
      "Generation 4 - Current best internal CV score: 0.8216236438458662\n",
      "Generation 5 - Current best internal CV score: 0.8216270448593681\n",
      "Generation 6 - Current best internal CV score: 0.8216270448593681\n",
      "Generation 7 - Current best internal CV score: 0.8232799374213515\n",
      "Generation 8 - Current best internal CV score: 0.8232799374213515\n",
      "Generation 9 - Current best internal CV score: 0.8232799374213515\n",
      "Generation 10 - Current best internal CV score: 0.8232799374213515\n",
      "Generation 11 - Current best internal CV score: 0.8265721184913104\n",
      "Generation 12 - Current best internal CV score: 0.8307145529367752\n",
      "Generation 13 - Current best internal CV score: 0.8307145529367752\n",
      "Generation 14 - Current best internal CV score: 0.8307145529367752\n",
      "Generation 15 - Current best internal CV score: 0.8307145529367752\n",
      "Generation 16 - Current best internal CV score: 0.8307145529367752\n",
      "Generation 17 - Current best internal CV score: 0.8307145529367752\n",
      "Generation 18 - Current best internal CV score: 0.8307145529367752\n",
      "Generation 19 - Current best internal CV score: 0.8307145529367752\n",
      "Generation 20 - Current best internal CV score: 0.8307145529367752\n",
      "Generation 21 - Current best internal CV score: 0.837309118117199\n",
      "\n",
      "TPOT closed during evaluation in one generation.\n",
      "WARNING: TPOT may not provide a good pipeline if TPOT is stopped/interrupted in a early generation.\n",
      "\n",
      "\n",
      "TPOT closed prematurely. Will use the current best pipeline.\n",
      "\n",
      "Best pipeline: RandomForestClassifier(SGDClassifier(PCA(SGDClassifier(RFE(RFE(input_matrix, criterion=gini, max_features=0.15000000000000002, n_estimators=100, step=0.9500000000000001), criterion=gini, max_features=0.1, n_estimators=100, step=0.6500000000000001), alpha=0.001, eta0=1.0, fit_intercept=False, l1_ratio=0.5, learning_rate=constant, loss=log, penalty=elasticnet, power_t=1.0), iterated_power=3, svd_solver=randomized), alpha=0.001, eta0=0.1, fit_intercept=True, l1_ratio=0.5, learning_rate=constant, loss=hinge, penalty=elasticnet, power_t=0.5), bootstrap=False, criterion=entropy, max_features=0.2, min_samples_leaf=19, min_samples_split=3, n_estimators=100)\n",
      "0.8169556840077071\n"
     ]
    }
   ],
   "source": [
    "from sklearn.model_selection import train_test_split\n",
    "import os\n",
    "from tpot import TPOTClassifier\n",
    "\n",
    "# instanciate TPOTClassifier\n",
    "tpot = TPOTClassifier(generations=100, population_size=100, verbosity=2, n_jobs=-1)\n",
    "# process autoML with TPOT\n",
    "tpot.fit(X_train, y_train)\n",
    "# print score\n",
    "print(tpot.score(X_test, y_test))\n",
    "tpot.export('tpot_stock_pipeline.py')"
   ]
  },
  {
   "cell_type": "code",
   "execution_count": null,
   "metadata": {},
   "outputs": [],
   "source": []
  },
  {
   "cell_type": "markdown",
   "metadata": {},
   "source": [
    "## Doc similarity"
   ]
  },
  {
   "cell_type": "code",
   "execution_count": null,
   "metadata": {},
   "outputs": [],
   "source": [
    "text1"
   ]
  },
  {
   "cell_type": "code",
   "execution_count": null,
   "metadata": {},
   "outputs": [],
   "source": [
    "other = df[13:]"
   ]
  },
  {
   "cell_type": "code",
   "execution_count": null,
   "metadata": {},
   "outputs": [],
   "source": [
    "# Program to measure similarity between  \n",
    "# two sentences using cosine similarity. \n",
    "from nltk.corpus import stopwords \n",
    "from nltk.tokenize import word_tokenize \n",
    "\n",
    "def similarity(text2):\n",
    "    text1 = df['cleaned'][10]\n",
    "    # tokenization \n",
    "    X_list = word_tokenize(text1)  \n",
    "    Y_list = word_tokenize(text2) \n",
    "  \n",
    "    # sw contains the list of stopwords \n",
    "    sw = stopwords.words('english')  \n",
    "    l1 =[];l2 =[] \n",
    "  \n",
    "    # remove stop words from string \n",
    "    X_set = {w for w in X_list if not w in sw}  \n",
    "    Y_set = {w for w in Y_list if not w in sw} \n",
    "  \n",
    "    # form a set containing keywords of both strings  \n",
    "    rvector = X_set.union(Y_set)  \n",
    "    for w in rvector: \n",
    "        if w in X_set: l1.append(1) # create a vector \n",
    "        else: l1.append(0) \n",
    "        if w in Y_set: l2.append(1) \n",
    "        else: l2.append(0) \n",
    "    c = 0\n",
    "  \n",
    "    # cosine formula  \n",
    "    for i in range(len(rvector)): \n",
    "            c+= l1[i]*l2[i] \n",
    "    cosine = c / float((sum(l1)*sum(l2))**0.5) \n",
    "    return cosine\n",
    "similarity(text2)"
   ]
  },
  {
   "cell_type": "code",
   "execution_count": null,
   "metadata": {},
   "outputs": [],
   "source": [
    "other['similarity'] = df['cleaned'].apply(similarity)"
   ]
  },
  {
   "cell_type": "markdown",
   "metadata": {},
   "source": [
    "https://www.geeksforgeeks.org/python-measure-similarity-between-two-sentences-using-cosine-similarity/"
   ]
  },
  {
   "cell_type": "code",
   "execution_count": null,
   "metadata": {},
   "outputs": [],
   "source": [
    "def invest():\n",
    "    index = other[other['similarity'] == other['similarity'].max()].index[0]\n",
    "    target = df['target'][index]\n",
    "    if target == 1:\n",
    "        print('It smells like money')\n",
    "    if target == 0:\n",
    "        print('you better buy your girlfriend a present than invest')\n",
    "    print(index)\n",
    "    print(target)\n",
    "\n",
    "\n",
    "invest()"
   ]
  },
  {
   "cell_type": "markdown",
   "metadata": {},
   "source": [
    "## Reddit news scrapping"
   ]
  },
  {
   "cell_type": "code",
   "execution_count": null,
   "metadata": {
    "scrolled": true
   },
   "outputs": [],
   "source": [
    "import datetime as dt\n",
    "import json\n",
    "import requests\n",
    "\n",
    "text = []\n",
    "today = dt.datetime.combine(dt.date.today(), dt.datetime.min.time())\n",
    "response = requests.get('https://www.reddit.com/r/worldnews/top.json?limit=25', headers = {'User-agent': 'test'})\n",
    "tops = json.loads(response.text)['data']['children']\n",
    "for top in tops:\n",
    "  if dt.datetime.fromtimestamp(top['data']['created']) >= today:\n",
    "    text.append(top['data']['title'])\n",
    "  else:\n",
    "    text.append(top['data']['created'])\n",
    "\n",
    "full = clean(\"\".join(str(text)))\n",
    "new_df = pd.DataFrame(data, columns = ['Date', 'cleaned'])\n",
    "new_df"
   ]
  },
  {
   "cell_type": "markdown",
   "metadata": {},
   "source": [
    "## Yahoo finance scrapping"
   ]
  },
  {
   "cell_type": "code",
   "execution_count": null,
   "metadata": {},
   "outputs": [],
   "source": [
    "import requests\n",
    "from bs4 import BeautifulSoup\n",
    "\n",
    "\n",
    "URL = 'https://finance.yahoo.com/quote/%5EDJI/history?p=%5EDJI'\n",
    "page = requests.get(URL)\n",
    "soup = BeautifulSoup(page.content, 'html.parser')\n"
   ]
  },
  {
   "cell_type": "code",
   "execution_count": null,
   "metadata": {},
   "outputs": [],
   "source": [
    "from alpha_vantage.timeseries import TimeSeries"
   ]
  },
  {
   "cell_type": "code",
   "execution_count": null,
   "metadata": {},
   "outputs": [],
   "source": [
    "<table class=\"W(100%) M(0)\" data-test=\"historical-prices\"><thead><tr class=\"C($tertiaryColor) Fz(xs) Ta(end)\"><th class=\"Ta(start) W(100px) Fw(400) Py(6px)\"><span>Date</span></th><th class=\"Fw(400) Py(6px)\"><span>Open</span></th><th class=\"Fw(400) Py(6px)\"><span>High</span></th><th class=\"Fw(400) Py(6px)\"><span>Low</span></th><th class=\"Fw(400) Py(6px)\"><span>Close*</span></th><th class=\"Fw(400) Py(6px)\"><span>Adj Close**</span></th><th class=\"Fw(400) Py(6px)\"><span>Volume</span></th></tr></thead><tbody><tr class=\"BdT Bdc($seperatorColor) Ta(end) Fz(s) Whs(nw)\"><td class=\"Py(10px) Ta(start) Pend(10px)\"><span>Jun 25, 2020</span></td><td class=\"Py(10px) Pstart(10px)\"><span>25,365.22</span></td><td class=\"Py(10px) Pstart(10px)\"><span>25,769.61</span></td><td class=\"Py(10px) Pstart(10px)\"><span>25,209.79</span></td><td class=\"Py(10px) Pstart(10px)\"><span>25,745.60</span></td><td class=\"Py(10px) Pstart(10px)\"><span>25,745.60</span></td><td class=\"Py(10px) Pstart(10px)\"><span>384,560,000</span></td></tr><tr class=\"BdT Bdc($seperatorColor) Ta(end) Fz(s) Whs(nw)\"><td class=\"Py(10px) Ta(start) Pend(10px)\"><span>Jun 24, 2020</span></td><td class=\"Py(10px) Pstart(10px)\"><span>25,992.96</span></td><td class=\"Py(10px) Pstart(10px)\"><span>25,992.96</span></td><td class=\"Py(10px) Pstart(10px)\"><span>25,296.73</span></td><td class=\"Py(10px) Pstart(10px)\"><span>25,445.94</span></td><td class=\"Py(10px) Pstart(10px)\"><span>25,445.94</span></td><td class=\"Py(10px) Pstart(10px)\"><span>450,120,000</span></td></tr><tr class=\"BdT Bdc($seperatorColor) Ta(end) Fz(s) Whs(nw)\"><td class=\"Py(10px) Ta(start) Pend(10px)\"><span>Jun 23, 2020</span></td><td class=\"Py(10px) Pstart(10px)\"><span>26,159.39</span></td><td class=\"Py(10px) Pstart(10px)\"><span>26,314.97</span></td><td class=\"Py(10px) Pstart(10px)\"><span>26,105.97</span></td><td class=\"Py(10px) Pstart(10px)\"><span>26,156.10</span></td><td class=\"Py(10px) Pstart(10px)\"><span>26,156.10</span></td><td class=\"Py(10px) Pstart(10px)\"><span>389,980,000</span></td></tr><tr class=\"BdT Bdc($seperatorColor) Ta(end) Fz(s) Whs(nw)\"><td class=\"Py(10px) Ta(start) Pend(10px)\"><span>Jun 22, 2020</span></td><td class=\"Py(10px) Pstart(10px)\"><span>25,865.08</span></td><td class=\"Py(10px) Pstart(10px)\"><span>26,059.81</span></td><td class=\"Py(10px) Pstart(10px)\"><span>25,667.68</span></td><td class=\"Py(10px) Pstart(10px)\"><span>26,024.96</span></td><td class=\"Py(10px) Pstart(10px)\"><span>26,024.96</span></td><td class=\"Py(10px) Pstart(10px)\"><span>351,780,000</span></td></tr><tr class=\"BdT Bdc($seperatorColor) Ta(end) Fz(s) Whs(nw)\"><td class=\"Py(10px) Ta(start) Pend(10px)\"><span>Jun 19, 2020</span></td><td class=\"Py(10px) Pstart(10px)\"><span>26,213.10</span></td><td class=\"Py(10px) Pstart(10px)\"><span>26,451.44</span></td><td class=\"Py(10px) Pstart(10px)\"><span>25,759.66</span></td><td class=\"Py(10px) Pstart(10px)\"><span>25,871.46</span></td><td class=\"Py(10px) Pstart(10px)\"><span>25,871.46</span></td><td class=\"Py(10px) Pstart(10px)\"><span>669,390,000</span></td></tr><tr class=\"BdT Bdc($seperatorColor) Ta(end) Fz(s) Whs(nw)\"><td class=\"Py(10px) Ta(start) Pend(10px)\"><span>Jun 18, 2020</span></td><td class=\"Py(10px) Pstart(10px)\"><span>26,016.45</span></td><td class=\"Py(10px) Pstart(10px)\"><span>26,154.20</span></td><td class=\"Py(10px) Pstart(10px)\"><span>25,848.53</span></td><td class=\"Py(10px) Pstart(10px)\"><span>26,080.10</span></td><td class=\"Py(10px) Pstart(10px)\"><span>26,080.10</span></td><td class=\"Py(10px) Pstart(10px)\"><span>328,390,000</span></td></tr><tr class=\"BdT Bdc($seperatorColor) Ta(end) Fz(s) Whs(nw)\"><td class=\"Py(10px) Ta(start) Pend(10px)\"><span>Jun 17, 2020</span></td><td class=\"Py(10px) Pstart(10px)\"><span>26,330.52</span></td><td class=\"Py(10px) Pstart(10px)\"><span>26,400.07</span></td><td class=\"Py(10px) Pstart(10px)\"><span>26,068.41</span></td><td class=\"Py(10px) Pstart(10px)\"><span>26,119.61</span></td><td class=\"Py(10px) Pstart(10px)\"><span>26,119.61</span></td><td class=\"Py(10px) Pstart(10px)\"><span>328,830,000</span></td></tr><tr class=\"BdT Bdc($seperatorColor) Ta(end) Fz(s) Whs(nw)\"><td class=\"Py(10px) Ta(start) Pend(10px)\"><span>Jun 16, 2020</span></td><td class=\"Py(10px) Pstart(10px)\"><span>26,326.68</span></td><td class=\"Py(10px) Pstart(10px)\"><span>26,611.03</span></td><td class=\"Py(10px) Pstart(10px)\"><span>25,811.70</span></td><td class=\"Py(10px) Pstart(10px)\"><span>26,289.98</span></td><td class=\"Py(10px) Pstart(10px)\"><span>26,289.98</span></td><td class=\"Py(10px) Pstart(10px)\"><span>489,500,000</span></td></tr><tr class=\"BdT Bdc($seperatorColor) Ta(end) Fz(s) Whs(nw)\"><td class=\"Py(10px) Ta(start) Pend(10px)\"><span>Jun 15, 2020</span></td><td class=\"Py(10px) Pstart(10px)\"><span>25,270.39</span></td><td class=\"Py(10px) Pstart(10px)\"><span>25,891.58</span></td><td class=\"Py(10px) Pstart(10px)\"><span>24,843.18</span></td><td class=\"Py(10px) Pstart(10px)\"><span>25,763.16</span></td><td class=\"Py(10px) Pstart(10px)\"><span>25,763.16</span></td><td class=\"Py(10px) Pstart(10px)\"><span>461,230,000</span></td></tr><tr class=\"BdT Bdc($seperatorColor) Ta(end) Fz(s) Whs(nw)\"><td class=\"Py(10px) Ta(start) Pend(10px)\"><span>Jun 12, 2020</span></td><td class=\"Py(10px) Pstart(10px)\"><span>25,659.42</span></td><td class=\"Py(10px) Pstart(10px)\"><span>25,965.55</span></td><td class=\"Py(10px) Pstart(10px)\"><span>25,078.41</span></td><td class=\"Py(10px) Pstart(10px)\"><span>25,605.54</span></td><td class=\"Py(10px) Pstart(10px)\"><span>25,605.54</span></td><td class=\"Py(10px) Pstart(10px)\"><span>514,440,000</span></td></tr><tr class=\"BdT Bdc($seperatorColor) Ta(end) Fz(s) Whs(nw)\"><td class=\"Py(10px) Ta(start) Pend(10px)\"><span>Jun 11, 2020</span></td><td class=\"Py(10px) Pstart(10px)\"><span>26,282.51</span></td><td class=\"Py(10px) Pstart(10px)\"><span>26,294.08</span></td><td class=\"Py(10px) Pstart(10px)\"><span>25,082.72</span></td><td class=\"Py(10px) Pstart(10px)\"><span>25,128.17</span></td><td class=\"Py(10px) Pstart(10px)\"><span>25,128.17</span></td><td class=\"Py(10px) Pstart(10px)\"><span>647,780,000</span></td></tr><tr class=\"BdT Bdc($seperatorColor) Ta(end) Fz(s) Whs(nw)\"><td class=\"Py(10px) Ta(start) Pend(10px)\"><span>Jun 10, 2020</span></td><td class=\"Py(10px) Pstart(10px)\"><span>27,251.89</span></td><td class=\"Py(10px) Pstart(10px)\"><span>27,355.22</span></td><td class=\"Py(10px) Pstart(10px)\"><span>26,938.05</span></td><td class=\"Py(10px) Pstart(10px)\"><span>26,989.99</span></td><td class=\"Py(10px) Pstart(10px)\"><span>26,989.99</span></td><td class=\"Py(10px) Pstart(10px)\"><span>448,930,000</span></td></tr><tr class=\"BdT Bdc($seperatorColor) Ta(end) Fz(s) Whs(nw)\"><td class=\"Py(10px) Ta(start) Pend(10px)\"><span>Jun 09, 2020</span></td><td class=\"Py(10px) Pstart(10px)\"><span>27,447.37</span></td><td class=\"Py(10px) Pstart(10px)\"><span>27,447.37</span></td><td class=\"Py(10px) Pstart(10px)\"><span>27,151.06</span></td><td class=\"Py(10px) Pstart(10px)\"><span>27,272.30</span></td><td class=\"Py(10px) Pstart(10px)\"><span>27,272.30</span></td><td class=\"Py(10px) Pstart(10px)\"><span>381,430,000</span></td></tr><tr class=\"BdT Bdc($seperatorColor) Ta(end) Fz(s) Whs(nw)\"><td class=\"Py(10px) Ta(start) Pend(10px)\"><span>Jun 08, 2020</span></td><td class=\"Py(10px) Pstart(10px)\"><span>27,232.93</span></td><td class=\"Py(10px) Pstart(10px)\"><span>27,580.21</span></td><td class=\"Py(10px) Pstart(10px)\"><span>27,232.48</span></td><td class=\"Py(10px) Pstart(10px)\"><span>27,572.44</span></td><td class=\"Py(10px) Pstart(10px)\"><span>27,572.44</span></td><td class=\"Py(10px) Pstart(10px)\"><span>430,200,000</span></td></tr><tr class=\"BdT Bdc($seperatorColor) Ta(end) Fz(s) Whs(nw)\"><td class=\"Py(10px) Ta(start) Pend(10px)\"><span>Jun 05, 2020</span></td><td class=\"Py(10px) Pstart(10px)\"><span>26,836.80</span></td><td class=\"Py(10px) Pstart(10px)\"><span>27,338.30</span></td><td class=\"Py(10px) Pstart(10px)\"><span>26,836.80</span></td><td class=\"Py(10px) Pstart(10px)\"><span>27,110.98</span></td><td class=\"Py(10px) Pstart(10px)\"><span>27,110.98</span></td><td class=\"Py(10px) Pstart(10px)\"><span>542,310,000</span></td></tr><tr class=\"BdT Bdc($seperatorColor) Ta(end) Fz(s) Whs(nw)\"><td class=\"Py(10px) Ta(start) Pend(10px)\"><span>Jun 04, 2020</span></td><td class=\"Py(10px) Pstart(10px)\"><span>26,226.49</span></td><td class=\"Py(10px) Pstart(10px)\"><span>26,384.10</span></td><td class=\"Py(10px) Pstart(10px)\"><span>26,082.31</span></td><td class=\"Py(10px) Pstart(10px)\"><span>26,281.82</span></td><td class=\"Py(10px) Pstart(10px)\"><span>26,281.82</span></td><td class=\"Py(10px) Pstart(10px)\"><span>372,190,000</span></td></tr><tr class=\"BdT Bdc($seperatorColor) Ta(end) Fz(s) Whs(nw)\"><td class=\"Py(10px) Ta(start) Pend(10px)\"><span>Jun 03, 2020</span></td><td class=\"Py(10px) Pstart(10px)\"><span>25,906.88</span></td><td class=\"Py(10px) Pstart(10px)\"><span>26,337.75</span></td><td class=\"Py(10px) Pstart(10px)\"><span>25,906.88</span></td><td class=\"Py(10px) Pstart(10px)\"><span>26,269.89</span></td><td class=\"Py(10px) Pstart(10px)\"><span>26,269.89</span></td><td class=\"Py(10px) Pstart(10px)\"><span>398,790,000</span></td></tr><tr class=\"BdT Bdc($seperatorColor) Ta(end) Fz(s) Whs(nw)\"><td class=\"Py(10px) Ta(start) Pend(10px)\"><span>Jun 02, 2020</span></td><td class=\"Py(10px) Pstart(10px)\"><span>25,582.52</span></td><td class=\"Py(10px) Pstart(10px)\"><span>25,743.13</span></td><td class=\"Py(10px) Pstart(10px)\"><span>25,523.74</span></td><td class=\"Py(10px) Pstart(10px)\"><span>25,742.65</span></td><td class=\"Py(10px) Pstart(10px)\"><span>25,742.65</span></td><td class=\"Py(10px) Pstart(10px)\"><span>352,610,000</span></td></tr><tr class=\"BdT Bdc($seperatorColor) Ta(end) Fz(s) Whs(nw)\"><td class=\"Py(10px) Ta(start) Pend(10px)\"><span>Jun 01, 2020</span></td><td class=\"Py(10px) Pstart(10px)\"><span>25,342.99</span></td><td class=\"Py(10px) Pstart(10px)\"><span>25,508.83</span></td><td class=\"Py(10px) Pstart(10px)\"><span>25,220.66</span></td><td class=\"Py(10px) Pstart(10px)\"><span>25,475.02</span></td><td class=\"Py(10px) Pstart(10px)\"><span>25,475.02</span></td><td class=\"Py(10px) Pstart(10px)\"><span>338,310,000</span></td></tr><tr class=\"BdT Bdc($seperatorColor) Ta(end) Fz(s) Whs(nw)\"><td class=\"Py(10px) Ta(start) Pend(10px)\"><span>May 29, 2020</span></td><td class=\"Py(10px) Pstart(10px)\"><span>25,324.15</span></td><td class=\"Py(10px) Pstart(10px)\"><span>25,482.80</span></td><td class=\"Py(10px) Pstart(10px)\"><span>25,031.67</span></td><td class=\"Py(10px) Pstart(10px)\"><span>25,383.11</span></td><td class=\"Py(10px) Pstart(10px)\"><span>25,383.11</span></td><td class=\"Py(10px) Pstart(10px)\"><span>527,620,000</span></td></tr><tr class=\"BdT Bdc($seperatorColor) Ta(end) Fz(s) Whs(nw)\"><td class=\"Py(10px) Ta(start) Pend(10px)\"><span>May 28, 2020</span></td><td class=\"Py(10px) Pstart(10px)\"><span>25,697.36</span></td><td class=\"Py(10px) Pstart(10px)\"><span>25,758.79</span></td><td class=\"Py(10px) Pstart(10px)\"><span>25,358.73</span></td><td class=\"Py(10px) Pstart(10px)\"><span>25,400.64</span></td><td class=\"Py(10px) Pstart(10px)\"><span>25,400.64</span></td><td class=\"Py(10px) Pstart(10px)\"><span>377,800,000</span></td></tr><tr class=\"BdT Bdc($seperatorColor) Ta(end) Fz(s) Whs(nw)\"><td class=\"Py(10px) Ta(start) Pend(10px)\"><span>May 27, 2020</span></td><td class=\"Py(10px) Pstart(10px)\"><span>25,298.63</span></td><td class=\"Py(10px) Pstart(10px)\"><span>25,551.56</span></td><td class=\"Py(10px) Pstart(10px)\"><span>25,009.87</span></td><td class=\"Py(10px) Pstart(10px)\"><span>25,548.27</span></td><td class=\"Py(10px) Pstart(10px)\"><span>25,548.27</span></td><td class=\"Py(10px) Pstart(10px)\"><span>411,230,000</span></td></tr><tr class=\"BdT Bdc($seperatorColor) Ta(end) Fz(s) Whs(nw)\"><td class=\"Py(10px) Ta(start) Pend(10px)\"><span>May 26, 2020</span></td><td class=\"Py(10px) Pstart(10px)\"><span>24,781.84</span></td><td class=\"Py(10px) Pstart(10px)\"><span>25,176.42</span></td><td class=\"Py(10px) Pstart(10px)\"><span>24,781.84</span></td><td class=\"Py(10px) Pstart(10px)\"><span>24,995.11</span></td><td class=\"Py(10px) Pstart(10px)\"><span>24,995.11</span></td><td class=\"Py(10px) Pstart(10px)\"><span>424,380,000</span></td></tr><tr class=\"BdT Bdc($seperatorColor) Ta(end) Fz(s) Whs(nw)\"><td class=\"Py(10px) Ta(start) Pend(10px)\"><span>May 22, 2020</span></td><td class=\"Py(10px) Pstart(10px)\"><span>24,461.98</span></td><td class=\"Py(10px) Pstart(10px)\"><span>24,481.64</span></td><td class=\"Py(10px) Pstart(10px)\"><span>24,294.07</span></td><td class=\"Py(10px) Pstart(10px)\"><span>24,465.16</span></td><td class=\"Py(10px) Pstart(10px)\"><span>24,465.16</span></td><td class=\"Py(10px) Pstart(10px)\"><span>255,660,000</span></td></tr><tr class=\"BdT Bdc($seperatorColor) Ta(end) Fz(s) Whs(nw)\"><td class=\"Py(10px) Ta(start) Pend(10px)\"><span>May 21, 2020</span></td><td class=\"Py(10px) Pstart(10px)\"><span>24,564.27</span></td><td class=\"Py(10px) Pstart(10px)\"><span>24,718.46</span></td><td class=\"Py(10px) Pstart(10px)\"><span>24,370.88</span></td><td class=\"Py(10px) Pstart(10px)\"><span>24,474.12</span></td><td class=\"Py(10px) Pstart(10px)\"><span>24,474.12</span></td><td class=\"Py(10px) Pstart(10px)\"><span>346,770,000</span></td></tr><tr class=\"BdT Bdc($seperatorColor) Ta(end) Fz(s) Whs(nw)\"><td class=\"Py(10px) Ta(start) Pend(10px)\"><span>May 20, 2020</span></td><td class=\"Py(10px) Pstart(10px)\"><span>24,455.94</span></td><td class=\"Py(10px) Pstart(10px)\"><span>24,649.48</span></td><td class=\"Py(10px) Pstart(10px)\"><span>24,455.94</span></td><td class=\"Py(10px) Pstart(10px)\"><span>24,575.90</span></td><td class=\"Py(10px) Pstart(10px)\"><span>24,575.90</span></td><td class=\"Py(10px) Pstart(10px)\"><span>366,510,000</span></td></tr><tr class=\"BdT Bdc($seperatorColor) Ta(end) Fz(s) Whs(nw)\"><td class=\"Py(10px) Ta(start) Pend(10px)\"><span>May 19, 2020</span></td><td class=\"Py(10px) Pstart(10px)\"><span>24,577.48</span></td><td class=\"Py(10px) Pstart(10px)\"><span>24,599.50</span></td><td class=\"Py(10px) Pstart(10px)\"><span>24,202.96</span></td><td class=\"Py(10px) Pstart(10px)\"><span>24,206.86</span></td><td class=\"Py(10px) Pstart(10px)\"><span>24,206.86</span></td><td class=\"Py(10px) Pstart(10px)\"><span>374,100,000</span></td></tr><tr class=\"BdT Bdc($seperatorColor) Ta(end) Fz(s) Whs(nw)\"><td class=\"Py(10px) Ta(start) Pend(10px)\"><span>May 18, 2020</span></td><td class=\"Py(10px) Pstart(10px)\"><span>24,059.98</span></td><td class=\"Py(10px) Pstart(10px)\"><span>24,708.54</span></td><td class=\"Py(10px) Pstart(10px)\"><span>24,059.98</span></td><td class=\"Py(10px) Pstart(10px)\"><span>24,597.37</span></td><td class=\"Py(10px) Pstart(10px)\"><span>24,597.37</span></td><td class=\"Py(10px) Pstart(10px)\"><span>484,190,000</span></td></tr><tr class=\"BdT Bdc($seperatorColor) Ta(end) Fz(s) Whs(nw)\"><td class=\"Py(10px) Ta(start) Pend(10px)\"><span>May 15, 2020</span></td><td class=\"Py(10px) Pstart(10px)\"><span>23,454.83</span></td><td class=\"Py(10px) Pstart(10px)\"><span>23,730.08</span></td><td class=\"Py(10px) Pstart(10px)\"><span>23,354.15</span></td><td class=\"Py(10px) Pstart(10px)\"><span>23,685.42</span></td><td class=\"Py(10px) Pstart(10px)\"><span>23,685.42</span></td><td class=\"Py(10px) Pstart(10px)\"><span>491,510,000</span></td></tr><tr class=\"BdT Bdc($seperatorColor) Ta(end) Fz(s) Whs(nw)\"><td class=\"Py(10px) Ta(start) Pend(10px)\"><span>May 14, 2020</span></td><td class=\"Py(10px) Pstart(10px)\"><span>23,049.06</span></td><td class=\"Py(10px) Pstart(10px)\"><span>23,630.86</span></td><td class=\"Py(10px) Pstart(10px)\"><span>22,789.62</span></td><td class=\"Py(10px) Pstart(10px)\"><span>23,625.34</span></td><td class=\"Py(10px) Pstart(10px)\"><span>23,625.34</span></td><td class=\"Py(10px) Pstart(10px)\"><span>472,700,000</span></td></tr><tr class=\"BdT Bdc($seperatorColor) Ta(end) Fz(s) Whs(nw)\"><td class=\"Py(10px) Ta(start) Pend(10px)\"><span>May 13, 2020</span></td><td class=\"Py(10px) Pstart(10px)\"><span>23,702.16</span></td><td class=\"Py(10px) Pstart(10px)\"><span>23,708.90</span></td><td class=\"Py(10px) Pstart(10px)\"><span>23,067.64</span></td><td class=\"Py(10px) Pstart(10px)\"><span>23,247.97</span></td><td class=\"Py(10px) Pstart(10px)\"><span>23,247.97</span></td><td class=\"Py(10px) Pstart(10px)\"><span>469,950,000</span></td></tr><tr class=\"BdT Bdc($seperatorColor) Ta(end) Fz(s) Whs(nw)\"><td class=\"Py(10px) Ta(start) Pend(10px)\"><span>May 12, 2020</span></td><td class=\"Py(10px) Pstart(10px)\"><span>24,292.84</span></td><td class=\"Py(10px) Pstart(10px)\"><span>24,382.09</span></td><td class=\"Py(10px) Pstart(10px)\"><span>23,761.58</span></td><td class=\"Py(10px) Pstart(10px)\"><span>23,764.78</span></td><td class=\"Py(10px) Pstart(10px)\"><span>23,764.78</span></td><td class=\"Py(10px) Pstart(10px)\"><span>359,480,000</span></td></tr><tr class=\"BdT Bdc($seperatorColor) Ta(end) Fz(s) Whs(nw)\"><td class=\"Py(10px) Ta(start) Pend(10px)\"><span>May 11, 2020</span></td><td class=\"Py(10px) Pstart(10px)\"><span>24,256.45</span></td><td class=\"Py(10px) Pstart(10px)\"><span>24,366.21</span></td><td class=\"Py(10px) Pstart(10px)\"><span>24,070.22</span></td><td class=\"Py(10px) Pstart(10px)\"><span>24,221.99</span></td><td class=\"Py(10px) Pstart(10px)\"><span>24,221.99</span></td><td class=\"Py(10px) Pstart(10px)\"><span>352,400,000</span></td></tr><tr class=\"BdT Bdc($seperatorColor) Ta(end) Fz(s) Whs(nw)\"><td class=\"Py(10px) Ta(start) Pend(10px)\"><span>May 08, 2020</span></td><td class=\"Py(10px) Pstart(10px)\"><span>24,107.82</span></td><td class=\"Py(10px) Pstart(10px)\"><span>24,349.90</span></td><td class=\"Py(10px) Pstart(10px)\"><span>24,107.05</span></td><td class=\"Py(10px) Pstart(10px)\"><span>24,331.32</span></td><td class=\"Py(10px) Pstart(10px)\"><span>24,331.32</span></td><td class=\"Py(10px) Pstart(10px)\"><span>335,760,000</span></td></tr><tr class=\"BdT Bdc($seperatorColor) Ta(end) Fz(s) Whs(nw)\"><td class=\"Py(10px) Ta(start) Pend(10px)\"><span>May 07, 2020</span></td><td class=\"Py(10px) Pstart(10px)\"><span>23,837.21</span></td><td class=\"Py(10px) Pstart(10px)\"><span>24,094.62</span></td><td class=\"Py(10px) Pstart(10px)\"><span>23,834.39</span></td><td class=\"Py(10px) Pstart(10px)\"><span>23,875.89</span></td><td class=\"Py(10px) Pstart(10px)\"><span>23,875.89</span></td><td class=\"Py(10px) Pstart(10px)\"><span>369,890,000</span></td></tr><tr class=\"BdT Bdc($seperatorColor) Ta(end) Fz(s) Whs(nw)\"><td class=\"Py(10px) Ta(start) Pend(10px)\"><span>May 06, 2020</span></td><td class=\"Py(10px) Pstart(10px)\"><span>23,978.88</span></td><td class=\"Py(10px) Pstart(10px)\"><span>24,054.59</span></td><td class=\"Py(10px) Pstart(10px)\"><span>23,661.14</span></td><td class=\"Py(10px) Pstart(10px)\"><span>23,664.64</span></td><td class=\"Py(10px) Pstart(10px)\"><span>23,664.64</span></td><td class=\"Py(10px) Pstart(10px)\"><span>377,450,000</span></td></tr><tr class=\"BdT Bdc($seperatorColor) Ta(end) Fz(s) Whs(nw)\"><td class=\"Py(10px) Ta(start) Pend(10px)\"><span>May 05, 2020</span></td><td class=\"Py(10px) Pstart(10px)\"><span>23,958.88</span></td><td class=\"Py(10px) Pstart(10px)\"><span>24,169.72</span></td><td class=\"Py(10px) Pstart(10px)\"><span>23,868.91</span></td><td class=\"Py(10px) Pstart(10px)\"><span>23,883.09</span></td><td class=\"Py(10px) Pstart(10px)\"><span>23,883.09</span></td><td class=\"Py(10px) Pstart(10px)\"><span>369,710,000</span></td></tr><tr class=\"BdT Bdc($seperatorColor) Ta(end) Fz(s) Whs(nw)\"><td class=\"Py(10px) Ta(start) Pend(10px)\"><span>May 04, 2020</span></td><td class=\"Py(10px) Pstart(10px)\"><span>23,581.55</span></td><td class=\"Py(10px) Pstart(10px)\"><span>23,769.56</span></td><td class=\"Py(10px) Pstart(10px)\"><span>23,361.16</span></td><td class=\"Py(10px) Pstart(10px)\"><span>23,749.76</span></td><td class=\"Py(10px) Pstart(10px)\"><span>23,749.76</span></td><td class=\"Py(10px) Pstart(10px)\"><span>355,360,000</span></td></tr><tr class=\"BdT Bdc($seperatorColor) Ta(end) Fz(s) Whs(nw)\"><td class=\"Py(10px) Ta(start) Pend(10px)\"><span>May 01, 2020</span></td><td class=\"Py(10px) Pstart(10px)\"><span>24,120.78</span></td><td class=\"Py(10px) Pstart(10px)\"><span>24,120.78</span></td><td class=\"Py(10px) Pstart(10px)\"><span>23,645.30</span></td><td class=\"Py(10px) Pstart(10px)\"><span>23,723.69</span></td><td class=\"Py(10px) Pstart(10px)\"><span>23,723.69</span></td><td class=\"Py(10px) Pstart(10px)\"><span>418,160,000</span></td></tr><tr class=\"BdT Bdc($seperatorColor) Ta(end) Fz(s) Whs(nw)\"><td class=\"Py(10px) Ta(start) Pend(10px)\"><span>Apr 30, 2020</span></td><td class=\"Py(10px) Pstart(10px)\"><span>24,585.57</span></td><td class=\"Py(10px) Pstart(10px)\"><span>24,585.57</span></td><td class=\"Py(10px) Pstart(10px)\"><span>24,186.90</span></td><td class=\"Py(10px) Pstart(10px)\"><span>24,345.72</span></td><td class=\"Py(10px) Pstart(10px)\"><span>24,345.72</span></td><td class=\"Py(10px) Pstart(10px)\"><span>478,280,000</span></td></tr><tr class=\"BdT Bdc($seperatorColor) Ta(end) Fz(s) Whs(nw)\"><td class=\"Py(10px) Ta(start) Pend(10px)\"><span>Apr 29, 2020</span></td><td class=\"Py(10px) Pstart(10px)\"><span>24,490.37</span></td><td class=\"Py(10px) Pstart(10px)\"><span>24,764.77</span></td><td class=\"Py(10px) Pstart(10px)\"><span>24,453.99</span></td><td class=\"Py(10px) Pstart(10px)\"><span>24,633.86</span></td><td class=\"Py(10px) Pstart(10px)\"><span>24,633.86</span></td><td class=\"Py(10px) Pstart(10px)\"><span>455,290,000</span></td></tr><tr class=\"BdT Bdc($seperatorColor) Ta(end) Fz(s) Whs(nw)\"><td class=\"Py(10px) Ta(start) Pend(10px)\"><span>Apr 28, 2020</span></td><td class=\"Py(10px) Pstart(10px)\"><span>24,357.17</span></td><td class=\"Py(10px) Pstart(10px)\"><span>24,512.24</span></td><td class=\"Py(10px) Pstart(10px)\"><span>24,031.20</span></td><td class=\"Py(10px) Pstart(10px)\"><span>24,101.55</span></td><td class=\"Py(10px) Pstart(10px)\"><span>24,101.55</span></td><td class=\"Py(10px) Pstart(10px)\"><span>400,250,000</span></td></tr><tr class=\"BdT Bdc($seperatorColor) Ta(end) Fz(s) Whs(nw)\"><td class=\"Py(10px) Ta(start) Pend(10px)\"><span>Apr 27, 2020</span></td><td class=\"Py(10px) Pstart(10px)\"><span>23,866.15</span></td><td class=\"Py(10px) Pstart(10px)\"><span>24,207.65</span></td><td class=\"Py(10px) Pstart(10px)\"><span>23,840.61</span></td><td class=\"Py(10px) Pstart(10px)\"><span>24,133.78</span></td><td class=\"Py(10px) Pstart(10px)\"><span>24,133.78</span></td><td class=\"Py(10px) Pstart(10px)\"><span>389,390,000</span></td></tr><tr class=\"BdT Bdc($seperatorColor) Ta(end) Fz(s) Whs(nw)\"><td class=\"Py(10px) Ta(start) Pend(10px)\"><span>Apr 24, 2020</span></td><td class=\"Py(10px) Pstart(10px)\"><span>23,628.24</span></td><td class=\"Py(10px) Pstart(10px)\"><span>23,826.00</span></td><td class=\"Py(10px) Pstart(10px)\"><span>23,417.68</span></td><td class=\"Py(10px) Pstart(10px)\"><span>23,775.27</span></td><td class=\"Py(10px) Pstart(10px)\"><span>23,775.27</span></td><td class=\"Py(10px) Pstart(10px)\"><span>376,020,000</span></td></tr><tr class=\"BdT Bdc($seperatorColor) Ta(end) Fz(s) Whs(nw)\"><td class=\"Py(10px) Ta(start) Pend(10px)\"><span>Apr 23, 2020</span></td><td class=\"Py(10px) Pstart(10px)\"><span>23,543.09</span></td><td class=\"Py(10px) Pstart(10px)\"><span>23,885.36</span></td><td class=\"Py(10px) Pstart(10px)\"><span>23,483.35</span></td><td class=\"Py(10px) Pstart(10px)\"><span>23,515.26</span></td><td class=\"Py(10px) Pstart(10px)\"><span>23,515.26</span></td><td class=\"Py(10px) Pstart(10px)\"><span>389,290,000</span></td></tr><tr class=\"BdT Bdc($seperatorColor) Ta(end) Fz(s) Whs(nw)\"><td class=\"Py(10px) Ta(start) Pend(10px)\"><span>Apr 22, 2020</span></td><td class=\"Py(10px) Pstart(10px)\"><span>23,437.34</span></td><td class=\"Py(10px) Pstart(10px)\"><span>23,613.10</span></td><td class=\"Py(10px) Pstart(10px)\"><span>23,339.60</span></td><td class=\"Py(10px) Pstart(10px)\"><span>23,475.82</span></td><td class=\"Py(10px) Pstart(10px)\"><span>23,475.82</span></td><td class=\"Py(10px) Pstart(10px)\"><span>352,880,000</span></td></tr><tr class=\"BdT Bdc($seperatorColor) Ta(end) Fz(s) Whs(nw)\"><td class=\"Py(10px) Ta(start) Pend(10px)\"><span>Apr 21, 2020</span></td><td class=\"Py(10px) Pstart(10px)\"><span>23,365.25</span></td><td class=\"Py(10px) Pstart(10px)\"><span>23,365.25</span></td><td class=\"Py(10px) Pstart(10px)\"><span>22,941.88</span></td><td class=\"Py(10px) Pstart(10px)\"><span>23,018.88</span></td><td class=\"Py(10px) Pstart(10px)\"><span>23,018.88</span></td><td class=\"Py(10px) Pstart(10px)\"><span>485,140,000</span></td></tr><tr class=\"BdT Bdc($seperatorColor) Ta(end) Fz(s) Whs(nw)\"><td class=\"Py(10px) Ta(start) Pend(10px)\"><span>Apr 20, 2020</span></td><td class=\"Py(10px) Pstart(10px)\"><span>24,095.10</span></td><td class=\"Py(10px) Pstart(10px)\"><span>24,108.69</span></td><td class=\"Py(10px) Pstart(10px)\"><span>23,627.19</span></td><td class=\"Py(10px) Pstart(10px)\"><span>23,650.44</span></td><td class=\"Py(10px) Pstart(10px)\"><span>23,650.44</span></td><td class=\"Py(10px) Pstart(10px)\"><span>423,410,000</span></td></tr><tr class=\"BdT Bdc($seperatorColor) Ta(end) Fz(s) Whs(nw)\"><td class=\"Py(10px) Ta(start) Pend(10px)\"><span>Apr 17, 2020</span></td><td class=\"Py(10px) Pstart(10px)\"><span>23,817.15</span></td><td class=\"Py(10px) Pstart(10px)\"><span>24,264.21</span></td><td class=\"Py(10px) Pstart(10px)\"><span>23,817.15</span></td><td class=\"Py(10px) Pstart(10px)\"><span>24,242.49</span></td><td class=\"Py(10px) Pstart(10px)\"><span>24,242.49</span></td><td class=\"Py(10px) Pstart(10px)\"><span>525,950,000</span></td></tr><tr class=\"BdT Bdc($seperatorColor) Ta(end) Fz(s) Whs(nw)\"><td class=\"Py(10px) Ta(start) Pend(10px)\"><span>Apr 16, 2020</span></td><td class=\"Py(10px) Pstart(10px)\"><span>23,543.66</span></td><td class=\"Py(10px) Pstart(10px)\"><span>23,598.08</span></td><td class=\"Py(10px) Pstart(10px)\"><span>23,211.38</span></td><td class=\"Py(10px) Pstart(10px)\"><span>23,537.68</span></td><td class=\"Py(10px) Pstart(10px)\"><span>23,537.68</span></td><td class=\"Py(10px) Pstart(10px)\"><span>471,050,000</span></td></tr><tr class=\"BdT Bdc($seperatorColor) Ta(end) Fz(s) Whs(nw)\"><td class=\"Py(10px) Ta(start) Pend(10px)\"><span>Apr 15, 2020</span></td><td class=\"Py(10px) Pstart(10px)\"><span>23,600.72</span></td><td class=\"Py(10px) Pstart(10px)\"><span>23,649.72</span></td><td class=\"Py(10px) Pstart(10px)\"><span>23,233.32</span></td><td class=\"Py(10px) Pstart(10px)\"><span>23,504.35</span></td><td class=\"Py(10px) Pstart(10px)\"><span>23,504.35</span></td><td class=\"Py(10px) Pstart(10px)\"><span>437,630,000</span></td></tr><tr class=\"BdT Bdc($seperatorColor) Ta(end) Fz(s) Whs(nw)\"><td class=\"Py(10px) Ta(start) Pend(10px)\"><span>Apr 14, 2020</span></td><td class=\"Py(10px) Pstart(10px)\"><span>23,690.57</span></td><td class=\"Py(10px) Pstart(10px)\"><span>24,040.58</span></td><td class=\"Py(10px) Pstart(10px)\"><span>23,683.44</span></td><td class=\"Py(10px) Pstart(10px)\"><span>23,949.76</span></td><td class=\"Py(10px) Pstart(10px)\"><span>23,949.76</span></td><td class=\"Py(10px) Pstart(10px)\"><span>485,910,000</span></td></tr><tr class=\"BdT Bdc($seperatorColor) Ta(end) Fz(s) Whs(nw)\"><td class=\"Py(10px) Ta(start) Pend(10px)\"><span>Apr 13, 2020</span></td><td class=\"Py(10px) Pstart(10px)\"><span>23,698.93</span></td><td class=\"Py(10px) Pstart(10px)\"><span>23,698.93</span></td><td class=\"Py(10px) Pstart(10px)\"><span>23,095.35</span></td><td class=\"Py(10px) Pstart(10px)\"><span>23,390.77</span></td><td class=\"Py(10px) Pstart(10px)\"><span>23,390.77</span></td><td class=\"Py(10px) Pstart(10px)\"><span>394,320,000</span></td></tr><tr class=\"BdT Bdc($seperatorColor) Ta(end) Fz(s) Whs(nw)\"><td class=\"Py(10px) Ta(start) Pend(10px)\"><span>Apr 09, 2020</span></td><td class=\"Py(10px) Pstart(10px)\"><span>23,690.66</span></td><td class=\"Py(10px) Pstart(10px)\"><span>24,008.99</span></td><td class=\"Py(10px) Pstart(10px)\"><span>23,504.09</span></td><td class=\"Py(10px) Pstart(10px)\"><span>23,719.37</span></td><td class=\"Py(10px) Pstart(10px)\"><span>23,719.37</span></td><td class=\"Py(10px) Pstart(10px)\"><span>566,400,000</span></td></tr><tr class=\"BdT Bdc($seperatorColor) Ta(end) Fz(s) Whs(nw)\"><td class=\"Py(10px) Ta(start) Pend(10px)\"><span>Apr 08, 2020</span></td><td class=\"Py(10px) Pstart(10px)\"><span>22,893.47</span></td><td class=\"Py(10px) Pstart(10px)\"><span>23,513.40</span></td><td class=\"Py(10px) Pstart(10px)\"><span>22,682.99</span></td><td class=\"Py(10px) Pstart(10px)\"><span>23,433.57</span></td><td class=\"Py(10px) Pstart(10px)\"><span>23,433.57</span></td><td class=\"Py(10px) Pstart(10px)\"><span>472,740,000</span></td></tr><tr class=\"BdT Bdc($seperatorColor) Ta(end) Fz(s) Whs(nw)\"><td class=\"Py(10px) Ta(start) Pend(10px)\"><span>Apr 07, 2020</span></td><td class=\"Py(10px) Pstart(10px)\"><span>23,537.44</span></td><td class=\"Py(10px) Pstart(10px)\"><span>23,617.24</span></td><td class=\"Py(10px) Pstart(10px)\"><span>22,634.45</span></td><td class=\"Py(10px) Pstart(10px)\"><span>22,653.86</span></td><td class=\"Py(10px) Pstart(10px)\"><span>22,653.86</span></td><td class=\"Py(10px) Pstart(10px)\"><span>594,660,000</span></td></tr><tr class=\"BdT Bdc($seperatorColor) Ta(end) Fz(s) Whs(nw)\"><td class=\"Py(10px) Ta(start) Pend(10px)\"><span>Apr 06, 2020</span></td><td class=\"Py(10px) Pstart(10px)\"><span>21,693.63</span></td><td class=\"Py(10px) Pstart(10px)\"><span>22,783.45</span></td><td class=\"Py(10px) Pstart(10px)\"><span>21,693.63</span></td><td class=\"Py(10px) Pstart(10px)\"><span>22,679.99</span></td><td class=\"Py(10px) Pstart(10px)\"><span>22,679.99</span></td><td class=\"Py(10px) Pstart(10px)\"><span>610,760,000</span></td></tr><tr class=\"BdT Bdc($seperatorColor) Ta(end) Fz(s) Whs(nw)\"><td class=\"Py(10px) Ta(start) Pend(10px)\"><span>Apr 03, 2020</span></td><td class=\"Py(10px) Pstart(10px)\"><span>21,285.93</span></td><td class=\"Py(10px) Pstart(10px)\"><span>21,447.81</span></td><td class=\"Py(10px) Pstart(10px)\"><span>20,863.09</span></td><td class=\"Py(10px) Pstart(10px)\"><span>21,052.53</span></td><td class=\"Py(10px) Pstart(10px)\"><span>21,052.53</span></td><td class=\"Py(10px) Pstart(10px)\"><span>450,010,000</span></td></tr><tr class=\"BdT Bdc($seperatorColor) Ta(end) Fz(s) Whs(nw)\"><td class=\"Py(10px) Ta(start) Pend(10px)\"><span>Apr 02, 2020</span></td><td class=\"Py(10px) Pstart(10px)\"><span>20,819.46</span></td><td class=\"Py(10px) Pstart(10px)\"><span>21,477.77</span></td><td class=\"Py(10px) Pstart(10px)\"><span>20,735.02</span></td><td class=\"Py(10px) Pstart(10px)\"><span>21,413.44</span></td><td class=\"Py(10px) Pstart(10px)\"><span>21,413.44</span></td><td class=\"Py(10px) Pstart(10px)\"><span>529,540,000</span></td></tr><tr class=\"BdT Bdc($seperatorColor) Ta(end) Fz(s) Whs(nw)\"><td class=\"Py(10px) Ta(start) Pend(10px)\"><span>Apr 01, 2020</span></td><td class=\"Py(10px) Pstart(10px)\"><span>21,227.38</span></td><td class=\"Py(10px) Pstart(10px)\"><span>21,487.24</span></td><td class=\"Py(10px) Pstart(10px)\"><span>20,784.43</span></td><td class=\"Py(10px) Pstart(10px)\"><span>20,943.51</span></td><td class=\"Py(10px) Pstart(10px)\"><span>20,943.51</span></td><td class=\"Py(10px) Pstart(10px)\"><span>506,680,000</span></td></tr><tr class=\"BdT Bdc($seperatorColor) Ta(end) Fz(s) Whs(nw)\"><td class=\"Py(10px) Ta(start) Pend(10px)\"><span>Mar 31, 2020</span></td><td class=\"Py(10px) Pstart(10px)\"><span>22,208.42</span></td><td class=\"Py(10px) Pstart(10px)\"><span>22,480.37</span></td><td class=\"Py(10px) Pstart(10px)\"><span>21,852.08</span></td><td class=\"Py(10px) Pstart(10px)\"><span>21,917.16</span></td><td class=\"Py(10px) Pstart(10px)\"><span>21,917.16</span></td><td class=\"Py(10px) Pstart(10px)\"><span>571,210,000</span></td></tr><tr class=\"BdT Bdc($seperatorColor) Ta(end) Fz(s) Whs(nw)\"><td class=\"Py(10px) Ta(start) Pend(10px)\"><span>Mar 30, 2020</span></td><td class=\"Py(10px) Pstart(10px)\"><span>21,678.22</span></td><td class=\"Py(10px) Pstart(10px)\"><span>22,378.09</span></td><td class=\"Py(10px) Pstart(10px)\"><span>21,522.08</span></td><td class=\"Py(10px) Pstart(10px)\"><span>22,327.48</span></td><td class=\"Py(10px) Pstart(10px)\"><span>22,327.48</span></td><td class=\"Py(10px) Pstart(10px)\"><span>545,540,000</span></td></tr><tr class=\"BdT Bdc($seperatorColor) Ta(end) Fz(s) Whs(nw)\"><td class=\"Py(10px) Ta(start) Pend(10px)\"><span>Mar 27, 2020</span></td><td class=\"Py(10px) Pstart(10px)\"><span>21,898.47</span></td><td class=\"Py(10px) Pstart(10px)\"><span>22,327.57</span></td><td class=\"Py(10px) Pstart(10px)\"><span>21,469.27</span></td><td class=\"Py(10px) Pstart(10px)\"><span>21,636.78</span></td><td class=\"Py(10px) Pstart(10px)\"><span>21,636.78</span></td><td class=\"Py(10px) Pstart(10px)\"><span>588,830,000</span></td></tr><tr class=\"BdT Bdc($seperatorColor) Ta(end) Fz(s) Whs(nw)\"><td class=\"Py(10px) Ta(start) Pend(10px)\"><span>Mar 26, 2020</span></td><td class=\"Py(10px) Pstart(10px)\"><span>21,468.38</span></td><td class=\"Py(10px) Pstart(10px)\"><span>22,595.06</span></td><td class=\"Py(10px) Pstart(10px)\"><span>21,427.10</span></td><td class=\"Py(10px) Pstart(10px)\"><span>22,552.17</span></td><td class=\"Py(10px) Pstart(10px)\"><span>22,552.17</span></td><td class=\"Py(10px) Pstart(10px)\"><span>705,180,000</span></td></tr><tr class=\"BdT Bdc($seperatorColor) Ta(end) Fz(s) Whs(nw)\"><td class=\"Py(10px) Ta(start) Pend(10px)\"><span>Mar 25, 2020</span></td><td class=\"Py(10px) Pstart(10px)\"><span>21,050.34</span></td><td class=\"Py(10px) Pstart(10px)\"><span>22,019.93</span></td><td class=\"Py(10px) Pstart(10px)\"><span>20,538.34</span></td><td class=\"Py(10px) Pstart(10px)\"><span>21,200.55</span></td><td class=\"Py(10px) Pstart(10px)\"><span>21,200.55</span></td><td class=\"Py(10px) Pstart(10px)\"><span>796,320,000</span></td></tr><tr class=\"BdT Bdc($seperatorColor) Ta(end) Fz(s) Whs(nw)\"><td class=\"Py(10px) Ta(start) Pend(10px)\"><span>Mar 24, 2020</span></td><td class=\"Py(10px) Pstart(10px)\"><span>19,722.19</span></td><td class=\"Py(10px) Pstart(10px)\"><span>20,737.70</span></td><td class=\"Py(10px) Pstart(10px)\"><span>19,649.25</span></td><td class=\"Py(10px) Pstart(10px)\"><span>20,704.91</span></td><td class=\"Py(10px) Pstart(10px)\"><span>20,704.91</span></td><td class=\"Py(10px) Pstart(10px)\"><span>799,340,000</span></td></tr><tr class=\"BdT Bdc($seperatorColor) Ta(end) Fz(s) Whs(nw)\"><td class=\"Py(10px) Ta(start) Pend(10px)\"><span>Mar 23, 2020</span></td><td class=\"Py(10px) Pstart(10px)\"><span>19,028.36</span></td><td class=\"Py(10px) Pstart(10px)\"><span>19,121.01</span></td><td class=\"Py(10px) Pstart(10px)\"><span>18,213.65</span></td><td class=\"Py(10px) Pstart(10px)\"><span>18,591.93</span></td><td class=\"Py(10px) Pstart(10px)\"><span>18,591.93</span></td><td class=\"Py(10px) Pstart(10px)\"><span>787,970,000</span></td></tr><tr class=\"BdT Bdc($seperatorColor) Ta(end) Fz(s) Whs(nw)\"><td class=\"Py(10px) Ta(start) Pend(10px)\"><span>Mar 20, 2020</span></td><td class=\"Py(10px) Pstart(10px)\"><span>20,253.15</span></td><td class=\"Py(10px) Pstart(10px)\"><span>20,531.26</span></td><td class=\"Py(10px) Pstart(10px)\"><span>19,094.27</span></td><td class=\"Py(10px) Pstart(10px)\"><span>19,173.98</span></td><td class=\"Py(10px) Pstart(10px)\"><span>19,173.98</span></td><td class=\"Py(10px) Pstart(10px)\"><span>872,290,000</span></td></tr><tr class=\"BdT Bdc($seperatorColor) Ta(end) Fz(s) Whs(nw)\"><td class=\"Py(10px) Ta(start) Pend(10px)\"><span>Mar 19, 2020</span></td><td class=\"Py(10px) Pstart(10px)\"><span>19,830.01</span></td><td class=\"Py(10px) Pstart(10px)\"><span>20,442.63</span></td><td class=\"Py(10px) Pstart(10px)\"><span>19,177.13</span></td><td class=\"Py(10px) Pstart(10px)\"><span>20,087.19</span></td><td class=\"Py(10px) Pstart(10px)\"><span>20,087.19</span></td><td class=\"Py(10px) Pstart(10px)\"><span>780,300,000</span></td></tr><tr class=\"BdT Bdc($seperatorColor) Ta(end) Fz(s) Whs(nw)\"><td class=\"Py(10px) Ta(start) Pend(10px)\"><span>Mar 18, 2020</span></td><td class=\"Py(10px) Pstart(10px)\"><span>20,188.69</span></td><td class=\"Py(10px) Pstart(10px)\"><span>20,489.33</span></td><td class=\"Py(10px) Pstart(10px)\"><span>18,917.46</span></td><td class=\"Py(10px) Pstart(10px)\"><span>19,898.92</span></td><td class=\"Py(10px) Pstart(10px)\"><span>19,898.92</span></td><td class=\"Py(10px) Pstart(10px)\"><span>871,360,000</span></td></tr><tr class=\"BdT Bdc($seperatorColor) Ta(end) Fz(s) Whs(nw)\"><td class=\"Py(10px) Ta(start) Pend(10px)\"><span>Mar 17, 2020</span></td><td class=\"Py(10px) Pstart(10px)\"><span>20,487.05</span></td><td class=\"Py(10px) Pstart(10px)\"><span>21,379.35</span></td><td class=\"Py(10px) Pstart(10px)\"><span>19,882.26</span></td><td class=\"Py(10px) Pstart(10px)\"><span>21,237.38</span></td><td class=\"Py(10px) Pstart(10px)\"><span>21,237.38</span></td><td class=\"Py(10px) Pstart(10px)\"><span>793,060,000</span></td></tr><tr class=\"BdT Bdc($seperatorColor) Ta(end) Fz(s) Whs(nw)\"><td class=\"Py(10px) Ta(start) Pend(10px)\"><span>Mar 16, 2020</span></td><td class=\"Py(10px) Pstart(10px)\"><span>20,917.53</span></td><td class=\"Py(10px) Pstart(10px)\"><span>21,768.28</span></td><td class=\"Py(10px) Pstart(10px)\"><span>20,116.46</span></td><td class=\"Py(10px) Pstart(10px)\"><span>20,188.52</span></td><td class=\"Py(10px) Pstart(10px)\"><span>20,188.52</span></td><td class=\"Py(10px) Pstart(10px)\"><span>770,130,000</span></td></tr><tr class=\"BdT Bdc($seperatorColor) Ta(end) Fz(s) Whs(nw)\"><td class=\"Py(10px) Ta(start) Pend(10px)\"><span>Mar 13, 2020</span></td><td class=\"Py(10px) Pstart(10px)\"><span>21,973.82</span></td><td class=\"Py(10px) Pstart(10px)\"><span>23,189.76</span></td><td class=\"Py(10px) Pstart(10px)\"><span>21,285.37</span></td><td class=\"Py(10px) Pstart(10px)\"><span>23,185.62</span></td><td class=\"Py(10px) Pstart(10px)\"><span>23,185.62</span></td><td class=\"Py(10px) Pstart(10px)\"><span>843,080,000</span></td></tr><tr class=\"BdT Bdc($seperatorColor) Ta(end) Fz(s) Whs(nw)\"><td class=\"Py(10px) Ta(start) Pend(10px)\"><span>Mar 12, 2020</span></td><td class=\"Py(10px) Pstart(10px)\"><span>22,184.71</span></td><td class=\"Py(10px) Pstart(10px)\"><span>22,837.95</span></td><td class=\"Py(10px) Pstart(10px)\"><span>21,154.46</span></td><td class=\"Py(10px) Pstart(10px)\"><span>21,200.62</span></td><td class=\"Py(10px) Pstart(10px)\"><span>21,200.62</span></td><td class=\"Py(10px) Pstart(10px)\"><span>908,260,000</span></td></tr><tr class=\"BdT Bdc($seperatorColor) Ta(end) Fz(s) Whs(nw)\"><td class=\"Py(10px) Ta(start) Pend(10px)\"><span>Mar 11, 2020</span></td><td class=\"Py(10px) Pstart(10px)\"><span>24,604.63</span></td><td class=\"Py(10px) Pstart(10px)\"><span>24,604.63</span></td><td class=\"Py(10px) Pstart(10px)\"><span>23,328.32</span></td><td class=\"Py(10px) Pstart(10px)\"><span>23,553.22</span></td><td class=\"Py(10px) Pstart(10px)\"><span>23,553.22</span></td><td class=\"Py(10px) Pstart(10px)\"><span>663,960,000</span></td></tr><tr class=\"BdT Bdc($seperatorColor) Ta(end) Fz(s) Whs(nw)\"><td class=\"Py(10px) Ta(start) Pend(10px)\"><span>Mar 10, 2020</span></td><td class=\"Py(10px) Pstart(10px)\"><span>24,453.00</span></td><td class=\"Py(10px) Pstart(10px)\"><span>25,020.99</span></td><td class=\"Py(10px) Pstart(10px)\"><span>23,690.34</span></td><td class=\"Py(10px) Pstart(10px)\"><span>25,018.16</span></td><td class=\"Py(10px) Pstart(10px)\"><span>25,018.16</span></td><td class=\"Py(10px) Pstart(10px)\"><span>654,860,000</span></td></tr><tr class=\"BdT Bdc($seperatorColor) Ta(end) Fz(s) Whs(nw)\"><td class=\"Py(10px) Ta(start) Pend(10px)\"><span>Mar 09, 2020</span></td><td class=\"Py(10px) Pstart(10px)\"><span>24,992.36</span></td><td class=\"Py(10px) Pstart(10px)\"><span>24,992.36</span></td><td class=\"Py(10px) Pstart(10px)\"><span>23,706.07</span></td><td class=\"Py(10px) Pstart(10px)\"><span>23,851.02</span></td><td class=\"Py(10px) Pstart(10px)\"><span>23,851.02</span></td><td class=\"Py(10px) Pstart(10px)\"><span>750,430,000</span></td></tr><tr class=\"BdT Bdc($seperatorColor) Ta(end) Fz(s) Whs(nw)\"><td class=\"Py(10px) Ta(start) Pend(10px)\"><span>Mar 06, 2020</span></td><td class=\"Py(10px) Pstart(10px)\"><span>25,457.21</span></td><td class=\"Py(10px) Pstart(10px)\"><span>25,994.38</span></td><td class=\"Py(10px) Pstart(10px)\"><span>25,226.62</span></td><td class=\"Py(10px) Pstart(10px)\"><span>25,864.78</span></td><td class=\"Py(10px) Pstart(10px)\"><span>25,864.78</span></td><td class=\"Py(10px) Pstart(10px)\"><span>599,780,000</span></td></tr><tr class=\"BdT Bdc($seperatorColor) Ta(end) Fz(s) Whs(nw)\"><td class=\"Py(10px) Ta(start) Pend(10px)\"><span>Mar 05, 2020</span></td><td class=\"Py(10px) Pstart(10px)\"><span>26,671.92</span></td><td class=\"Py(10px) Pstart(10px)\"><span>26,671.92</span></td><td class=\"Py(10px) Pstart(10px)\"><span>25,943.33</span></td><td class=\"Py(10px) Pstart(10px)\"><span>26,121.28</span></td><td class=\"Py(10px) Pstart(10px)\"><span>26,121.28</span></td><td class=\"Py(10px) Pstart(10px)\"><span>477,370,000</span></td></tr><tr class=\"BdT Bdc($seperatorColor) Ta(end) Fz(s) Whs(nw)\"><td class=\"Py(10px) Ta(start) Pend(10px)\"><span>Mar 04, 2020</span></td><td class=\"Py(10px) Pstart(10px)\"><span>26,383.68</span></td><td class=\"Py(10px) Pstart(10px)\"><span>27,102.34</span></td><td class=\"Py(10px) Pstart(10px)\"><span>26,286.31</span></td><td class=\"Py(10px) Pstart(10px)\"><span>27,090.86</span></td><td class=\"Py(10px) Pstart(10px)\"><span>27,090.86</span></td><td class=\"Py(10px) Pstart(10px)\"><span>457,590,000</span></td></tr><tr class=\"BdT Bdc($seperatorColor) Ta(end) Fz(s) Whs(nw)\"><td class=\"Py(10px) Ta(start) Pend(10px)\"><span>Mar 03, 2020</span></td><td class=\"Py(10px) Pstart(10px)\"><span>26,762.47</span></td><td class=\"Py(10px) Pstart(10px)\"><span>27,084.59</span></td><td class=\"Py(10px) Pstart(10px)\"><span>25,706.28</span></td><td class=\"Py(10px) Pstart(10px)\"><span>25,917.41</span></td><td class=\"Py(10px) Pstart(10px)\"><span>25,917.41</span></td><td class=\"Py(10px) Pstart(10px)\"><span>647,080,000</span></td></tr><tr class=\"BdT Bdc($seperatorColor) Ta(end) Fz(s) Whs(nw)\"><td class=\"Py(10px) Ta(start) Pend(10px)\"><span>Mar 02, 2020</span></td><td class=\"Py(10px) Pstart(10px)\"><span>25,590.51</span></td><td class=\"Py(10px) Pstart(10px)\"><span>26,706.17</span></td><td class=\"Py(10px) Pstart(10px)\"><span>25,391.96</span></td><td class=\"Py(10px) Pstart(10px)\"><span>26,703.32</span></td><td class=\"Py(10px) Pstart(10px)\"><span>26,703.32</span></td><td class=\"Py(10px) Pstart(10px)\"><span>637,200,000</span></td></tr><tr class=\"BdT Bdc($seperatorColor) Ta(end) Fz(s) Whs(nw)\"><td class=\"Py(10px) Ta(start) Pend(10px)\"><span>Feb 28, 2020</span></td><td class=\"Py(10px) Pstart(10px)\"><span>25,270.83</span></td><td class=\"Py(10px) Pstart(10px)\"><span>25,494.24</span></td><td class=\"Py(10px) Pstart(10px)\"><span>24,681.01</span></td><td class=\"Py(10px) Pstart(10px)\"><span>25,409.36</span></td><td class=\"Py(10px) Pstart(10px)\"><span>25,409.36</span></td><td class=\"Py(10px) Pstart(10px)\"><span>915,990,000</span></td></tr><tr class=\"BdT Bdc($seperatorColor) Ta(end) Fz(s) Whs(nw)\"><td class=\"Py(10px) Ta(start) Pend(10px)\"><span>Feb 27, 2020</span></td><td class=\"Py(10px) Pstart(10px)\"><span>26,526.00</span></td><td class=\"Py(10px) Pstart(10px)\"><span>26,775.31</span></td><td class=\"Py(10px) Pstart(10px)\"><span>25,752.82</span></td><td class=\"Py(10px) Pstart(10px)\"><span>25,766.64</span></td><td class=\"Py(10px) Pstart(10px)\"><span>25,766.64</span></td><td class=\"Py(10px) Pstart(10px)\"><span>664,980,000</span></td></tr><tr class=\"BdT Bdc($seperatorColor) Ta(end) Fz(s) Whs(nw)\"><td class=\"Py(10px) Ta(start) Pend(10px)\"><span>Feb 26, 2020</span></td><td class=\"Py(10px) Pstart(10px)\"><span>27,159.46</span></td><td class=\"Py(10px) Pstart(10px)\"><span>27,542.78</span></td><td class=\"Py(10px) Pstart(10px)\"><span>26,890.97</span></td><td class=\"Py(10px) Pstart(10px)\"><span>26,957.59</span></td><td class=\"Py(10px) Pstart(10px)\"><span>26,957.59</span></td><td class=\"Py(10px) Pstart(10px)\"><span>472,450,000</span></td></tr><tr class=\"BdT Bdc($seperatorColor) Ta(end) Fz(s) Whs(nw)\"><td class=\"Py(10px) Ta(start) Pend(10px)\"><span>Feb 25, 2020</span></td><td class=\"Py(10px) Pstart(10px)\"><span>28,037.65</span></td><td class=\"Py(10px) Pstart(10px)\"><span>28,149.20</span></td><td class=\"Py(10px) Pstart(10px)\"><span>26,997.62</span></td><td class=\"Py(10px) Pstart(10px)\"><span>27,081.36</span></td><td class=\"Py(10px) Pstart(10px)\"><span>27,081.36</span></td><td class=\"Py(10px) Pstart(10px)\"><span>513,270,000</span></td></tr><tr class=\"BdT Bdc($seperatorColor) Ta(end) Fz(s) Whs(nw)\"><td class=\"Py(10px) Ta(start) Pend(10px)\"><span>Feb 24, 2020</span></td><td class=\"Py(10px) Pstart(10px)\"><span>28,402.93</span></td><td class=\"Py(10px) Pstart(10px)\"><span>28,402.93</span></td><td class=\"Py(10px) Pstart(10px)\"><span>27,912.44</span></td><td class=\"Py(10px) Pstart(10px)\"><span>27,960.80</span></td><td class=\"Py(10px) Pstart(10px)\"><span>27,960.80</span></td><td class=\"Py(10px) Pstart(10px)\"><span>452,580,000</span></td></tr><tr class=\"BdT Bdc($seperatorColor) Ta(end) Fz(s) Whs(nw)\"><td class=\"Py(10px) Ta(start) Pend(10px)\"><span>Feb 21, 2020</span></td><td class=\"Py(10px) Pstart(10px)\"><span>29,146.53</span></td><td class=\"Py(10px) Pstart(10px)\"><span>29,146.53</span></td><td class=\"Py(10px) Pstart(10px)\"><span>28,892.70</span></td><td class=\"Py(10px) Pstart(10px)\"><span>28,992.41</span></td><td class=\"Py(10px) Pstart(10px)\"><span>28,992.41</span></td><td class=\"Py(10px) Pstart(10px)\"><span>311,210,000</span></td></tr><tr class=\"BdT Bdc($seperatorColor) Ta(end) Fz(s) Whs(nw)\"><td class=\"Py(10px) Ta(start) Pend(10px)\"><span>Feb 20, 2020</span></td><td class=\"Py(10px) Pstart(10px)\"><span>29,296.25</span></td><td class=\"Py(10px) Pstart(10px)\"><span>29,368.45</span></td><td class=\"Py(10px) Pstart(10px)\"><span>28,959.65</span></td><td class=\"Py(10px) Pstart(10px)\"><span>29,219.98</span></td><td class=\"Py(10px) Pstart(10px)\"><span>29,219.98</span></td><td class=\"Py(10px) Pstart(10px)\"><span>287,780,000</span></td></tr><tr class=\"BdT Bdc($seperatorColor) Ta(end) Fz(s) Whs(nw)\"><td class=\"Py(10px) Ta(start) Pend(10px)\"><span>Feb 19, 2020</span></td><td class=\"Py(10px) Pstart(10px)\"><span>29,312.70</span></td><td class=\"Py(10px) Pstart(10px)\"><span>29,409.09</span></td><td class=\"Py(10px) Pstart(10px)\"><span>29,274.38</span></td><td class=\"Py(10px) Pstart(10px)\"><span>29,348.03</span></td><td class=\"Py(10px) Pstart(10px)\"><span>29,348.03</span></td><td class=\"Py(10px) Pstart(10px)\"><span>240,640,000</span></td></tr><tr class=\"BdT Bdc($seperatorColor) Ta(end) Fz(s) Whs(nw)\"><td class=\"Py(10px) Ta(start) Pend(10px)\"><span>Feb 18, 2020</span></td><td class=\"Py(10px) Pstart(10px)\"><span>29,282.78</span></td><td class=\"Py(10px) Pstart(10px)\"><span>29,330.16</span></td><td class=\"Py(10px) Pstart(10px)\"><span>29,116.81</span></td><td class=\"Py(10px) Pstart(10px)\"><span>29,232.19</span></td><td class=\"Py(10px) Pstart(10px)\"><span>29,232.19</span></td><td class=\"Py(10px) Pstart(10px)\"><span>256,600,000</span></td></tr><tr class=\"BdT Bdc($seperatorColor) Ta(end) Fz(s) Whs(nw)\"><td class=\"Py(10px) Ta(start) Pend(10px)\"><span>Feb 14, 2020</span></td><td class=\"Py(10px) Pstart(10px)\"><span>29,440.47</span></td><td class=\"Py(10px) Pstart(10px)\"><span>29,463.04</span></td><td class=\"Py(10px) Pstart(10px)\"><span>29,283.18</span></td><td class=\"Py(10px) Pstart(10px)\"><span>29,398.08</span></td><td class=\"Py(10px) Pstart(10px)\"><span>29,398.08</span></td><td class=\"Py(10px) Pstart(10px)\"><span>231,000,000</span></td></tr><tr class=\"BdT Bdc($seperatorColor) Ta(end) Fz(s) Whs(nw)\"><td class=\"Py(10px) Ta(start) Pend(10px)\"><span>Feb 13, 2020</span></td><td class=\"Py(10px) Pstart(10px)\"><span>29,436.03</span></td><td class=\"Py(10px) Pstart(10px)\"><span>29,535.40</span></td><td class=\"Py(10px) Pstart(10px)\"><span>29,345.93</span></td><td class=\"Py(10px) Pstart(10px)\"><span>29,423.31</span></td><td class=\"Py(10px) Pstart(10px)\"><span>29,423.31</span></td><td class=\"Py(10px) Pstart(10px)\"><span>291,150,000</span></td></tr><tr class=\"BdT Bdc($seperatorColor) Ta(end) Fz(s) Whs(nw)\"><td class=\"Py(10px) Ta(start) Pend(10px)\"><span>Feb 12, 2020</span></td><td class=\"Py(10px) Pstart(10px)\"><span>29,406.75</span></td><td class=\"Py(10px) Pstart(10px)\"><span>29,568.57</span></td><td class=\"Py(10px) Pstart(10px)\"><span>29,406.75</span></td><td class=\"Py(10px) Pstart(10px)\"><span>29,551.42</span></td><td class=\"Py(10px) Pstart(10px)\"><span>29,551.42</span></td><td class=\"Py(10px) Pstart(10px)\"><span>309,530,000</span></td></tr><tr class=\"BdT Bdc($seperatorColor) Ta(end) Fz(s) Whs(nw)\"><td class=\"Py(10px) Ta(start) Pend(10px)\"><span>Feb 11, 2020</span></td><td class=\"Py(10px) Pstart(10px)\"><span>29,390.71</span></td><td class=\"Py(10px) Pstart(10px)\"><span>29,415.39</span></td><td class=\"Py(10px) Pstart(10px)\"><span>29,210.47</span></td><td class=\"Py(10px) Pstart(10px)\"><span>29,276.34</span></td><td class=\"Py(10px) Pstart(10px)\"><span>29,276.34</span></td><td class=\"Py(10px) Pstart(10px)\"><span>279,540,000</span></td></tr><tr class=\"BdT Bdc($seperatorColor) Ta(end) Fz(s) Whs(nw)\"><td class=\"Py(10px) Ta(start) Pend(10px)\"><span>Feb 10, 2020</span></td><td class=\"Py(10px) Pstart(10px)\"><span>28,995.66</span></td><td class=\"Py(10px) Pstart(10px)\"><span>29,278.07</span></td><td class=\"Py(10px) Pstart(10px)\"><span>28,995.66</span></td><td class=\"Py(10px) Pstart(10px)\"><span>29,276.82</span></td><td class=\"Py(10px) Pstart(10px)\"><span>29,276.82</span></td><td class=\"Py(10px) Pstart(10px)\"><span>250,510,000</span></td></tr><tr class=\"BdT Bdc($seperatorColor) Ta(end) Fz(s) Whs(nw)\"><td class=\"Py(10px) Ta(start) Pend(10px)\"><span>Feb 07, 2020</span></td><td class=\"Py(10px) Pstart(10px)\"><span>29,286.92</span></td><td class=\"Py(10px) Pstart(10px)\"><span>29,286.92</span></td><td class=\"Py(10px) Pstart(10px)\"><span>29,056.98</span></td><td class=\"Py(10px) Pstart(10px)\"><span>29,102.51</span></td><td class=\"Py(10px) Pstart(10px)\"><span>29,102.51</span></td><td class=\"Py(10px) Pstart(10px)\"><span>252,860,000</span></td></tr><tr class=\"BdT Bdc($seperatorColor) Ta(end) Fz(s) Whs(nw)\"><td class=\"Py(10px) Ta(start) Pend(10px)\"><span>Feb 06, 2020</span></td><td class=\"Py(10px) Pstart(10px)\"><span>29,388.58</span></td><td class=\"Py(10px) Pstart(10px)\"><span>29,408.05</span></td><td class=\"Py(10px) Pstart(10px)\"><span>29,246.93</span></td><td class=\"Py(10px) Pstart(10px)\"><span>29,379.77</span></td><td class=\"Py(10px) Pstart(10px)\"><span>29,379.77</span></td><td class=\"Py(10px) Pstart(10px)\"><span>263,700,000</span></td></tr><tr class=\"BdT Bdc($seperatorColor) Ta(end) Fz(s) Whs(nw)\"><td class=\"Py(10px) Ta(start) Pend(10px)\"><span>Feb 05, 2020</span></td><td class=\"Py(10px) Pstart(10px)\"><span>29,048.73</span></td><td class=\"Py(10px) Pstart(10px)\"><span>29,308.89</span></td><td class=\"Py(10px) Pstart(10px)\"><span>29,000.85</span></td><td class=\"Py(10px) Pstart(10px)\"><span>29,290.85</span></td><td class=\"Py(10px) Pstart(10px)\"><span>29,290.85</span></td><td class=\"Py(10px) Pstart(10px)\"><span>357,540,000</span></td></tr><tr class=\"BdT Bdc($seperatorColor) Ta(end) Fz(s) Whs(nw)\"><td class=\"Py(10px) Ta(start) Pend(10px)\"><span>Feb 04, 2020</span></td><td class=\"Py(10px) Pstart(10px)\"><span>28,696.74</span></td><td class=\"Py(10px) Pstart(10px)\"><span>28,904.88</span></td><td class=\"Py(10px) Pstart(10px)\"><span>28,696.74</span></td><td class=\"Py(10px) Pstart(10px)\"><span>28,807.63</span></td><td class=\"Py(10px) Pstart(10px)\"><span>28,807.63</span></td><td class=\"Py(10px) Pstart(10px)\"><span>332,750,000</span></td></tr></tbody><tfoot><tr class=\"BdT Bdc($seperatorColor) C($tertiaryColor) H(36px)\"><td class=\"Fz(xs)\" colspan=\"7\"><span>*Close price adjusted for splits.</span><span class=\"Mstart(20px)\"><span>**Adjusted close price adjusted for both dividends and splits.</span></span></td></tr></tfoot></table>"
   ]
  },
  {
   "cell_type": "code",
   "execution_count": null,
   "metadata": {},
   "outputs": [],
   "source": [
    "api_key = 'B452V7HACZETN0QU'"
   ]
  },
  {
   "cell_type": "code",
   "execution_count": null,
   "metadata": {},
   "outputs": [],
   "source": [
    "ts = TimeSeries(key=api_key, output_format='pandas')"
   ]
  },
  {
   "cell_type": "code",
   "execution_count": null,
   "metadata": {},
   "outputs": [],
   "source": [
    "import requests\n",
    "\n",
    "url = \"https://apidojo-yahoo-finance-v1.p.rapidapi.com/stock/v2/get-balance-sheet\"\n",
    "\n",
    "querystring = {\"symbol\":\"IBM\"}\n",
    "\n",
    "headers = {\n",
    "    'x-rapidapi-host': \"apidojo-yahoo-finance-v1.p.rapidapi.com\",\n",
    "    'x-rapidapi-key': \"617248b2cemsh58dd69fa7cbabbbp1fb61fjsn2faf663508fa\"\n",
    "    }\n",
    "\n",
    "response = requests.request(\"GET\", url, headers=headers, params=querystring)\n",
    "\n",
    "print(response.text)"
   ]
  },
  {
   "cell_type": "code",
   "execution_count": null,
   "metadata": {},
   "outputs": [],
   "source": [
    "!pip install yfinance"
   ]
  }
 ],
 "metadata": {
  "kernelspec": {
   "display_name": "Python 3",
   "language": "python",
   "name": "python3"
  },
  "language_info": {
   "codemirror_mode": {
    "name": "ipython",
    "version": 3
   },
   "file_extension": ".py",
   "mimetype": "text/x-python",
   "name": "python",
   "nbconvert_exporter": "python",
   "pygments_lexer": "ipython3",
   "version": "3.7.7"
  },
  "toc": {
   "base_numbering": 1,
   "nav_menu": {},
   "number_sections": true,
   "sideBar": true,
   "skip_h1_title": false,
   "title_cell": "Table of Contents",
   "title_sidebar": "Contents",
   "toc_cell": false,
   "toc_position": {},
   "toc_section_display": true,
   "toc_window_display": false
  }
 },
 "nbformat": 4,
 "nbformat_minor": 4
}
